{
  "nbformat": 4,
  "nbformat_minor": 0,
  "metadata": {
    "colab": {
      "provenance": []
    },
    "kernelspec": {
      "name": "python3",
      "display_name": "Python 3"
    },
    "language_info": {
      "name": "python"
    }
  },
  "cells": [
    {
      "cell_type": "markdown",
      "source": [
        "# 1.Data loading"
      ],
      "metadata": {
        "id": "MeyofQ-J7qO3"
      }
    },
    {
      "cell_type": "code",
      "execution_count": 1,
      "metadata": {
        "id": "mJ3IGTTpZYN7",
        "colab": {
          "base_uri": "https://localhost:8080/",
          "height": 551
        },
        "outputId": "aff6ba97-a3b2-4cf5-da48-35bae419bd55"
      },
      "outputs": [
        {
          "output_type": "execute_result",
          "data": {
            "text/plain": [
              "   Unnamed: 0 trans_date_trans_time            cc_num  \\\n",
              "0           0   2019-01-01 00:00:18  2703186189652095   \n",
              "1           1   2019-01-01 00:00:44      630423337322   \n",
              "2           2   2019-01-01 00:00:51    38859492057661   \n",
              "3           3   2019-01-01 00:01:16  3534093764340240   \n",
              "4           4   2019-01-01 00:03:06   375534208663984   \n",
              "\n",
              "                             merchant       category     amt      first  \\\n",
              "0          fraud_Rippin, Kub and Mann       misc_net    4.97   Jennifer   \n",
              "1     fraud_Heller, Gutmann and Zieme    grocery_pos  107.23  Stephanie   \n",
              "2                fraud_Lind-Buckridge  entertainment  220.11     Edward   \n",
              "3  fraud_Kutch, Hermiston and Farrell  gas_transport   45.00     Jeremy   \n",
              "4                 fraud_Keeling-Crist       misc_pos   41.96      Tyler   \n",
              "\n",
              "      last gender                        street  ...      lat      long  \\\n",
              "0    Banks      F                561 Perry Cove  ...  36.0788  -81.1781   \n",
              "1     Gill      F  43039 Riley Greens Suite 393  ...  48.8878 -118.2105   \n",
              "2  Sanchez      M      594 White Dale Suite 530  ...  42.1808 -112.2620   \n",
              "3    White      M   9443 Cynthia Court Apt. 038  ...  46.2306 -112.1138   \n",
              "4   Garcia      M              408 Bradley Rest  ...  38.4207  -79.4629   \n",
              "\n",
              "   city_pop                                job         dob  \\\n",
              "0      3495          Psychologist, counselling  1988-03-09   \n",
              "1       149  Special educational needs teacher  1978-06-21   \n",
              "2      4154        Nature conservation officer  1962-01-19   \n",
              "3      1939                    Patent attorney  1967-01-12   \n",
              "4        99     Dance movement psychotherapist  1986-03-28   \n",
              "\n",
              "                          trans_num   unix_time  merch_lat  merch_long  \\\n",
              "0  0b242abb623afc578575680df30655b9  1325376018  36.011293  -82.048315   \n",
              "1  1f76529f8574734946361c461b024d99  1325376044  49.159047 -118.186462   \n",
              "2  a1a22d70485983eac12b5b88dad1cf95  1325376051  43.150704 -112.154481   \n",
              "3  6b849c168bdad6f867558c3793159a81  1325376076  47.034331 -112.561071   \n",
              "4  a41d7549acf90789359a9aa5346dcb46  1325376186  38.674999  -78.632459   \n",
              "\n",
              "   is_fraud  \n",
              "0         0  \n",
              "1         0  \n",
              "2         0  \n",
              "3         0  \n",
              "4         0  \n",
              "\n",
              "[5 rows x 23 columns]"
            ],
            "text/html": [
              "\n",
              "  <div id=\"df-b8b5d110-aba9-4260-9720-23b35812844e\" class=\"colab-df-container\">\n",
              "    <div>\n",
              "<style scoped>\n",
              "    .dataframe tbody tr th:only-of-type {\n",
              "        vertical-align: middle;\n",
              "    }\n",
              "\n",
              "    .dataframe tbody tr th {\n",
              "        vertical-align: top;\n",
              "    }\n",
              "\n",
              "    .dataframe thead th {\n",
              "        text-align: right;\n",
              "    }\n",
              "</style>\n",
              "<table border=\"1\" class=\"dataframe\">\n",
              "  <thead>\n",
              "    <tr style=\"text-align: right;\">\n",
              "      <th></th>\n",
              "      <th>Unnamed: 0</th>\n",
              "      <th>trans_date_trans_time</th>\n",
              "      <th>cc_num</th>\n",
              "      <th>merchant</th>\n",
              "      <th>category</th>\n",
              "      <th>amt</th>\n",
              "      <th>first</th>\n",
              "      <th>last</th>\n",
              "      <th>gender</th>\n",
              "      <th>street</th>\n",
              "      <th>...</th>\n",
              "      <th>lat</th>\n",
              "      <th>long</th>\n",
              "      <th>city_pop</th>\n",
              "      <th>job</th>\n",
              "      <th>dob</th>\n",
              "      <th>trans_num</th>\n",
              "      <th>unix_time</th>\n",
              "      <th>merch_lat</th>\n",
              "      <th>merch_long</th>\n",
              "      <th>is_fraud</th>\n",
              "    </tr>\n",
              "  </thead>\n",
              "  <tbody>\n",
              "    <tr>\n",
              "      <th>0</th>\n",
              "      <td>0</td>\n",
              "      <td>2019-01-01 00:00:18</td>\n",
              "      <td>2703186189652095</td>\n",
              "      <td>fraud_Rippin, Kub and Mann</td>\n",
              "      <td>misc_net</td>\n",
              "      <td>4.97</td>\n",
              "      <td>Jennifer</td>\n",
              "      <td>Banks</td>\n",
              "      <td>F</td>\n",
              "      <td>561 Perry Cove</td>\n",
              "      <td>...</td>\n",
              "      <td>36.0788</td>\n",
              "      <td>-81.1781</td>\n",
              "      <td>3495</td>\n",
              "      <td>Psychologist, counselling</td>\n",
              "      <td>1988-03-09</td>\n",
              "      <td>0b242abb623afc578575680df30655b9</td>\n",
              "      <td>1325376018</td>\n",
              "      <td>36.011293</td>\n",
              "      <td>-82.048315</td>\n",
              "      <td>0</td>\n",
              "    </tr>\n",
              "    <tr>\n",
              "      <th>1</th>\n",
              "      <td>1</td>\n",
              "      <td>2019-01-01 00:00:44</td>\n",
              "      <td>630423337322</td>\n",
              "      <td>fraud_Heller, Gutmann and Zieme</td>\n",
              "      <td>grocery_pos</td>\n",
              "      <td>107.23</td>\n",
              "      <td>Stephanie</td>\n",
              "      <td>Gill</td>\n",
              "      <td>F</td>\n",
              "      <td>43039 Riley Greens Suite 393</td>\n",
              "      <td>...</td>\n",
              "      <td>48.8878</td>\n",
              "      <td>-118.2105</td>\n",
              "      <td>149</td>\n",
              "      <td>Special educational needs teacher</td>\n",
              "      <td>1978-06-21</td>\n",
              "      <td>1f76529f8574734946361c461b024d99</td>\n",
              "      <td>1325376044</td>\n",
              "      <td>49.159047</td>\n",
              "      <td>-118.186462</td>\n",
              "      <td>0</td>\n",
              "    </tr>\n",
              "    <tr>\n",
              "      <th>2</th>\n",
              "      <td>2</td>\n",
              "      <td>2019-01-01 00:00:51</td>\n",
              "      <td>38859492057661</td>\n",
              "      <td>fraud_Lind-Buckridge</td>\n",
              "      <td>entertainment</td>\n",
              "      <td>220.11</td>\n",
              "      <td>Edward</td>\n",
              "      <td>Sanchez</td>\n",
              "      <td>M</td>\n",
              "      <td>594 White Dale Suite 530</td>\n",
              "      <td>...</td>\n",
              "      <td>42.1808</td>\n",
              "      <td>-112.2620</td>\n",
              "      <td>4154</td>\n",
              "      <td>Nature conservation officer</td>\n",
              "      <td>1962-01-19</td>\n",
              "      <td>a1a22d70485983eac12b5b88dad1cf95</td>\n",
              "      <td>1325376051</td>\n",
              "      <td>43.150704</td>\n",
              "      <td>-112.154481</td>\n",
              "      <td>0</td>\n",
              "    </tr>\n",
              "    <tr>\n",
              "      <th>3</th>\n",
              "      <td>3</td>\n",
              "      <td>2019-01-01 00:01:16</td>\n",
              "      <td>3534093764340240</td>\n",
              "      <td>fraud_Kutch, Hermiston and Farrell</td>\n",
              "      <td>gas_transport</td>\n",
              "      <td>45.00</td>\n",
              "      <td>Jeremy</td>\n",
              "      <td>White</td>\n",
              "      <td>M</td>\n",
              "      <td>9443 Cynthia Court Apt. 038</td>\n",
              "      <td>...</td>\n",
              "      <td>46.2306</td>\n",
              "      <td>-112.1138</td>\n",
              "      <td>1939</td>\n",
              "      <td>Patent attorney</td>\n",
              "      <td>1967-01-12</td>\n",
              "      <td>6b849c168bdad6f867558c3793159a81</td>\n",
              "      <td>1325376076</td>\n",
              "      <td>47.034331</td>\n",
              "      <td>-112.561071</td>\n",
              "      <td>0</td>\n",
              "    </tr>\n",
              "    <tr>\n",
              "      <th>4</th>\n",
              "      <td>4</td>\n",
              "      <td>2019-01-01 00:03:06</td>\n",
              "      <td>375534208663984</td>\n",
              "      <td>fraud_Keeling-Crist</td>\n",
              "      <td>misc_pos</td>\n",
              "      <td>41.96</td>\n",
              "      <td>Tyler</td>\n",
              "      <td>Garcia</td>\n",
              "      <td>M</td>\n",
              "      <td>408 Bradley Rest</td>\n",
              "      <td>...</td>\n",
              "      <td>38.4207</td>\n",
              "      <td>-79.4629</td>\n",
              "      <td>99</td>\n",
              "      <td>Dance movement psychotherapist</td>\n",
              "      <td>1986-03-28</td>\n",
              "      <td>a41d7549acf90789359a9aa5346dcb46</td>\n",
              "      <td>1325376186</td>\n",
              "      <td>38.674999</td>\n",
              "      <td>-78.632459</td>\n",
              "      <td>0</td>\n",
              "    </tr>\n",
              "  </tbody>\n",
              "</table>\n",
              "<p>5 rows × 23 columns</p>\n",
              "</div>\n",
              "    <div class=\"colab-df-buttons\">\n",
              "\n",
              "  <div class=\"colab-df-container\">\n",
              "    <button class=\"colab-df-convert\" onclick=\"convertToInteractive('df-b8b5d110-aba9-4260-9720-23b35812844e')\"\n",
              "            title=\"Convert this dataframe to an interactive table.\"\n",
              "            style=\"display:none;\">\n",
              "\n",
              "  <svg xmlns=\"http://www.w3.org/2000/svg\" height=\"24px\" viewBox=\"0 -960 960 960\">\n",
              "    <path d=\"M120-120v-720h720v720H120Zm60-500h600v-160H180v160Zm220 220h160v-160H400v160Zm0 220h160v-160H400v160ZM180-400h160v-160H180v160Zm440 0h160v-160H620v160ZM180-180h160v-160H180v160Zm440 0h160v-160H620v160Z\"/>\n",
              "  </svg>\n",
              "    </button>\n",
              "\n",
              "  <style>\n",
              "    .colab-df-container {\n",
              "      display:flex;\n",
              "      gap: 12px;\n",
              "    }\n",
              "\n",
              "    .colab-df-convert {\n",
              "      background-color: #E8F0FE;\n",
              "      border: none;\n",
              "      border-radius: 50%;\n",
              "      cursor: pointer;\n",
              "      display: none;\n",
              "      fill: #1967D2;\n",
              "      height: 32px;\n",
              "      padding: 0 0 0 0;\n",
              "      width: 32px;\n",
              "    }\n",
              "\n",
              "    .colab-df-convert:hover {\n",
              "      background-color: #E2EBFA;\n",
              "      box-shadow: 0px 1px 2px rgba(60, 64, 67, 0.3), 0px 1px 3px 1px rgba(60, 64, 67, 0.15);\n",
              "      fill: #174EA6;\n",
              "    }\n",
              "\n",
              "    .colab-df-buttons div {\n",
              "      margin-bottom: 4px;\n",
              "    }\n",
              "\n",
              "    [theme=dark] .colab-df-convert {\n",
              "      background-color: #3B4455;\n",
              "      fill: #D2E3FC;\n",
              "    }\n",
              "\n",
              "    [theme=dark] .colab-df-convert:hover {\n",
              "      background-color: #434B5C;\n",
              "      box-shadow: 0px 1px 3px 1px rgba(0, 0, 0, 0.15);\n",
              "      filter: drop-shadow(0px 1px 2px rgba(0, 0, 0, 0.3));\n",
              "      fill: #FFFFFF;\n",
              "    }\n",
              "  </style>\n",
              "\n",
              "    <script>\n",
              "      const buttonEl =\n",
              "        document.querySelector('#df-b8b5d110-aba9-4260-9720-23b35812844e button.colab-df-convert');\n",
              "      buttonEl.style.display =\n",
              "        google.colab.kernel.accessAllowed ? 'block' : 'none';\n",
              "\n",
              "      async function convertToInteractive(key) {\n",
              "        const element = document.querySelector('#df-b8b5d110-aba9-4260-9720-23b35812844e');\n",
              "        const dataTable =\n",
              "          await google.colab.kernel.invokeFunction('convertToInteractive',\n",
              "                                                    [key], {});\n",
              "        if (!dataTable) return;\n",
              "\n",
              "        const docLinkHtml = 'Like what you see? Visit the ' +\n",
              "          '<a target=\"_blank\" href=https://colab.research.google.com/notebooks/data_table.ipynb>data table notebook</a>'\n",
              "          + ' to learn more about interactive tables.';\n",
              "        element.innerHTML = '';\n",
              "        dataTable['output_type'] = 'display_data';\n",
              "        await google.colab.output.renderOutput(dataTable, element);\n",
              "        const docLink = document.createElement('div');\n",
              "        docLink.innerHTML = docLinkHtml;\n",
              "        element.appendChild(docLink);\n",
              "      }\n",
              "    </script>\n",
              "  </div>\n",
              "\n",
              "\n",
              "<div id=\"df-0a0df5fd-444a-492b-9ff6-718417f65bd0\">\n",
              "  <button class=\"colab-df-quickchart\" onclick=\"quickchart('df-0a0df5fd-444a-492b-9ff6-718417f65bd0')\"\n",
              "            title=\"Suggest charts\"\n",
              "            style=\"display:none;\">\n",
              "\n",
              "<svg xmlns=\"http://www.w3.org/2000/svg\" height=\"24px\"viewBox=\"0 0 24 24\"\n",
              "     width=\"24px\">\n",
              "    <g>\n",
              "        <path d=\"M19 3H5c-1.1 0-2 .9-2 2v14c0 1.1.9 2 2 2h14c1.1 0 2-.9 2-2V5c0-1.1-.9-2-2-2zM9 17H7v-7h2v7zm4 0h-2V7h2v10zm4 0h-2v-4h2v4z\"/>\n",
              "    </g>\n",
              "</svg>\n",
              "  </button>\n",
              "\n",
              "<style>\n",
              "  .colab-df-quickchart {\n",
              "      --bg-color: #E8F0FE;\n",
              "      --fill-color: #1967D2;\n",
              "      --hover-bg-color: #E2EBFA;\n",
              "      --hover-fill-color: #174EA6;\n",
              "      --disabled-fill-color: #AAA;\n",
              "      --disabled-bg-color: #DDD;\n",
              "  }\n",
              "\n",
              "  [theme=dark] .colab-df-quickchart {\n",
              "      --bg-color: #3B4455;\n",
              "      --fill-color: #D2E3FC;\n",
              "      --hover-bg-color: #434B5C;\n",
              "      --hover-fill-color: #FFFFFF;\n",
              "      --disabled-bg-color: #3B4455;\n",
              "      --disabled-fill-color: #666;\n",
              "  }\n",
              "\n",
              "  .colab-df-quickchart {\n",
              "    background-color: var(--bg-color);\n",
              "    border: none;\n",
              "    border-radius: 50%;\n",
              "    cursor: pointer;\n",
              "    display: none;\n",
              "    fill: var(--fill-color);\n",
              "    height: 32px;\n",
              "    padding: 0;\n",
              "    width: 32px;\n",
              "  }\n",
              "\n",
              "  .colab-df-quickchart:hover {\n",
              "    background-color: var(--hover-bg-color);\n",
              "    box-shadow: 0 1px 2px rgba(60, 64, 67, 0.3), 0 1px 3px 1px rgba(60, 64, 67, 0.15);\n",
              "    fill: var(--button-hover-fill-color);\n",
              "  }\n",
              "\n",
              "  .colab-df-quickchart-complete:disabled,\n",
              "  .colab-df-quickchart-complete:disabled:hover {\n",
              "    background-color: var(--disabled-bg-color);\n",
              "    fill: var(--disabled-fill-color);\n",
              "    box-shadow: none;\n",
              "  }\n",
              "\n",
              "  .colab-df-spinner {\n",
              "    border: 2px solid var(--fill-color);\n",
              "    border-color: transparent;\n",
              "    border-bottom-color: var(--fill-color);\n",
              "    animation:\n",
              "      spin 1s steps(1) infinite;\n",
              "  }\n",
              "\n",
              "  @keyframes spin {\n",
              "    0% {\n",
              "      border-color: transparent;\n",
              "      border-bottom-color: var(--fill-color);\n",
              "      border-left-color: var(--fill-color);\n",
              "    }\n",
              "    20% {\n",
              "      border-color: transparent;\n",
              "      border-left-color: var(--fill-color);\n",
              "      border-top-color: var(--fill-color);\n",
              "    }\n",
              "    30% {\n",
              "      border-color: transparent;\n",
              "      border-left-color: var(--fill-color);\n",
              "      border-top-color: var(--fill-color);\n",
              "      border-right-color: var(--fill-color);\n",
              "    }\n",
              "    40% {\n",
              "      border-color: transparent;\n",
              "      border-right-color: var(--fill-color);\n",
              "      border-top-color: var(--fill-color);\n",
              "    }\n",
              "    60% {\n",
              "      border-color: transparent;\n",
              "      border-right-color: var(--fill-color);\n",
              "    }\n",
              "    80% {\n",
              "      border-color: transparent;\n",
              "      border-right-color: var(--fill-color);\n",
              "      border-bottom-color: var(--fill-color);\n",
              "    }\n",
              "    90% {\n",
              "      border-color: transparent;\n",
              "      border-bottom-color: var(--fill-color);\n",
              "    }\n",
              "  }\n",
              "</style>\n",
              "\n",
              "  <script>\n",
              "    async function quickchart(key) {\n",
              "      const quickchartButtonEl =\n",
              "        document.querySelector('#' + key + ' button');\n",
              "      quickchartButtonEl.disabled = true;  // To prevent multiple clicks.\n",
              "      quickchartButtonEl.classList.add('colab-df-spinner');\n",
              "      try {\n",
              "        const charts = await google.colab.kernel.invokeFunction(\n",
              "            'suggestCharts', [key], {});\n",
              "      } catch (error) {\n",
              "        console.error('Error during call to suggestCharts:', error);\n",
              "      }\n",
              "      quickchartButtonEl.classList.remove('colab-df-spinner');\n",
              "      quickchartButtonEl.classList.add('colab-df-quickchart-complete');\n",
              "    }\n",
              "    (() => {\n",
              "      let quickchartButtonEl =\n",
              "        document.querySelector('#df-0a0df5fd-444a-492b-9ff6-718417f65bd0 button');\n",
              "      quickchartButtonEl.style.display =\n",
              "        google.colab.kernel.accessAllowed ? 'block' : 'none';\n",
              "    })();\n",
              "  </script>\n",
              "</div>\n",
              "\n",
              "    </div>\n",
              "  </div>\n"
            ],
            "application/vnd.google.colaboratory.intrinsic+json": {
              "type": "dataframe",
              "variable_name": "data"
            }
          },
          "metadata": {},
          "execution_count": 1
        }
      ],
      "source": [
        "import pandas as pd\n",
        "\n",
        "data = pd.read_csv(\"/content/drive/Othercomputers/Mój komputer/PROJECTS/Fraud_detection/RAW_DATA/fraudTrain.csv\")\n",
        "test_data=pd.read_csv(\"/content/drive/Othercomputers/Mój komputer/PROJECTS/Fraud_detection/RAW_DATA/fraudTest.csv\")\n",
        "data.head()  # Wyświetlenie pierwszych wierszy\n"
      ]
    },
    {
      "cell_type": "code",
      "source": [],
      "metadata": {
        "id": "LtOVlpYLee6z"
      },
      "execution_count": 1,
      "outputs": []
    },
    {
      "cell_type": "markdown",
      "source": [
        "We need to decide how to preprocess which column. Which of them are useless and should be deleted, which are good as they are, and which we must preprocess a little to get more meaningfull data."
      ],
      "metadata": {
        "id": "OBH7suMq3M3y"
      }
    },
    {
      "cell_type": "markdown",
      "source": [
        "**Transaction Info**\n",
        "\n",
        "-Amount -->AMOUNTS\n",
        "\n",
        "-trans_date_trans_time -->Date/Time/Day_of_week\n",
        "\n",
        "-cc_num -->user_id\n",
        "\n",
        "-merchant --> Merchant_id\n",
        "\n",
        "-category --> category_fraud_rate(Target Encoding)\n",
        "\n",
        "-lat -->DISTANCES\n",
        "\n",
        "-long -->DISTANCES\n",
        "\n",
        "\n",
        "**Customer Info**\n",
        "\n",
        "-first --> DEL\n",
        "\n",
        "-last --> DEL\n",
        "\n",
        "-gender --> is_M (1,0)\n",
        "\n",
        "-street -->DEL\n",
        "\n",
        "-city -->DEL\n",
        "\n",
        "-state -->state_fraud_rate(Target Encoding)\n",
        "\n",
        "-zip --->DEL\n",
        "\n",
        "-city_pop\n",
        "\n",
        "-job --> job_fraud_rate (Target Encoding)\n",
        "\n",
        "-dob -->Age\n",
        "\n",
        "-trans_num -->DEL\n",
        "\n",
        "**Merchant info**\n",
        "\n",
        "-merch_lat --> DISTANCES\n",
        "\n",
        "-merch_long --DISTANCES\n",
        "\n",
        "\n"
      ],
      "metadata": {
        "id": "lBEXecCGfJo6"
      }
    },
    {
      "cell_type": "markdown",
      "source": [
        "**To add based on info we have**\n",
        "\n",
        "-----DISTANCES-----\n",
        "\n",
        "-Distance from merchant\n",
        "\n",
        "-IS New_place\n",
        "\n",
        "-Distance from last transaction\n",
        "\n",
        "-----TIMES-----\n",
        "\n",
        "-Transaction velocity(1h)\n",
        "\n",
        "-Transaction velocity(24h)\n",
        "\n",
        "-time since last transation\n",
        "\n",
        "-----AMOUNTS-----\n",
        "\n",
        "-Max_transaction amount\n",
        "\n",
        "-Median transacion amount\n",
        "\n",
        "-diff_from_median\n",
        "\n",
        "---\n"
      ],
      "metadata": {
        "id": "KQNR_Qb0hymx"
      }
    },
    {
      "cell_type": "markdown",
      "source": [
        "# 2.Deleting useless features\n",
        "\n",
        "first, last, street, city, zip, trans_num"
      ],
      "metadata": {
        "id": "qheiUUcY7n-q"
      }
    },
    {
      "cell_type": "code",
      "source": [
        "features_to_delete = ['first', 'last', 'street', 'city', 'zip', 'trans_num','unix_time']\n",
        "data = data.drop(columns=features_to_delete)\n",
        "test_data = test_data.drop(columns=features_to_delete)\n"
      ],
      "metadata": {
        "id": "jpwaIyGlfQ6z"
      },
      "execution_count": 2,
      "outputs": []
    },
    {
      "cell_type": "markdown",
      "source": [
        "# 3.Transforming Features\n",
        "\n",
        "trans_date_trans_time , cc_num , merchant , category, gender , state, job , dob\n",
        "\n",
        "Renaming, changing type, Encoding"
      ],
      "metadata": {
        "id": "ybfFy96j81ju"
      }
    },
    {
      "cell_type": "code",
      "source": [
        "features_to_transform = ['trans_date_trans_time', 'cc_num', 'merchant', 'category', 'gender', 'state','job','dob']"
      ],
      "metadata": {
        "id": "L19utl4G8yth"
      },
      "execution_count": 3,
      "outputs": []
    },
    {
      "cell_type": "markdown",
      "source": [
        "It is string so at first we must change type"
      ],
      "metadata": {
        "id": "8leucSHv-7JP"
      }
    },
    {
      "cell_type": "markdown",
      "source": [
        "## 3.1 Date preprocessing\n",
        "\n",
        "We want to turn trans_date_trans_time into 3 seperate new columns: date,day_of_week, time."
      ],
      "metadata": {
        "id": "_U1K2WnK-b1E"
      }
    },
    {
      "cell_type": "code",
      "source": [
        "data['trans_date_trans_time'] = pd.to_datetime(data['trans_date_trans_time'])\n",
        "test_data['trans_date_trans_time'] = pd.to_datetime(test_data['trans_date_trans_time'])"
      ],
      "metadata": {
        "id": "hVykAKYp_VA2"
      },
      "execution_count": 4,
      "outputs": []
    },
    {
      "cell_type": "code",
      "source": [
        "data['trans_date_trans_time'][:5]"
      ],
      "metadata": {
        "id": "Fgf06dEv95ea",
        "colab": {
          "base_uri": "https://localhost:8080/",
          "height": 241
        },
        "outputId": "ab0f2d36-d6e0-4bfa-8cd0-ecdbb7165fb4"
      },
      "execution_count": 5,
      "outputs": [
        {
          "output_type": "execute_result",
          "data": {
            "text/plain": [
              "0   2019-01-01 00:00:18\n",
              "1   2019-01-01 00:00:44\n",
              "2   2019-01-01 00:00:51\n",
              "3   2019-01-01 00:01:16\n",
              "4   2019-01-01 00:03:06\n",
              "Name: trans_date_trans_time, dtype: datetime64[ns]"
            ],
            "text/html": [
              "<div>\n",
              "<style scoped>\n",
              "    .dataframe tbody tr th:only-of-type {\n",
              "        vertical-align: middle;\n",
              "    }\n",
              "\n",
              "    .dataframe tbody tr th {\n",
              "        vertical-align: top;\n",
              "    }\n",
              "\n",
              "    .dataframe thead th {\n",
              "        text-align: right;\n",
              "    }\n",
              "</style>\n",
              "<table border=\"1\" class=\"dataframe\">\n",
              "  <thead>\n",
              "    <tr style=\"text-align: right;\">\n",
              "      <th></th>\n",
              "      <th>trans_date_trans_time</th>\n",
              "    </tr>\n",
              "  </thead>\n",
              "  <tbody>\n",
              "    <tr>\n",
              "      <th>0</th>\n",
              "      <td>2019-01-01 00:00:18</td>\n",
              "    </tr>\n",
              "    <tr>\n",
              "      <th>1</th>\n",
              "      <td>2019-01-01 00:00:44</td>\n",
              "    </tr>\n",
              "    <tr>\n",
              "      <th>2</th>\n",
              "      <td>2019-01-01 00:00:51</td>\n",
              "    </tr>\n",
              "    <tr>\n",
              "      <th>3</th>\n",
              "      <td>2019-01-01 00:01:16</td>\n",
              "    </tr>\n",
              "    <tr>\n",
              "      <th>4</th>\n",
              "      <td>2019-01-01 00:03:06</td>\n",
              "    </tr>\n",
              "  </tbody>\n",
              "</table>\n",
              "</div><br><label><b>dtype:</b> datetime64[ns]</label>"
            ]
          },
          "metadata": {},
          "execution_count": 5
        }
      ]
    },
    {
      "cell_type": "markdown",
      "source": [
        "We can now extract time and date"
      ],
      "metadata": {
        "id": "8ywqXbnd_i68"
      }
    },
    {
      "cell_type": "code",
      "source": [
        "data['trans_date'] = data['trans_date_trans_time'].dt.date\n",
        "data['trans_time'] = data['trans_date_trans_time'].dt.time\n",
        "data['day_of_week'] = data['trans_date_trans_time'].dt.dayofweek\n",
        "\n",
        "test_data['trans_date'] = test_data['trans_date_trans_time'].dt.date\n",
        "test_data['trans_time'] = test_data['trans_date_trans_time'].dt.time\n",
        "test_data['day_of_week'] = test_data['trans_date_trans_time'].dt.dayofweek"
      ],
      "metadata": {
        "id": "HgZbPP1K_dhP"
      },
      "execution_count": 6,
      "outputs": []
    },
    {
      "cell_type": "code",
      "source": [
        "data['trans_date'][:5]"
      ],
      "metadata": {
        "id": "QSntaq1g_h1s",
        "colab": {
          "base_uri": "https://localhost:8080/",
          "height": 241
        },
        "outputId": "ceb94e80-3a6e-4207-d6fc-448d56d81744"
      },
      "execution_count": 7,
      "outputs": [
        {
          "output_type": "execute_result",
          "data": {
            "text/plain": [
              "0    2019-01-01\n",
              "1    2019-01-01\n",
              "2    2019-01-01\n",
              "3    2019-01-01\n",
              "4    2019-01-01\n",
              "Name: trans_date, dtype: object"
            ],
            "text/html": [
              "<div>\n",
              "<style scoped>\n",
              "    .dataframe tbody tr th:only-of-type {\n",
              "        vertical-align: middle;\n",
              "    }\n",
              "\n",
              "    .dataframe tbody tr th {\n",
              "        vertical-align: top;\n",
              "    }\n",
              "\n",
              "    .dataframe thead th {\n",
              "        text-align: right;\n",
              "    }\n",
              "</style>\n",
              "<table border=\"1\" class=\"dataframe\">\n",
              "  <thead>\n",
              "    <tr style=\"text-align: right;\">\n",
              "      <th></th>\n",
              "      <th>trans_date</th>\n",
              "    </tr>\n",
              "  </thead>\n",
              "  <tbody>\n",
              "    <tr>\n",
              "      <th>0</th>\n",
              "      <td>2019-01-01</td>\n",
              "    </tr>\n",
              "    <tr>\n",
              "      <th>1</th>\n",
              "      <td>2019-01-01</td>\n",
              "    </tr>\n",
              "    <tr>\n",
              "      <th>2</th>\n",
              "      <td>2019-01-01</td>\n",
              "    </tr>\n",
              "    <tr>\n",
              "      <th>3</th>\n",
              "      <td>2019-01-01</td>\n",
              "    </tr>\n",
              "    <tr>\n",
              "      <th>4</th>\n",
              "      <td>2019-01-01</td>\n",
              "    </tr>\n",
              "  </tbody>\n",
              "</table>\n",
              "</div><br><label><b>dtype:</b> object</label>"
            ]
          },
          "metadata": {},
          "execution_count": 7
        }
      ]
    },
    {
      "cell_type": "code",
      "source": [
        "data['trans_time'][:5]"
      ],
      "metadata": {
        "id": "vNnRYx_o_uTa",
        "colab": {
          "base_uri": "https://localhost:8080/",
          "height": 241
        },
        "outputId": "ecef2d55-7912-47f5-893f-342095461858"
      },
      "execution_count": 8,
      "outputs": [
        {
          "output_type": "execute_result",
          "data": {
            "text/plain": [
              "0    00:00:18\n",
              "1    00:00:44\n",
              "2    00:00:51\n",
              "3    00:01:16\n",
              "4    00:03:06\n",
              "Name: trans_time, dtype: object"
            ],
            "text/html": [
              "<div>\n",
              "<style scoped>\n",
              "    .dataframe tbody tr th:only-of-type {\n",
              "        vertical-align: middle;\n",
              "    }\n",
              "\n",
              "    .dataframe tbody tr th {\n",
              "        vertical-align: top;\n",
              "    }\n",
              "\n",
              "    .dataframe thead th {\n",
              "        text-align: right;\n",
              "    }\n",
              "</style>\n",
              "<table border=\"1\" class=\"dataframe\">\n",
              "  <thead>\n",
              "    <tr style=\"text-align: right;\">\n",
              "      <th></th>\n",
              "      <th>trans_time</th>\n",
              "    </tr>\n",
              "  </thead>\n",
              "  <tbody>\n",
              "    <tr>\n",
              "      <th>0</th>\n",
              "      <td>00:00:18</td>\n",
              "    </tr>\n",
              "    <tr>\n",
              "      <th>1</th>\n",
              "      <td>00:00:44</td>\n",
              "    </tr>\n",
              "    <tr>\n",
              "      <th>2</th>\n",
              "      <td>00:00:51</td>\n",
              "    </tr>\n",
              "    <tr>\n",
              "      <th>3</th>\n",
              "      <td>00:01:16</td>\n",
              "    </tr>\n",
              "    <tr>\n",
              "      <th>4</th>\n",
              "      <td>00:03:06</td>\n",
              "    </tr>\n",
              "  </tbody>\n",
              "</table>\n",
              "</div><br><label><b>dtype:</b> object</label>"
            ]
          },
          "metadata": {},
          "execution_count": 8
        }
      ]
    },
    {
      "cell_type": "code",
      "source": [
        "data['day_of_week'][:5]"
      ],
      "metadata": {
        "id": "9S35VmpvAYmz",
        "colab": {
          "base_uri": "https://localhost:8080/",
          "height": 241
        },
        "outputId": "214a42b4-32d5-4090-e3d3-3464d09e0eca"
      },
      "execution_count": 9,
      "outputs": [
        {
          "output_type": "execute_result",
          "data": {
            "text/plain": [
              "0    1\n",
              "1    1\n",
              "2    1\n",
              "3    1\n",
              "4    1\n",
              "Name: day_of_week, dtype: int32"
            ],
            "text/html": [
              "<div>\n",
              "<style scoped>\n",
              "    .dataframe tbody tr th:only-of-type {\n",
              "        vertical-align: middle;\n",
              "    }\n",
              "\n",
              "    .dataframe tbody tr th {\n",
              "        vertical-align: top;\n",
              "    }\n",
              "\n",
              "    .dataframe thead th {\n",
              "        text-align: right;\n",
              "    }\n",
              "</style>\n",
              "<table border=\"1\" class=\"dataframe\">\n",
              "  <thead>\n",
              "    <tr style=\"text-align: right;\">\n",
              "      <th></th>\n",
              "      <th>day_of_week</th>\n",
              "    </tr>\n",
              "  </thead>\n",
              "  <tbody>\n",
              "    <tr>\n",
              "      <th>0</th>\n",
              "      <td>1</td>\n",
              "    </tr>\n",
              "    <tr>\n",
              "      <th>1</th>\n",
              "      <td>1</td>\n",
              "    </tr>\n",
              "    <tr>\n",
              "      <th>2</th>\n",
              "      <td>1</td>\n",
              "    </tr>\n",
              "    <tr>\n",
              "      <th>3</th>\n",
              "      <td>1</td>\n",
              "    </tr>\n",
              "    <tr>\n",
              "      <th>4</th>\n",
              "      <td>1</td>\n",
              "    </tr>\n",
              "  </tbody>\n",
              "</table>\n",
              "</div><br><label><b>dtype:</b> int32</label>"
            ]
          },
          "metadata": {},
          "execution_count": 9
        }
      ]
    },
    {
      "cell_type": "code",
      "source": [
        "data.drop(columns=['trans_date_trans_time'], inplace=True)\n",
        "test_data.drop(columns=['trans_date_trans_time'], inplace=True)"
      ],
      "metadata": {
        "id": "CFNh3UYOaL5F"
      },
      "execution_count": 10,
      "outputs": []
    },
    {
      "cell_type": "markdown",
      "source": [
        "## Target Encoding\n",
        "\n",
        "This technic is basically calculating average fraud rate per category and putting it as a value in feature. For example states. We can give every state, unique id from 0 to 49, but we can also calcualte fraud rate for every state and just give it straight to our model. This way it do not need to find patterns in fraud rates by state, it can have it immediatelly, thanks to historical data.\n",
        "\n",
        "It works good in linear models, neural network, and KNN alghorithms.\n",
        "\n",
        "But it also got some flaws. Tree based models prefer categorical features.\n",
        " When the sample of records for category is very small (for example 3 records), then this can really skew model weights. If one of this three records is fraud, then fraud rate for this category will be 33.33% which is of course insanely high.\n",
        "\n",
        " So, At first we will check if feature have predispositions for Target Encoding, if it has enough records.\n",
        "\n",
        " We don't know for now which models we will use later so features with predispositions will have normal, categorical feature AND Target Encoding feature.\n",
        "\n",
        " We will get rid of one after deciding which models we will be using"
      ],
      "metadata": {
        "id": "37VIgVbfKoIN"
      }
    },
    {
      "cell_type": "markdown",
      "source": [
        "Distribution ploting function"
      ],
      "metadata": {
        "id": "7npFbc7VwiVj"
      }
    },
    {
      "cell_type": "code",
      "source": [
        "import pandas as pd\n",
        "import matplotlib.pyplot as plt\n",
        "\n",
        "def plot_column_distribution(column_name,dataset):\n",
        "\n",
        "    value_counts = dataset[column_name].value_counts()\n",
        "\n",
        "    avg_count = value_counts.mean()\n",
        "    print(f\"Average number of transactions per {column_name}: {avg_count:.2f}\")\n",
        "\n",
        "    plt.figure(figsize=(10, 5))\n",
        "    plt.hist(value_counts, bins=50, edgecolor='black')\n",
        "    plt.xlabel(f\"Number of occurrences per {column_name}\")\n",
        "    plt.ylabel(\"Number of unique values\")\n",
        "    plt.title(f\"Distribution of occurrences for {column_name}\")\n",
        "    plt.grid(axis='y', linestyle='--', alpha=0.7)\n",
        "    plt.show()\n",
        "\n"
      ],
      "metadata": {
        "id": "uMKu-r6jwB-i"
      },
      "execution_count": 11,
      "outputs": []
    },
    {
      "cell_type": "markdown",
      "source": [
        "Target encoding function"
      ],
      "metadata": {
        "id": "UHdsNn_5wgwI"
      }
    },
    {
      "cell_type": "code",
      "source": [
        "import pandas as pd\n",
        "\n",
        "def target_encode(column,dataset):\n",
        "\n",
        "    target=\"is_fraud\"\n",
        "\n",
        "    encoding_map = dataset.groupby(column)[target].mean()\n",
        "\n",
        "    dataset[f'{column}_fraud_rate'] = dataset[column].map(encoding_map)\n"
      ],
      "metadata": {
        "id": "YsmVx0BXv-u1"
      },
      "execution_count": 12,
      "outputs": []
    },
    {
      "cell_type": "markdown",
      "source": [
        "## 3.2 Credit Card number\n",
        "\n",
        "It is basically, id of credit card. It have zero information in itsefl, but it gives historical informations about frads on this card. It basically means that if model found any fraud on this card in the past, it will be more likely to find another one.\n",
        "\n",
        "We just need to change the way this feature looks. Simple cc_id with integers starting from zero, will be best here."
      ],
      "metadata": {
        "id": "oGCHWruvAeSz"
      }
    },
    {
      "cell_type": "code",
      "source": [
        "data['cc_num'][:5]"
      ],
      "metadata": {
        "id": "XGA_slmgAPSc",
        "colab": {
          "base_uri": "https://localhost:8080/",
          "height": 241
        },
        "outputId": "ed37c251-b379-4181-dbdf-4c3401a91afe"
      },
      "execution_count": 13,
      "outputs": [
        {
          "output_type": "execute_result",
          "data": {
            "text/plain": [
              "0    2703186189652095\n",
              "1        630423337322\n",
              "2      38859492057661\n",
              "3    3534093764340240\n",
              "4     375534208663984\n",
              "Name: cc_num, dtype: int64"
            ],
            "text/html": [
              "<div>\n",
              "<style scoped>\n",
              "    .dataframe tbody tr th:only-of-type {\n",
              "        vertical-align: middle;\n",
              "    }\n",
              "\n",
              "    .dataframe tbody tr th {\n",
              "        vertical-align: top;\n",
              "    }\n",
              "\n",
              "    .dataframe thead th {\n",
              "        text-align: right;\n",
              "    }\n",
              "</style>\n",
              "<table border=\"1\" class=\"dataframe\">\n",
              "  <thead>\n",
              "    <tr style=\"text-align: right;\">\n",
              "      <th></th>\n",
              "      <th>cc_num</th>\n",
              "    </tr>\n",
              "  </thead>\n",
              "  <tbody>\n",
              "    <tr>\n",
              "      <th>0</th>\n",
              "      <td>2703186189652095</td>\n",
              "    </tr>\n",
              "    <tr>\n",
              "      <th>1</th>\n",
              "      <td>630423337322</td>\n",
              "    </tr>\n",
              "    <tr>\n",
              "      <th>2</th>\n",
              "      <td>38859492057661</td>\n",
              "    </tr>\n",
              "    <tr>\n",
              "      <th>3</th>\n",
              "      <td>3534093764340240</td>\n",
              "    </tr>\n",
              "    <tr>\n",
              "      <th>4</th>\n",
              "      <td>375534208663984</td>\n",
              "    </tr>\n",
              "  </tbody>\n",
              "</table>\n",
              "</div><br><label><b>dtype:</b> int64</label>"
            ]
          },
          "metadata": {},
          "execution_count": 13
        }
      ]
    },
    {
      "cell_type": "code",
      "source": [
        "unique_cc_nums = data['cc_num'].unique()"
      ],
      "metadata": {
        "id": "JKZcqIP-DWz_"
      },
      "execution_count": 14,
      "outputs": []
    },
    {
      "cell_type": "code",
      "source": [
        "len(unique_cc_nums)"
      ],
      "metadata": {
        "id": "fRygGMe3Dacm",
        "colab": {
          "base_uri": "https://localhost:8080/"
        },
        "outputId": "0e955241-1878-4f54-a02f-3b1002eeecde"
      },
      "execution_count": 15,
      "outputs": [
        {
          "output_type": "execute_result",
          "data": {
            "text/plain": [
              "983"
            ]
          },
          "metadata": {},
          "execution_count": 15
        }
      ]
    },
    {
      "cell_type": "markdown",
      "source": [
        "We have 924 unique credit cards in our dataset"
      ],
      "metadata": {
        "id": "idL-Q6ijDh0T"
      }
    },
    {
      "cell_type": "code",
      "source": [
        "from sklearn.preprocessing import LabelEncoder\n",
        "\n",
        "le = LabelEncoder()\n",
        "\n",
        "data['cc_id'] = le.fit_transform(data['cc_num'])\n",
        "\n",
        "test_data['cc_id'] = test_data['cc_num'].apply(lambda x: le.transform([x])[0] if x in le.classes_ else -1)\n",
        "\n",
        "data.drop(columns=['cc_num'], inplace=True)\n",
        "test_data.drop(columns=['cc_num'], inplace=True)\n",
        "\n",
        "print(data[['cc_id']].head())\n",
        "print(test_data[['cc_id']].head())\n"
      ],
      "metadata": {
        "id": "ckJfKMUkCpwW",
        "colab": {
          "base_uri": "https://localhost:8080/"
        },
        "outputId": "d463e35b-1041-498f-b774-b97c54b4cac1"
      },
      "execution_count": 16,
      "outputs": [
        {
          "output_type": "stream",
          "name": "stdout",
          "text": [
            "   cc_id\n",
            "0    444\n",
            "1     42\n",
            "2    237\n",
            "3    509\n",
            "4    368\n",
            "   cc_id\n",
            "0    427\n",
            "1    584\n",
            "2    629\n",
            "3    616\n",
            "4    493\n"
          ]
        }
      ]
    },
    {
      "cell_type": "code",
      "source": [
        "cc_id_min = data['cc_id'].min()\n",
        "cc_id_max = data['cc_id'].max()\n",
        "\n",
        "print(f\"Min id: {cc_id_min}\")\n",
        "print(f\"Max id: {cc_id_max}\")"
      ],
      "metadata": {
        "id": "cSrnu-tVDGDU",
        "colab": {
          "base_uri": "https://localhost:8080/"
        },
        "outputId": "e4ebb332-1d0a-4309-d71a-ecd7296acc22"
      },
      "execution_count": 17,
      "outputs": [
        {
          "output_type": "stream",
          "name": "stdout",
          "text": [
            "Min id: 0\n",
            "Max id: 982\n"
          ]
        }
      ]
    },
    {
      "cell_type": "code",
      "source": [
        "cc_id_min = test_data['cc_id'].min()\n",
        "cc_id_max = test_data['cc_id'].max()\n",
        "\n",
        "print(f\"Min id: {cc_id_min}\")\n",
        "print(f\"Max id: {cc_id_max}\")"
      ],
      "metadata": {
        "id": "Z1rMyqKzldHQ",
        "colab": {
          "base_uri": "https://localhost:8080/"
        },
        "outputId": "29490508-ada5-458c-e25e-a7e38dd40656"
      },
      "execution_count": 18,
      "outputs": [
        {
          "output_type": "stream",
          "name": "stdout",
          "text": [
            "Min id: -1\n",
            "Max id: 982\n"
          ]
        }
      ]
    },
    {
      "cell_type": "code",
      "source": [
        "unique_cc_ids = data['cc_id'].nunique()\n",
        "\n",
        "unique_cc_ids"
      ],
      "metadata": {
        "id": "GXD2kLOTDKd8",
        "colab": {
          "base_uri": "https://localhost:8080/"
        },
        "outputId": "a74e8dd7-c485-4b56-bd4d-0fbf46d40b1d"
      },
      "execution_count": 19,
      "outputs": [
        {
          "output_type": "execute_result",
          "data": {
            "text/plain": [
              "983"
            ]
          },
          "metadata": {},
          "execution_count": 19
        }
      ]
    },
    {
      "cell_type": "code",
      "source": [
        "unique_cc_ids = test_data['cc_id'].nunique()\n",
        "\n",
        "unique_cc_ids"
      ],
      "metadata": {
        "id": "nZVjxJG6lZGe",
        "colab": {
          "base_uri": "https://localhost:8080/"
        },
        "outputId": "031b1d83-036a-4dee-ff3e-ce84cd729d11"
      },
      "execution_count": 20,
      "outputs": [
        {
          "output_type": "execute_result",
          "data": {
            "text/plain": [
              "909"
            ]
          },
          "metadata": {},
          "execution_count": 20
        }
      ]
    },
    {
      "cell_type": "markdown",
      "source": [
        "## 3.3 Merchant\n",
        "\n",
        "Merchant is name of the company, to which the transaction gone. We can just simply use merchant_id, but for the report purposes we will left the merchant column also"
      ],
      "metadata": {
        "id": "KucD4TAWDuKc"
      }
    },
    {
      "cell_type": "code",
      "source": [
        "data['merchant'][:5]"
      ],
      "metadata": {
        "id": "OkDjlCc7D8b_",
        "colab": {
          "base_uri": "https://localhost:8080/",
          "height": 241
        },
        "outputId": "fef6edda-733d-475c-911f-51c1e375f565"
      },
      "execution_count": 21,
      "outputs": [
        {
          "output_type": "execute_result",
          "data": {
            "text/plain": [
              "0            fraud_Rippin, Kub and Mann\n",
              "1       fraud_Heller, Gutmann and Zieme\n",
              "2                  fraud_Lind-Buckridge\n",
              "3    fraud_Kutch, Hermiston and Farrell\n",
              "4                   fraud_Keeling-Crist\n",
              "Name: merchant, dtype: object"
            ],
            "text/html": [
              "<div>\n",
              "<style scoped>\n",
              "    .dataframe tbody tr th:only-of-type {\n",
              "        vertical-align: middle;\n",
              "    }\n",
              "\n",
              "    .dataframe tbody tr th {\n",
              "        vertical-align: top;\n",
              "    }\n",
              "\n",
              "    .dataframe thead th {\n",
              "        text-align: right;\n",
              "    }\n",
              "</style>\n",
              "<table border=\"1\" class=\"dataframe\">\n",
              "  <thead>\n",
              "    <tr style=\"text-align: right;\">\n",
              "      <th></th>\n",
              "      <th>merchant</th>\n",
              "    </tr>\n",
              "  </thead>\n",
              "  <tbody>\n",
              "    <tr>\n",
              "      <th>0</th>\n",
              "      <td>fraud_Rippin, Kub and Mann</td>\n",
              "    </tr>\n",
              "    <tr>\n",
              "      <th>1</th>\n",
              "      <td>fraud_Heller, Gutmann and Zieme</td>\n",
              "    </tr>\n",
              "    <tr>\n",
              "      <th>2</th>\n",
              "      <td>fraud_Lind-Buckridge</td>\n",
              "    </tr>\n",
              "    <tr>\n",
              "      <th>3</th>\n",
              "      <td>fraud_Kutch, Hermiston and Farrell</td>\n",
              "    </tr>\n",
              "    <tr>\n",
              "      <th>4</th>\n",
              "      <td>fraud_Keeling-Crist</td>\n",
              "    </tr>\n",
              "  </tbody>\n",
              "</table>\n",
              "</div><br><label><b>dtype:</b> object</label>"
            ]
          },
          "metadata": {},
          "execution_count": 21
        }
      ]
    },
    {
      "cell_type": "code",
      "source": [
        "data['merchant'] = data['merchant'].str.replace(r'^fraud_', '', regex=True)\n",
        "\n",
        "test_data['merchant'] = test_data['merchant'].str.replace(r'^fraud_', '', regex=True)"
      ],
      "metadata": {
        "id": "UrhSSj9wvAeG"
      },
      "execution_count": 22,
      "outputs": []
    },
    {
      "cell_type": "code",
      "source": [
        "unique_merchants = data['merchant'].unique()"
      ],
      "metadata": {
        "id": "GW2Qs-5nD_MQ"
      },
      "execution_count": 23,
      "outputs": []
    },
    {
      "cell_type": "code",
      "source": [
        "len(unique_merchants)"
      ],
      "metadata": {
        "id": "FwL7tumjD_CM",
        "colab": {
          "base_uri": "https://localhost:8080/"
        },
        "outputId": "eead466f-2de5-4919-ae8c-4a7621f396ef"
      },
      "execution_count": 24,
      "outputs": [
        {
          "output_type": "execute_result",
          "data": {
            "text/plain": [
              "693"
            ]
          },
          "metadata": {},
          "execution_count": 24
        }
      ]
    },
    {
      "cell_type": "code",
      "source": [
        "unique_merchants = test_data['merchant'].unique()"
      ],
      "metadata": {
        "id": "Vi6p22Qelmje"
      },
      "execution_count": 25,
      "outputs": []
    },
    {
      "cell_type": "code",
      "source": [
        "len(unique_merchants)"
      ],
      "metadata": {
        "id": "gUobnCRGlqHC",
        "colab": {
          "base_uri": "https://localhost:8080/"
        },
        "outputId": "9827ec3c-f9eb-4f2c-d938-5e00a99a1801"
      },
      "execution_count": 26,
      "outputs": [
        {
          "output_type": "execute_result",
          "data": {
            "text/plain": [
              "693"
            ]
          },
          "metadata": {},
          "execution_count": 26
        }
      ]
    },
    {
      "cell_type": "markdown",
      "source": [
        "There is 693 unique merchants"
      ],
      "metadata": {
        "id": "YC7g3gvNEZz1"
      }
    },
    {
      "cell_type": "code",
      "source": [
        "le = LabelEncoder()\n",
        "\n",
        "data['merchant_id'] = le.fit_transform(data['merchant'])\n",
        "\n",
        "test_data['merchant_id'] = le.transform(test_data['merchant'])\n",
        "\n",
        "data[['merchant_id']].head()\n"
      ],
      "metadata": {
        "id": "q9ucmSSTD-zN",
        "colab": {
          "base_uri": "https://localhost:8080/",
          "height": 206
        },
        "outputId": "e9beb73d-a06f-4ab7-8e6e-4a936553dac0"
      },
      "execution_count": 27,
      "outputs": [
        {
          "output_type": "execute_result",
          "data": {
            "text/plain": [
              "   merchant_id\n",
              "0          514\n",
              "1          241\n",
              "2          390\n",
              "3          360\n",
              "4          297"
            ],
            "text/html": [
              "\n",
              "  <div id=\"df-ff0d6e78-ac9f-45b8-a29c-a7a528ad94f9\" class=\"colab-df-container\">\n",
              "    <div>\n",
              "<style scoped>\n",
              "    .dataframe tbody tr th:only-of-type {\n",
              "        vertical-align: middle;\n",
              "    }\n",
              "\n",
              "    .dataframe tbody tr th {\n",
              "        vertical-align: top;\n",
              "    }\n",
              "\n",
              "    .dataframe thead th {\n",
              "        text-align: right;\n",
              "    }\n",
              "</style>\n",
              "<table border=\"1\" class=\"dataframe\">\n",
              "  <thead>\n",
              "    <tr style=\"text-align: right;\">\n",
              "      <th></th>\n",
              "      <th>merchant_id</th>\n",
              "    </tr>\n",
              "  </thead>\n",
              "  <tbody>\n",
              "    <tr>\n",
              "      <th>0</th>\n",
              "      <td>514</td>\n",
              "    </tr>\n",
              "    <tr>\n",
              "      <th>1</th>\n",
              "      <td>241</td>\n",
              "    </tr>\n",
              "    <tr>\n",
              "      <th>2</th>\n",
              "      <td>390</td>\n",
              "    </tr>\n",
              "    <tr>\n",
              "      <th>3</th>\n",
              "      <td>360</td>\n",
              "    </tr>\n",
              "    <tr>\n",
              "      <th>4</th>\n",
              "      <td>297</td>\n",
              "    </tr>\n",
              "  </tbody>\n",
              "</table>\n",
              "</div>\n",
              "    <div class=\"colab-df-buttons\">\n",
              "\n",
              "  <div class=\"colab-df-container\">\n",
              "    <button class=\"colab-df-convert\" onclick=\"convertToInteractive('df-ff0d6e78-ac9f-45b8-a29c-a7a528ad94f9')\"\n",
              "            title=\"Convert this dataframe to an interactive table.\"\n",
              "            style=\"display:none;\">\n",
              "\n",
              "  <svg xmlns=\"http://www.w3.org/2000/svg\" height=\"24px\" viewBox=\"0 -960 960 960\">\n",
              "    <path d=\"M120-120v-720h720v720H120Zm60-500h600v-160H180v160Zm220 220h160v-160H400v160Zm0 220h160v-160H400v160ZM180-400h160v-160H180v160Zm440 0h160v-160H620v160ZM180-180h160v-160H180v160Zm440 0h160v-160H620v160Z\"/>\n",
              "  </svg>\n",
              "    </button>\n",
              "\n",
              "  <style>\n",
              "    .colab-df-container {\n",
              "      display:flex;\n",
              "      gap: 12px;\n",
              "    }\n",
              "\n",
              "    .colab-df-convert {\n",
              "      background-color: #E8F0FE;\n",
              "      border: none;\n",
              "      border-radius: 50%;\n",
              "      cursor: pointer;\n",
              "      display: none;\n",
              "      fill: #1967D2;\n",
              "      height: 32px;\n",
              "      padding: 0 0 0 0;\n",
              "      width: 32px;\n",
              "    }\n",
              "\n",
              "    .colab-df-convert:hover {\n",
              "      background-color: #E2EBFA;\n",
              "      box-shadow: 0px 1px 2px rgba(60, 64, 67, 0.3), 0px 1px 3px 1px rgba(60, 64, 67, 0.15);\n",
              "      fill: #174EA6;\n",
              "    }\n",
              "\n",
              "    .colab-df-buttons div {\n",
              "      margin-bottom: 4px;\n",
              "    }\n",
              "\n",
              "    [theme=dark] .colab-df-convert {\n",
              "      background-color: #3B4455;\n",
              "      fill: #D2E3FC;\n",
              "    }\n",
              "\n",
              "    [theme=dark] .colab-df-convert:hover {\n",
              "      background-color: #434B5C;\n",
              "      box-shadow: 0px 1px 3px 1px rgba(0, 0, 0, 0.15);\n",
              "      filter: drop-shadow(0px 1px 2px rgba(0, 0, 0, 0.3));\n",
              "      fill: #FFFFFF;\n",
              "    }\n",
              "  </style>\n",
              "\n",
              "    <script>\n",
              "      const buttonEl =\n",
              "        document.querySelector('#df-ff0d6e78-ac9f-45b8-a29c-a7a528ad94f9 button.colab-df-convert');\n",
              "      buttonEl.style.display =\n",
              "        google.colab.kernel.accessAllowed ? 'block' : 'none';\n",
              "\n",
              "      async function convertToInteractive(key) {\n",
              "        const element = document.querySelector('#df-ff0d6e78-ac9f-45b8-a29c-a7a528ad94f9');\n",
              "        const dataTable =\n",
              "          await google.colab.kernel.invokeFunction('convertToInteractive',\n",
              "                                                    [key], {});\n",
              "        if (!dataTable) return;\n",
              "\n",
              "        const docLinkHtml = 'Like what you see? Visit the ' +\n",
              "          '<a target=\"_blank\" href=https://colab.research.google.com/notebooks/data_table.ipynb>data table notebook</a>'\n",
              "          + ' to learn more about interactive tables.';\n",
              "        element.innerHTML = '';\n",
              "        dataTable['output_type'] = 'display_data';\n",
              "        await google.colab.output.renderOutput(dataTable, element);\n",
              "        const docLink = document.createElement('div');\n",
              "        docLink.innerHTML = docLinkHtml;\n",
              "        element.appendChild(docLink);\n",
              "      }\n",
              "    </script>\n",
              "  </div>\n",
              "\n",
              "\n",
              "<div id=\"df-503bf3f3-6b82-44ea-8898-51486daefcd8\">\n",
              "  <button class=\"colab-df-quickchart\" onclick=\"quickchart('df-503bf3f3-6b82-44ea-8898-51486daefcd8')\"\n",
              "            title=\"Suggest charts\"\n",
              "            style=\"display:none;\">\n",
              "\n",
              "<svg xmlns=\"http://www.w3.org/2000/svg\" height=\"24px\"viewBox=\"0 0 24 24\"\n",
              "     width=\"24px\">\n",
              "    <g>\n",
              "        <path d=\"M19 3H5c-1.1 0-2 .9-2 2v14c0 1.1.9 2 2 2h14c1.1 0 2-.9 2-2V5c0-1.1-.9-2-2-2zM9 17H7v-7h2v7zm4 0h-2V7h2v10zm4 0h-2v-4h2v4z\"/>\n",
              "    </g>\n",
              "</svg>\n",
              "  </button>\n",
              "\n",
              "<style>\n",
              "  .colab-df-quickchart {\n",
              "      --bg-color: #E8F0FE;\n",
              "      --fill-color: #1967D2;\n",
              "      --hover-bg-color: #E2EBFA;\n",
              "      --hover-fill-color: #174EA6;\n",
              "      --disabled-fill-color: #AAA;\n",
              "      --disabled-bg-color: #DDD;\n",
              "  }\n",
              "\n",
              "  [theme=dark] .colab-df-quickchart {\n",
              "      --bg-color: #3B4455;\n",
              "      --fill-color: #D2E3FC;\n",
              "      --hover-bg-color: #434B5C;\n",
              "      --hover-fill-color: #FFFFFF;\n",
              "      --disabled-bg-color: #3B4455;\n",
              "      --disabled-fill-color: #666;\n",
              "  }\n",
              "\n",
              "  .colab-df-quickchart {\n",
              "    background-color: var(--bg-color);\n",
              "    border: none;\n",
              "    border-radius: 50%;\n",
              "    cursor: pointer;\n",
              "    display: none;\n",
              "    fill: var(--fill-color);\n",
              "    height: 32px;\n",
              "    padding: 0;\n",
              "    width: 32px;\n",
              "  }\n",
              "\n",
              "  .colab-df-quickchart:hover {\n",
              "    background-color: var(--hover-bg-color);\n",
              "    box-shadow: 0 1px 2px rgba(60, 64, 67, 0.3), 0 1px 3px 1px rgba(60, 64, 67, 0.15);\n",
              "    fill: var(--button-hover-fill-color);\n",
              "  }\n",
              "\n",
              "  .colab-df-quickchart-complete:disabled,\n",
              "  .colab-df-quickchart-complete:disabled:hover {\n",
              "    background-color: var(--disabled-bg-color);\n",
              "    fill: var(--disabled-fill-color);\n",
              "    box-shadow: none;\n",
              "  }\n",
              "\n",
              "  .colab-df-spinner {\n",
              "    border: 2px solid var(--fill-color);\n",
              "    border-color: transparent;\n",
              "    border-bottom-color: var(--fill-color);\n",
              "    animation:\n",
              "      spin 1s steps(1) infinite;\n",
              "  }\n",
              "\n",
              "  @keyframes spin {\n",
              "    0% {\n",
              "      border-color: transparent;\n",
              "      border-bottom-color: var(--fill-color);\n",
              "      border-left-color: var(--fill-color);\n",
              "    }\n",
              "    20% {\n",
              "      border-color: transparent;\n",
              "      border-left-color: var(--fill-color);\n",
              "      border-top-color: var(--fill-color);\n",
              "    }\n",
              "    30% {\n",
              "      border-color: transparent;\n",
              "      border-left-color: var(--fill-color);\n",
              "      border-top-color: var(--fill-color);\n",
              "      border-right-color: var(--fill-color);\n",
              "    }\n",
              "    40% {\n",
              "      border-color: transparent;\n",
              "      border-right-color: var(--fill-color);\n",
              "      border-top-color: var(--fill-color);\n",
              "    }\n",
              "    60% {\n",
              "      border-color: transparent;\n",
              "      border-right-color: var(--fill-color);\n",
              "    }\n",
              "    80% {\n",
              "      border-color: transparent;\n",
              "      border-right-color: var(--fill-color);\n",
              "      border-bottom-color: var(--fill-color);\n",
              "    }\n",
              "    90% {\n",
              "      border-color: transparent;\n",
              "      border-bottom-color: var(--fill-color);\n",
              "    }\n",
              "  }\n",
              "</style>\n",
              "\n",
              "  <script>\n",
              "    async function quickchart(key) {\n",
              "      const quickchartButtonEl =\n",
              "        document.querySelector('#' + key + ' button');\n",
              "      quickchartButtonEl.disabled = true;  // To prevent multiple clicks.\n",
              "      quickchartButtonEl.classList.add('colab-df-spinner');\n",
              "      try {\n",
              "        const charts = await google.colab.kernel.invokeFunction(\n",
              "            'suggestCharts', [key], {});\n",
              "      } catch (error) {\n",
              "        console.error('Error during call to suggestCharts:', error);\n",
              "      }\n",
              "      quickchartButtonEl.classList.remove('colab-df-spinner');\n",
              "      quickchartButtonEl.classList.add('colab-df-quickchart-complete');\n",
              "    }\n",
              "    (() => {\n",
              "      let quickchartButtonEl =\n",
              "        document.querySelector('#df-503bf3f3-6b82-44ea-8898-51486daefcd8 button');\n",
              "      quickchartButtonEl.style.display =\n",
              "        google.colab.kernel.accessAllowed ? 'block' : 'none';\n",
              "    })();\n",
              "  </script>\n",
              "</div>\n",
              "\n",
              "    </div>\n",
              "  </div>\n"
            ],
            "application/vnd.google.colaboratory.intrinsic+json": {
              "type": "dataframe",
              "summary": "{\n  \"name\": \"data[['merchant_id']]\",\n  \"rows\": 5,\n  \"fields\": [\n    {\n      \"column\": \"merchant_id\",\n      \"properties\": {\n        \"dtype\": \"number\",\n        \"std\": 103,\n        \"min\": 241,\n        \"max\": 514,\n        \"num_unique_values\": 5,\n        \"samples\": [\n          241,\n          297,\n          390\n        ],\n        \"semantic_type\": \"\",\n        \"description\": \"\"\n      }\n    }\n  ]\n}"
            }
          },
          "metadata": {},
          "execution_count": 27
        }
      ]
    },
    {
      "cell_type": "code",
      "source": [
        "merchant_id_min = data['merchant_id'].min()\n",
        "merchant_id_max = data['merchant_id'].max()\n",
        "\n",
        "print(f\"Min id: {merchant_id_min}\")\n",
        "print(f\"Max id: {merchant_id_max}\")"
      ],
      "metadata": {
        "id": "OZjwA5RcEpPU",
        "colab": {
          "base_uri": "https://localhost:8080/"
        },
        "outputId": "809730a3-a0f1-4100-b241-a15362ffe72a"
      },
      "execution_count": 28,
      "outputs": [
        {
          "output_type": "stream",
          "name": "stdout",
          "text": [
            "Min id: 0\n",
            "Max id: 692\n"
          ]
        }
      ]
    },
    {
      "cell_type": "code",
      "source": [
        "merchant_id_min = test_data['merchant_id'].min()\n",
        "merchant_id_max = test_data['merchant_id'].max()\n",
        "\n",
        "print(f\"Min id: {merchant_id_min}\")\n",
        "print(f\"Max id: {merchant_id_max}\")"
      ],
      "metadata": {
        "id": "IUMPUK3FnMST",
        "colab": {
          "base_uri": "https://localhost:8080/"
        },
        "outputId": "1a0e4f08-a12b-4048-e68c-a42bdecf9b90"
      },
      "execution_count": 29,
      "outputs": [
        {
          "output_type": "stream",
          "name": "stdout",
          "text": [
            "Min id: 0\n",
            "Max id: 692\n"
          ]
        }
      ]
    },
    {
      "cell_type": "code",
      "source": [
        "unique_merchant_ids = data['merchant_id'].nunique()\n",
        "\n",
        "unique_merchant_ids"
      ],
      "metadata": {
        "id": "Tyj1T6ruFF2U",
        "colab": {
          "base_uri": "https://localhost:8080/"
        },
        "outputId": "afcb9039-7d6b-4bd0-f926-2bb0d18a6f9f"
      },
      "execution_count": 30,
      "outputs": [
        {
          "output_type": "execute_result",
          "data": {
            "text/plain": [
              "693"
            ]
          },
          "metadata": {},
          "execution_count": 30
        }
      ]
    },
    {
      "cell_type": "markdown",
      "source": [
        "Now let's see if this feautre has predispositions for Target Encoding"
      ],
      "metadata": {
        "id": "AoKHvrFQtjSw"
      }
    },
    {
      "cell_type": "code",
      "source": [
        "plot_column_distribution('merchant',data)"
      ],
      "metadata": {
        "id": "JbAFRTEBuG2J",
        "colab": {
          "base_uri": "https://localhost:8080/",
          "height": 504
        },
        "outputId": "97ea0a75-5eb5-4249-8127-2e3e59b1f0dc"
      },
      "execution_count": 31,
      "outputs": [
        {
          "output_type": "stream",
          "name": "stdout",
          "text": [
            "Average number of transactions per merchant: 1871.10\n"
          ]
        },
        {
          "output_type": "display_data",
          "data": {
            "text/plain": [
              "<Figure size 1000x500 with 1 Axes>"
            ],
            "image/png": "[encoded data removed]"
          },
          "metadata": {}
        }
      ]
    },
    {
      "cell_type": "markdown",
      "source": [
        "This feature have predisspositons for Target Ecnoding"
      ],
      "metadata": {
        "id": "jNyadkssvmz9"
      }
    },
    {
      "cell_type": "code",
      "source": [
        "target_encode('merchant',data)\n",
        "target_encode('merchant',test_data)"
      ],
      "metadata": {
        "id": "jQQqAzTox0N1"
      },
      "execution_count": 32,
      "outputs": []
    },
    {
      "cell_type": "code",
      "source": [
        "print(data.columns)\n"
      ],
      "metadata": {
        "id": "W5EZ7Uoux_6E",
        "colab": {
          "base_uri": "https://localhost:8080/"
        },
        "outputId": "0c65cd71-3758-4231-9af9-00dbf826ceeb"
      },
      "execution_count": 33,
      "outputs": [
        {
          "output_type": "stream",
          "name": "stdout",
          "text": [
            "Index(['Unnamed: 0', 'merchant', 'category', 'amt', 'gender', 'state', 'lat',\n",
            "       'long', 'city_pop', 'job', 'dob', 'merch_lat', 'merch_long', 'is_fraud',\n",
            "       'trans_date', 'trans_time', 'day_of_week', 'cc_id', 'merchant_id',\n",
            "       'merchant_fraud_rate'],\n",
            "      dtype='object')\n"
          ]
        }
      ]
    },
    {
      "cell_type": "markdown",
      "source": [
        "## 3.4 Category\n",
        "\n",
        "Here we will do the same as in merchant"
      ],
      "metadata": {
        "id": "Mep5qQd7FKN_"
      }
    },
    {
      "cell_type": "code",
      "source": [
        "data[\"category\"][:5]"
      ],
      "metadata": {
        "id": "segpt1OSyWOE",
        "colab": {
          "base_uri": "https://localhost:8080/",
          "height": 241
        },
        "outputId": "efca2111-40c8-47ce-88f4-3fe58de69e25"
      },
      "execution_count": 34,
      "outputs": [
        {
          "output_type": "execute_result",
          "data": {
            "text/plain": [
              "0         misc_net\n",
              "1      grocery_pos\n",
              "2    entertainment\n",
              "3    gas_transport\n",
              "4         misc_pos\n",
              "Name: category, dtype: object"
            ],
            "text/html": [
              "<div>\n",
              "<style scoped>\n",
              "    .dataframe tbody tr th:only-of-type {\n",
              "        vertical-align: middle;\n",
              "    }\n",
              "\n",
              "    .dataframe tbody tr th {\n",
              "        vertical-align: top;\n",
              "    }\n",
              "\n",
              "    .dataframe thead th {\n",
              "        text-align: right;\n",
              "    }\n",
              "</style>\n",
              "<table border=\"1\" class=\"dataframe\">\n",
              "  <thead>\n",
              "    <tr style=\"text-align: right;\">\n",
              "      <th></th>\n",
              "      <th>category</th>\n",
              "    </tr>\n",
              "  </thead>\n",
              "  <tbody>\n",
              "    <tr>\n",
              "      <th>0</th>\n",
              "      <td>misc_net</td>\n",
              "    </tr>\n",
              "    <tr>\n",
              "      <th>1</th>\n",
              "      <td>grocery_pos</td>\n",
              "    </tr>\n",
              "    <tr>\n",
              "      <th>2</th>\n",
              "      <td>entertainment</td>\n",
              "    </tr>\n",
              "    <tr>\n",
              "      <th>3</th>\n",
              "      <td>gas_transport</td>\n",
              "    </tr>\n",
              "    <tr>\n",
              "      <th>4</th>\n",
              "      <td>misc_pos</td>\n",
              "    </tr>\n",
              "  </tbody>\n",
              "</table>\n",
              "</div><br><label><b>dtype:</b> object</label>"
            ]
          },
          "metadata": {},
          "execution_count": 34
        }
      ]
    },
    {
      "cell_type": "code",
      "source": [
        "print(f\"{len(data['category'].unique())} unique Categories\")\n"
      ],
      "metadata": {
        "id": "Dy6fucuzyfr6",
        "colab": {
          "base_uri": "https://localhost:8080/"
        },
        "outputId": "a8ecfe12-cbf3-4ac5-f1ea-812c67ad761a"
      },
      "execution_count": 35,
      "outputs": [
        {
          "output_type": "stream",
          "name": "stdout",
          "text": [
            "14 unique Categories\n"
          ]
        }
      ]
    },
    {
      "cell_type": "code",
      "source": [
        "category_mapping = {category: idx for idx, category in enumerate(data['category'].unique())}\n",
        "\n",
        "data['category_id'] = data['category'].map(category_mapping)\n",
        "\n",
        "test_data['category_id'] = test_data['category'].map(category_mapping).fillna(-1).astype(int)\n",
        "\n",
        "print(data[['category', 'category_id']].head())\n",
        "print(test_data[['category', 'category_id']].head())\n"
      ],
      "metadata": {
        "id": "yX1rQdiAozxo",
        "colab": {
          "base_uri": "https://localhost:8080/"
        },
        "outputId": "cfbde0e2-9b7f-4204-957b-a03110c9a5db"
      },
      "execution_count": 36,
      "outputs": [
        {
          "output_type": "stream",
          "name": "stdout",
          "text": [
            "        category  category_id\n",
            "0       misc_net            0\n",
            "1    grocery_pos            1\n",
            "2  entertainment            2\n",
            "3  gas_transport            3\n",
            "4       misc_pos            4\n",
            "         category  category_id\n",
            "0   personal_care            9\n",
            "1   personal_care            9\n",
            "2  health_fitness           10\n",
            "3        misc_pos            4\n",
            "4          travel           11\n"
          ]
        }
      ]
    },
    {
      "cell_type": "code",
      "source": [
        "plot_column_distribution('category',data)"
      ],
      "metadata": {
        "id": "RRZBCr4QylMu",
        "colab": {
          "base_uri": "https://localhost:8080/",
          "height": 504
        },
        "outputId": "e0c855b4-01c9-4cf0-9da8-8ccde84dd2d6"
      },
      "execution_count": 37,
      "outputs": [
        {
          "output_type": "stream",
          "name": "stdout",
          "text": [
            "Average number of transactions per category: 92619.64\n"
          ]
        },
        {
          "output_type": "display_data",
          "data": {
            "text/plain": [
              "<Figure size 1000x500 with 1 Axes>"
            ],
            "image/png": "[encoded data removed]"
          },
          "metadata": {}
        }
      ]
    },
    {
      "cell_type": "markdown",
      "source": [
        "This column is ideal for Target Encoding"
      ],
      "metadata": {
        "id": "2pEkC24xzSP1"
      }
    },
    {
      "cell_type": "code",
      "source": [
        "target_encode('category',data)\n",
        "target_encode('category',test_data)"
      ],
      "metadata": {
        "id": "JVjg-BDo0Tb0"
      },
      "execution_count": 38,
      "outputs": []
    },
    {
      "cell_type": "markdown",
      "source": [],
      "metadata": {
        "id": "vgnvFSYk1B9X"
      }
    },
    {
      "cell_type": "markdown",
      "source": [
        "## 3.5 Gender\n",
        "\n",
        "Here, only thing we need to cahnge is format of feature, instead of M for Male and F for female, we will use is_M, 1 if Male, 0 if Female"
      ],
      "metadata": {
        "id": "2OVdHgN51CVj"
      }
    },
    {
      "cell_type": "code",
      "source": [
        "data.rename(columns={'gender': 'is_M'}, inplace=True)\n",
        "test_data.rename(columns={'gender': 'is_M'}, inplace=True)"
      ],
      "metadata": {
        "id": "L9Fyr8dC1ca9"
      },
      "execution_count": 39,
      "outputs": []
    },
    {
      "cell_type": "code",
      "source": [
        "data['is_M'] = data['is_M'].map({'M': 1, 'F': 0})\n",
        "test_data['is_M'] = test_data['is_M'].map({'M': 1, 'F': 0})"
      ],
      "metadata": {
        "id": "sJSFPShU1c0t"
      },
      "execution_count": 40,
      "outputs": []
    },
    {
      "cell_type": "code",
      "source": [
        "data[\"is_M\"][:5]"
      ],
      "metadata": {
        "id": "JCra9x-J1yoE",
        "colab": {
          "base_uri": "https://localhost:8080/",
          "height": 241
        },
        "outputId": "a32e6c40-7643-4f0c-f411-15816090f6a4"
      },
      "execution_count": 41,
      "outputs": [
        {
          "output_type": "execute_result",
          "data": {
            "text/plain": [
              "0    0\n",
              "1    0\n",
              "2    1\n",
              "3    1\n",
              "4    1\n",
              "Name: is_M, dtype: int64"
            ],
            "text/html": [
              "<div>\n",
              "<style scoped>\n",
              "    .dataframe tbody tr th:only-of-type {\n",
              "        vertical-align: middle;\n",
              "    }\n",
              "\n",
              "    .dataframe tbody tr th {\n",
              "        vertical-align: top;\n",
              "    }\n",
              "\n",
              "    .dataframe thead th {\n",
              "        text-align: right;\n",
              "    }\n",
              "</style>\n",
              "<table border=\"1\" class=\"dataframe\">\n",
              "  <thead>\n",
              "    <tr style=\"text-align: right;\">\n",
              "      <th></th>\n",
              "      <th>is_M</th>\n",
              "    </tr>\n",
              "  </thead>\n",
              "  <tbody>\n",
              "    <tr>\n",
              "      <th>0</th>\n",
              "      <td>0</td>\n",
              "    </tr>\n",
              "    <tr>\n",
              "      <th>1</th>\n",
              "      <td>0</td>\n",
              "    </tr>\n",
              "    <tr>\n",
              "      <th>2</th>\n",
              "      <td>1</td>\n",
              "    </tr>\n",
              "    <tr>\n",
              "      <th>3</th>\n",
              "      <td>1</td>\n",
              "    </tr>\n",
              "    <tr>\n",
              "      <th>4</th>\n",
              "      <td>1</td>\n",
              "    </tr>\n",
              "  </tbody>\n",
              "</table>\n",
              "</div><br><label><b>dtype:</b> int64</label>"
            ]
          },
          "metadata": {},
          "execution_count": 41
        }
      ]
    },
    {
      "cell_type": "markdown",
      "source": [
        "## 3.6 State\n",
        "\n"
      ],
      "metadata": {
        "id": "INvHKZha1yLV"
      }
    },
    {
      "cell_type": "code",
      "source": [
        "data[\"state\"][:5]"
      ],
      "metadata": {
        "id": "V5hIrodkTfwr",
        "colab": {
          "base_uri": "https://localhost:8080/",
          "height": 241
        },
        "outputId": "ec08daa7-8d0a-434f-910c-4c2712148385"
      },
      "execution_count": 42,
      "outputs": [
        {
          "output_type": "execute_result",
          "data": {
            "text/plain": [
              "0    NC\n",
              "1    WA\n",
              "2    ID\n",
              "3    MT\n",
              "4    VA\n",
              "Name: state, dtype: object"
            ],
            "text/html": [
              "<div>\n",
              "<style scoped>\n",
              "    .dataframe tbody tr th:only-of-type {\n",
              "        vertical-align: middle;\n",
              "    }\n",
              "\n",
              "    .dataframe tbody tr th {\n",
              "        vertical-align: top;\n",
              "    }\n",
              "\n",
              "    .dataframe thead th {\n",
              "        text-align: right;\n",
              "    }\n",
              "</style>\n",
              "<table border=\"1\" class=\"dataframe\">\n",
              "  <thead>\n",
              "    <tr style=\"text-align: right;\">\n",
              "      <th></th>\n",
              "      <th>state</th>\n",
              "    </tr>\n",
              "  </thead>\n",
              "  <tbody>\n",
              "    <tr>\n",
              "      <th>0</th>\n",
              "      <td>NC</td>\n",
              "    </tr>\n",
              "    <tr>\n",
              "      <th>1</th>\n",
              "      <td>WA</td>\n",
              "    </tr>\n",
              "    <tr>\n",
              "      <th>2</th>\n",
              "      <td>ID</td>\n",
              "    </tr>\n",
              "    <tr>\n",
              "      <th>3</th>\n",
              "      <td>MT</td>\n",
              "    </tr>\n",
              "    <tr>\n",
              "      <th>4</th>\n",
              "      <td>VA</td>\n",
              "    </tr>\n",
              "  </tbody>\n",
              "</table>\n",
              "</div><br><label><b>dtype:</b> object</label>"
            ]
          },
          "metadata": {},
          "execution_count": 42
        }
      ]
    },
    {
      "cell_type": "code",
      "source": [
        "print(f\"{len(data['state'].unique())} unique states\")\n"
      ],
      "metadata": {
        "id": "MChc3r9xUh4i",
        "colab": {
          "base_uri": "https://localhost:8080/"
        },
        "outputId": "a1a885e0-6296-4de1-9648-059da8a84341"
      },
      "execution_count": 43,
      "outputs": [
        {
          "output_type": "stream",
          "name": "stdout",
          "text": [
            "51 unique states\n"
          ]
        }
      ]
    },
    {
      "cell_type": "code",
      "source": [
        "data['state'].unique()"
      ],
      "metadata": {
        "id": "5d_6tNjHpd5V",
        "colab": {
          "base_uri": "https://localhost:8080/"
        },
        "outputId": "323f01eb-0cd0-4c65-8b9b-9212ec61287c"
      },
      "execution_count": 44,
      "outputs": [
        {
          "output_type": "execute_result",
          "data": {
            "text/plain": [
              "array(['NC', 'WA', 'ID', 'MT', 'VA', 'PA', 'KS', 'TN', 'IA', 'WV', 'FL',\n",
              "       'CA', 'NM', 'NJ', 'OK', 'IN', 'MA', 'TX', 'WI', 'MI', 'WY', 'HI',\n",
              "       'NE', 'OR', 'LA', 'DC', 'KY', 'NY', 'MS', 'UT', 'AL', 'AR', 'MD',\n",
              "       'GA', 'ME', 'AZ', 'MN', 'OH', 'CO', 'VT', 'MO', 'SC', 'NV', 'IL',\n",
              "       'NH', 'SD', 'AK', 'ND', 'CT', 'RI', 'DE'], dtype=object)"
            ]
          },
          "metadata": {},
          "execution_count": 44
        }
      ]
    },
    {
      "cell_type": "code",
      "source": [
        "state_mapping = {state: idx for idx, state in enumerate(data['state'].unique())}\n",
        "\n",
        "data['state_id'] = data['state'].map(state_mapping)\n",
        "\n",
        "test_data['state_id'] = test_data['state'].map(state_mapping).fillna(-1).astype(int)\n",
        "\n",
        "print(data[['state', 'state_id']].head())\n",
        "print(test_data[['state', 'state_id']].head())\n"
      ],
      "metadata": {
        "id": "HV1QNO46uuvV",
        "colab": {
          "base_uri": "https://localhost:8080/"
        },
        "outputId": "473aa015-e2cd-490e-e0a0-76f0c41c61dc"
      },
      "execution_count": 45,
      "outputs": [
        {
          "output_type": "stream",
          "name": "stdout",
          "text": [
            "  state  state_id\n",
            "0    NC         0\n",
            "1    WA         1\n",
            "2    ID         2\n",
            "3    MT         3\n",
            "4    VA         4\n",
            "  state  state_id\n",
            "0    SC        41\n",
            "1    UT        29\n",
            "2    NY        27\n",
            "3    FL        10\n",
            "4    MI        19\n"
          ]
        }
      ]
    },
    {
      "cell_type": "code",
      "source": [
        "plot_column_distribution('state',data)"
      ],
      "metadata": {
        "id": "TfLeLgy2VeVY",
        "colab": {
          "base_uri": "https://localhost:8080/",
          "height": 504
        },
        "outputId": "81d27496-c42b-4650-a005-dc3ff692d47e"
      },
      "execution_count": 46,
      "outputs": [
        {
          "output_type": "stream",
          "name": "stdout",
          "text": [
            "Average number of transactions per state: 25425.00\n"
          ]
        },
        {
          "output_type": "display_data",
          "data": {
            "text/plain": [
              "<Figure size 1000x500 with 1 Axes>"
            ],
            "image/png": "[encoded data removed]"
          },
          "metadata": {}
        }
      ]
    },
    {
      "cell_type": "code",
      "source": [
        "import pandas as pd\n",
        "least_transaction_states = data['state'].value_counts().nsmallest(10)\n",
        "\n",
        "least_transaction_states_df = least_transaction_states.reset_index()\n",
        "least_transaction_states_df.columns = ['state', 'transaction_count']\n",
        "\n",
        "print(least_transaction_states_df)\n"
      ],
      "metadata": {
        "id": "n3NQe6lEVeSC",
        "colab": {
          "base_uri": "https://localhost:8080/"
        },
        "outputId": "838128e8-30d2-4a31-8696-e1aecfb6f82f"
      },
      "execution_count": 47,
      "outputs": [
        {
          "output_type": "stream",
          "name": "stdout",
          "text": [
            "  state  transaction_count\n",
            "0    DE                  9\n",
            "1    RI                550\n",
            "2    AK               2120\n",
            "3    HI               2559\n",
            "4    DC               3613\n",
            "5    ID               5545\n",
            "6    NV               5607\n",
            "7    CT               7702\n",
            "8    NH               8278\n",
            "9    UT              10699\n"
          ]
        }
      ]
    },
    {
      "cell_type": "markdown",
      "source": [
        "Some of the states have not much transactions, but it should be enough to be at least representative sample."
      ],
      "metadata": {
        "id": "_M0JVPw5WAlh"
      }
    },
    {
      "cell_type": "code",
      "source": [
        "target_encode('state',data)\n",
        "target_encode('state',test_data)"
      ],
      "metadata": {
        "id": "XVIeZ8qXVeFJ"
      },
      "execution_count": 48,
      "outputs": []
    },
    {
      "cell_type": "markdown",
      "source": [
        "'job','dob'"
      ],
      "metadata": {
        "id": "sGOrUDGuWfRy"
      }
    },
    {
      "cell_type": "markdown",
      "source": [
        "## 3.7 Job"
      ],
      "metadata": {
        "id": "n2fM1u4_WJzz"
      }
    },
    {
      "cell_type": "code",
      "source": [
        "data[\"job\"][:5]"
      ],
      "metadata": {
        "id": "uIDpjqAfWhEK",
        "colab": {
          "base_uri": "https://localhost:8080/",
          "height": 241
        },
        "outputId": "afee8f43-84d2-460f-ac07-642546680d4f"
      },
      "execution_count": 49,
      "outputs": [
        {
          "output_type": "execute_result",
          "data": {
            "text/plain": [
              "0            Psychologist, counselling\n",
              "1    Special educational needs teacher\n",
              "2          Nature conservation officer\n",
              "3                      Patent attorney\n",
              "4       Dance movement psychotherapist\n",
              "Name: job, dtype: object"
            ],
            "text/html": [
              "<div>\n",
              "<style scoped>\n",
              "    .dataframe tbody tr th:only-of-type {\n",
              "        vertical-align: middle;\n",
              "    }\n",
              "\n",
              "    .dataframe tbody tr th {\n",
              "        vertical-align: top;\n",
              "    }\n",
              "\n",
              "    .dataframe thead th {\n",
              "        text-align: right;\n",
              "    }\n",
              "</style>\n",
              "<table border=\"1\" class=\"dataframe\">\n",
              "  <thead>\n",
              "    <tr style=\"text-align: right;\">\n",
              "      <th></th>\n",
              "      <th>job</th>\n",
              "    </tr>\n",
              "  </thead>\n",
              "  <tbody>\n",
              "    <tr>\n",
              "      <th>0</th>\n",
              "      <td>Psychologist, counselling</td>\n",
              "    </tr>\n",
              "    <tr>\n",
              "      <th>1</th>\n",
              "      <td>Special educational needs teacher</td>\n",
              "    </tr>\n",
              "    <tr>\n",
              "      <th>2</th>\n",
              "      <td>Nature conservation officer</td>\n",
              "    </tr>\n",
              "    <tr>\n",
              "      <th>3</th>\n",
              "      <td>Patent attorney</td>\n",
              "    </tr>\n",
              "    <tr>\n",
              "      <th>4</th>\n",
              "      <td>Dance movement psychotherapist</td>\n",
              "    </tr>\n",
              "  </tbody>\n",
              "</table>\n",
              "</div><br><label><b>dtype:</b> object</label>"
            ]
          },
          "metadata": {},
          "execution_count": 49
        }
      ]
    },
    {
      "cell_type": "code",
      "source": [
        "print(f\"{len(data['job'].unique())} unique jobs\")\n"
      ],
      "metadata": {
        "id": "AGAHtoxWWj20",
        "colab": {
          "base_uri": "https://localhost:8080/"
        },
        "outputId": "82b9fbba-e7cd-404c-f18d-a53032756027"
      },
      "execution_count": 50,
      "outputs": [
        {
          "output_type": "stream",
          "name": "stdout",
          "text": [
            "494 unique jobs\n"
          ]
        }
      ]
    },
    {
      "cell_type": "code",
      "source": [
        "job_mapping = {job: idx for idx, job in enumerate(data['job'].unique())}\n",
        "\n",
        "data['job_id'] = data['job'].map(state_mapping)\n",
        "test_data['job_id'] = test_data['job'].map(job_mapping).fillna(-1).astype(int)\n"
      ],
      "metadata": {
        "id": "2wJjOgvhWj-Z"
      },
      "execution_count": 51,
      "outputs": []
    },
    {
      "cell_type": "code",
      "source": [
        "plot_column_distribution('job',data)"
      ],
      "metadata": {
        "id": "09t8lFhDXHQG",
        "colab": {
          "base_uri": "https://localhost:8080/",
          "height": 504
        },
        "outputId": "80e0242e-a7c5-4110-9afb-7877556887fb"
      },
      "execution_count": 52,
      "outputs": [
        {
          "output_type": "stream",
          "name": "stdout",
          "text": [
            "Average number of transactions per job: 2624.85\n"
          ]
        },
        {
          "output_type": "display_data",
          "data": {
            "text/plain": [
              "<Figure size 1000x500 with 1 Axes>"
            ],
            "image/png": "[encoded data removed]"
          },
          "metadata": {}
        }
      ]
    },
    {
      "cell_type": "code",
      "source": [
        "len(data['job'].unique())"
      ],
      "metadata": {
        "id": "xPIVuJ_Hv9vb",
        "colab": {
          "base_uri": "https://localhost:8080/"
        },
        "outputId": "cab20f40-9bfe-46da-ee1a-75b1ee60744c"
      },
      "execution_count": 53,
      "outputs": [
        {
          "output_type": "execute_result",
          "data": {
            "text/plain": [
              "494"
            ]
          },
          "metadata": {},
          "execution_count": 53
        }
      ]
    },
    {
      "cell_type": "code",
      "source": [
        "import pandas as pd\n",
        "least_transaction_jobs = data['job'].value_counts().nsmallest(10)\n",
        "\n",
        "least_transaction_jobs_df = least_transaction_jobs.reset_index()\n",
        "least_transaction_jobs_df.columns = ['job', 'transaction_count']\n",
        "\n",
        "print(least_transaction_jobs_df)"
      ],
      "metadata": {
        "id": "Qa2sDLKAWkC_",
        "colab": {
          "base_uri": "https://localhost:8080/"
        },
        "outputId": "071e105b-d3ae-40c1-a524-45af04724b46"
      },
      "execution_count": 54,
      "outputs": [
        {
          "output_type": "stream",
          "name": "stdout",
          "text": [
            "                              job  transaction_count\n",
            "0                     Ship broker                  7\n",
            "1      Contracting civil engineer                  7\n",
            "2               Warehouse manager                  7\n",
            "3  Armed forces technical officer                  8\n",
            "4             Information officer                  8\n",
            "5              Veterinary surgeon                  8\n",
            "6            Broadcast journalist                  9\n",
            "7         Forest/woodland manager                  9\n",
            "8                Industrial buyer                 10\n",
            "9                       Solicitor                 11\n"
          ]
        }
      ]
    },
    {
      "cell_type": "code",
      "source": [
        "job_counts = data['job'].value_counts()\n",
        "\n",
        "jobs_below_20 = job_counts[job_counts < 20]\n",
        "\n",
        "num_jobs_below_20 = len(jobs_below_20)\n",
        "\n",
        "print(f\"Liczba zawodów z mniej niż 20 transakcjami: {num_jobs_below_20}\")\n"
      ],
      "metadata": {
        "id": "o6I1xDYxv1Vf",
        "colab": {
          "base_uri": "https://localhost:8080/"
        },
        "outputId": "34dab374-d197-4b96-f85e-c5c8591e8bd2"
      },
      "execution_count": 55,
      "outputs": [
        {
          "output_type": "stream",
          "name": "stdout",
          "text": [
            "Liczba zawodów z mniej niż 20 transakcjami: 19\n"
          ]
        }
      ]
    },
    {
      "cell_type": "markdown",
      "source": [
        "Some jobs have not enough records to be representative sample. There is only 19 of them and their cumulative amount of transactions is less than 400 so it is not much. We can just get rid of it"
      ],
      "metadata": {
        "id": "h7PZvdRCwXBk"
      }
    },
    {
      "cell_type": "code",
      "source": [
        "job_counts = data['job'].value_counts()\n",
        "\n",
        "jobs_to_remove = job_counts[job_counts < 20].index.tolist()\n",
        "\n",
        "data_filtered = data[~data['job'].isin(jobs_to_remove)]\n",
        "\n",
        "print(f\"Liczba usuniętych zawodów: {len(jobs_to_remove)}\")\n",
        "print(f\"Liczba rekordów przed: {len(data)}\")\n",
        "print(f\"Liczba rekordów po: {len(data_filtered)}\")\n"
      ],
      "metadata": {
        "id": "6ir-VUxk3W9u",
        "colab": {
          "base_uri": "https://localhost:8080/"
        },
        "outputId": "56dacfa4-4630-4050-ae3a-82ef956e39b4"
      },
      "execution_count": 56,
      "outputs": [
        {
          "output_type": "stream",
          "name": "stdout",
          "text": [
            "Liczba usuniętych zawodów: 19\n",
            "Liczba rekordów przed: 1296675\n",
            "Liczba rekordów po: 1296468\n"
          ]
        }
      ]
    },
    {
      "cell_type": "code",
      "source": [
        "target_encode('job',data)\n",
        "target_encode('job',test_data)"
      ],
      "metadata": {
        "id": "8XLjzoJqXSPv"
      },
      "execution_count": 57,
      "outputs": []
    },
    {
      "cell_type": "markdown",
      "source": [
        "## 3.7 Day of birth\n",
        "\n",
        "We should just simply turn that into 'Age'"
      ],
      "metadata": {
        "id": "SAbfvnp7ZC7o"
      }
    },
    {
      "cell_type": "code",
      "source": [
        "data['dob'] = pd.to_datetime(data['dob'])\n",
        "data['trans_date'] = pd.to_datetime(data['trans_date'])\n",
        "\n",
        "data['Age'] = (data['trans_date'] - data['dob']).dt.days // 365\n",
        "\n",
        "data.drop(columns=['dob'], inplace=True)"
      ],
      "metadata": {
        "id": "9U_9H20YXSHs"
      },
      "execution_count": 58,
      "outputs": []
    },
    {
      "cell_type": "code",
      "source": [
        "test_data['dob'] = pd.to_datetime(test_data['dob'])\n",
        "test_data['trans_date'] = pd.to_datetime(test_data['trans_date'])\n",
        "\n",
        "test_data['Age'] = (test_data['trans_date'] - test_data['dob']).dt.days // 365\n",
        "\n",
        "test_data.drop(columns=['dob'], inplace=True)"
      ],
      "metadata": {
        "id": "gKNNEySz3mZj"
      },
      "execution_count": 59,
      "outputs": []
    },
    {
      "cell_type": "code",
      "source": [
        "print(data[['trans_date', 'Age']].head())"
      ],
      "metadata": {
        "id": "UCpayIE5ZCCX",
        "colab": {
          "base_uri": "https://localhost:8080/"
        },
        "outputId": "cb7c8e44-141c-4c3a-8e7d-3b35649cdf3c"
      },
      "execution_count": 60,
      "outputs": [
        {
          "output_type": "stream",
          "name": "stdout",
          "text": [
            "  trans_date  Age\n",
            "0 2019-01-01   30\n",
            "1 2019-01-01   40\n",
            "2 2019-01-01   56\n",
            "3 2019-01-01   52\n",
            "4 2019-01-01   32\n"
          ]
        }
      ]
    },
    {
      "cell_type": "markdown",
      "source": [
        "# 4. New features calculating\n",
        "\n",
        "We will calculate new features based mainly on locations to determine distances of transaction, on dates and times to determine transactions frequency and on amounts to"
      ],
      "metadata": {
        "id": "F7RfOeHsaOpl"
      }
    },
    {
      "cell_type": "markdown",
      "source": [
        "## 4.1 Distances\n",
        "\n",
        "-Distance from merchant\n",
        "\n",
        "-IS New_place\n",
        "\n",
        "-Distance from last transaction"
      ],
      "metadata": {
        "id": "E8Rr9f5ygvd_"
      }
    },
    {
      "cell_type": "markdown",
      "source": [
        "### 4.1.1 Distance from merchant\n",
        "\n",
        "Calculating distance between customer's home and place where he spent money"
      ],
      "metadata": {
        "id": "JDmQyq8phRFd"
      }
    },
    {
      "cell_type": "code",
      "source": [
        "import pandas as pd\n",
        "from geopy.distance import geodesic\n",
        "\n",
        "def calculate_distance(row):\n",
        "    customer_location = (row['lat'], row['long'])\n",
        "    merchant_location = (row['merch_lat'], row['merch_long'])\n",
        "    return geodesic(customer_location, merchant_location).kilometers\n",
        "\n",
        "data['distance_from_merchant'] = data.apply(calculate_distance, axis=1)\n",
        "test_data['distance_from_merchant'] = test_data.apply(calculate_distance, axis=1)\n",
        "\n",
        "print(data[['lat', 'long', 'merch_lat', 'merch_long', 'distance_from_merchant']].head())\n"
      ],
      "metadata": {
        "id": "RLyBZtBghO5_",
        "colab": {
          "base_uri": "https://localhost:8080/"
        },
        "outputId": "bd4fa017-c963-4c5f-c168-286ae9184ed1"
      },
      "execution_count": 61,
      "outputs": [
        {
          "output_type": "stream",
          "name": "stdout",
          "text": [
            "       lat      long  merch_lat  merch_long  distance_from_merchant\n",
            "0  36.0788  -81.1781  36.011293  -82.048315               78.773821\n",
            "1  48.8878 -118.2105  49.159047 -118.186462               30.216618\n",
            "2  42.1808 -112.2620  43.150704 -112.154481              108.102912\n",
            "3  46.2306 -112.1138  47.034331 -112.561071               95.685115\n",
            "4  38.4207  -79.4629  38.674999  -78.632459               77.702395\n"
          ]
        }
      ]
    },
    {
      "cell_type": "markdown",
      "source": [
        "### 4.1.2 is_new_place\n",
        "\n",
        "checking if customer have ever bought something in this place, based on cc_num"
      ],
      "metadata": {
        "id": "VkoIUycpiA5I"
      }
    },
    {
      "cell_type": "code",
      "source": [
        "data.columns"
      ],
      "metadata": {
        "id": "2aHl972UilOK",
        "colab": {
          "base_uri": "https://localhost:8080/"
        },
        "outputId": "fabb5a38-fbbf-41a1-af59-fe82b1333025"
      },
      "execution_count": 62,
      "outputs": [
        {
          "output_type": "execute_result",
          "data": {
            "text/plain": [
              "Index(['Unnamed: 0', 'merchant', 'category', 'amt', 'is_M', 'state', 'lat',\n",
              "       'long', 'city_pop', 'job', 'merch_lat', 'merch_long', 'is_fraud',\n",
              "       'trans_date', 'trans_time', 'day_of_week', 'cc_id', 'merchant_id',\n",
              "       'merchant_fraud_rate', 'category_id', 'category_fraud_rate', 'state_id',\n",
              "       'state_fraud_rate', 'job_id', 'job_fraud_rate', 'Age',\n",
              "       'distance_from_merchant'],\n",
              "      dtype='object')"
            ]
          },
          "metadata": {},
          "execution_count": 62
        }
      ]
    },
    {
      "cell_type": "code",
      "source": [
        "data['rounded_merch_lat'] = data['merch_lat'].round(4)\n",
        "data['rounded_merch_long'] = data['merch_long'].round(4)\n",
        "\n",
        "# Count unique merchants after rounding\n",
        "unique_rounded_coordinates_count = len(set(zip(data['rounded_merch_lat'], data['rounded_merch_long'])))\n",
        "\n",
        "print(f\"Total unique merchant coordinates (after rounding): {unique_rounded_coordinates_count}\")\n",
        "print(f\"Number of rows {len(data)}\")\n"
      ],
      "metadata": {
        "id": "PXi-a2DGpbVN",
        "colab": {
          "base_uri": "https://localhost:8080/"
        },
        "outputId": "570493dc-05cb-4625-ef41-df2e1dbe1fd0"
      },
      "execution_count": 63,
      "outputs": [
        {
          "output_type": "stream",
          "name": "stdout",
          "text": [
            "Total unique merchant coordinates (after rounding): 1296657\n",
            "Number of rows 1296675\n"
          ]
        }
      ]
    },
    {
      "cell_type": "code",
      "source": [
        "test_data['rounded_merch_lat'] = test_data['merch_lat'].round(4)\n",
        "test_data['rounded_merch_long'] = test_data['merch_long'].round(4)\n",
        "\n",
        "# Count unique merchants after rounding\n",
        "unique_rounded_coordinates_count = len(set(zip(test_data['rounded_merch_lat'], test_data['rounded_merch_long'])))\n",
        "\n",
        "print(f\"Total unique merchant coordinates (after rounding): {unique_rounded_coordinates_count}\")\n",
        "print(f\"Number of rows {len(test_data)}\")\n"
      ],
      "metadata": {
        "id": "G98_q6R_6Uvf",
        "colab": {
          "base_uri": "https://localhost:8080/"
        },
        "outputId": "f244f79b-aa7d-49e9-f8f7-8f7b2a99b972"
      },
      "execution_count": 64,
      "outputs": [
        {
          "output_type": "stream",
          "name": "stdout",
          "text": [
            "Total unique merchant coordinates (after rounding): 555714\n",
            "Number of rows 555719\n"
          ]
        }
      ]
    },
    {
      "cell_type": "markdown",
      "source": [
        "So based on, merchants locations, it is always new, instead of 5 records which can be just some error. We should check our feature based on merchants name. It will not be as usable, becuase merchants have alot of lcoations, but new merchant can also give us some information"
      ],
      "metadata": {
        "id": "tHHiSbMUpjqc"
      }
    },
    {
      "cell_type": "code",
      "source": [
        "data['trans_date'] = pd.to_datetime(data['trans_date'])\n",
        "data['trans_time'] = pd.to_datetime(data['trans_time'], format='%H:%M:%S').dt.time\n",
        "\n",
        "data = data.sort_values(by=['cc_id', 'trans_date', 'trans_time'])\n",
        "\n",
        "data['is_new_merchant'] = ~data.duplicated(subset=['cc_id', 'merchant'], keep='first')\n",
        "\n",
        "data['is_new_merchant'] = data['is_new_merchant'].astype(int)\n",
        "\n",
        "print(data[['cc_id', 'merchant', 'trans_date', 'trans_time', 'is_new_merchant']].head())"
      ],
      "metadata": {
        "id": "85a1Smbu2I4W",
        "colab": {
          "base_uri": "https://localhost:8080/"
        },
        "outputId": "e37e8335-e15f-4dfa-dc41-1023be0f14a4"
      },
      "execution_count": 65,
      "outputs": [
        {
          "output_type": "stream",
          "name": "stdout",
          "text": [
            "      cc_id                     merchant trans_date trans_time  \\\n",
            "1017      0  Jones, Sawayn and Romaguera 2019-01-01   12:47:15   \n",
            "2724      0                    Berge LLC 2019-01-02   08:44:57   \n",
            "2726      0                 Luettgen PLC 2019-01-02   08:47:36   \n",
            "2882      0                Daugherty LLC 2019-01-02   12:38:14   \n",
            "2907      0               Beier and Sons 2019-01-02   13:10:46   \n",
            "\n",
            "      is_new_merchant  \n",
            "1017                1  \n",
            "2724                1  \n",
            "2726                1  \n",
            "2882                1  \n",
            "2907                1  \n"
          ]
        }
      ]
    },
    {
      "cell_type": "code",
      "source": [
        "test_data['trans_date'] = pd.to_datetime(test_data['trans_date'])\n",
        "test_data['trans_time'] = pd.to_datetime(test_data['trans_time'], format='%H:%M:%S').dt.time\n",
        "\n",
        "test_data = test_data.sort_values(by=['cc_id', 'trans_date', 'trans_time'])\n",
        "\n",
        "test_data['is_new_merchant'] = ~test_data.duplicated(subset=['cc_id', 'merchant'], keep='first')\n",
        "\n",
        "test_data['is_new_merchant'] = test_data['is_new_merchant'].astype(int)\n",
        "\n",
        "print(test_data[['cc_id', 'merchant', 'trans_date', 'trans_time', 'is_new_merchant']].head())"
      ],
      "metadata": {
        "id": "-nJUF5M_6cPz",
        "colab": {
          "base_uri": "https://localhost:8080/"
        },
        "outputId": "25c04e25-7f41-4a27-dc41-587f37aaf06d"
      },
      "execution_count": 66,
      "outputs": [
        {
          "output_type": "stream",
          "name": "stdout",
          "text": [
            "       cc_id                  merchant trans_date trans_time  is_new_merchant\n",
            "10036     -1               DuBuque LLC 2020-06-24   00:26:45                1\n",
            "10047     -1  Huel, Hammes and Witting 2020-06-24   00:44:24                1\n",
            "10167     -1            Murray-Smitham 2020-06-24   02:56:50                1\n",
            "10193     -1           Heidenreich PLC 2020-06-24   03:21:56                1\n",
            "10206     -1                Huels-Hahn 2020-06-24   03:33:40                1\n"
          ]
        }
      ]
    },
    {
      "cell_type": "code",
      "source": [
        "new_merchants_count = data['is_new_merchant'].sum()\n",
        "\n",
        "print(f\"Total new merchants: {new_merchants_count}\")\n"
      ],
      "metadata": {
        "id": "CP9XYppZ2Izl",
        "colab": {
          "base_uri": "https://localhost:8080/"
        },
        "outputId": "169d1b87-6cc2-4be5-9076-7fc65805f772"
      },
      "execution_count": 67,
      "outputs": [
        {
          "output_type": "stream",
          "name": "stdout",
          "text": [
            "Total new merchants: 479072\n"
          ]
        }
      ]
    },
    {
      "cell_type": "markdown",
      "source": [
        "### 4.1.3 Distance_from_last_transaction\n",
        "\n",
        "Distance from place where last transaction occured"
      ],
      "metadata": {
        "id": "R-99oEH3iOXg"
      }
    },
    {
      "cell_type": "code",
      "source": [
        "print(data[['merch_lat', 'merch_long']].dtypes)\n"
      ],
      "metadata": {
        "id": "oho00FWn7Mml",
        "colab": {
          "base_uri": "https://localhost:8080/"
        },
        "outputId": "0eb3ba14-da04-449b-9f7a-f67fe7039aa5"
      },
      "execution_count": 68,
      "outputs": [
        {
          "output_type": "stream",
          "name": "stdout",
          "text": [
            "merch_lat     float64\n",
            "merch_long    float64\n",
            "dtype: object\n"
          ]
        }
      ]
    },
    {
      "cell_type": "code",
      "source": [
        "data['merch_lat'] = pd.to_numeric(data['merch_lat'], errors='coerce')\n",
        "data['merch_long'] = pd.to_numeric(data['merch_long'], errors='coerce')\n"
      ],
      "metadata": {
        "id": "vjHjp1Sj7QH4"
      },
      "execution_count": 69,
      "outputs": []
    },
    {
      "cell_type": "code",
      "source": [
        "test_data['merch_lat'] = pd.to_numeric(test_data['merch_lat'], errors='coerce')\n",
        "test_data['merch_long'] = pd.to_numeric(test_data['merch_long'], errors='coerce')\n"
      ],
      "metadata": {
        "id": "O4Zsough6pke"
      },
      "execution_count": 70,
      "outputs": []
    },
    {
      "cell_type": "code",
      "source": [
        "print(data[['merch_lat', 'merch_long']].isna().sum())\n"
      ],
      "metadata": {
        "id": "zMRIWuoS7S0j",
        "colab": {
          "base_uri": "https://localhost:8080/"
        },
        "outputId": "d688809e-7aa5-4989-849c-7e7756e34b70"
      },
      "execution_count": 71,
      "outputs": [
        {
          "output_type": "stream",
          "name": "stdout",
          "text": [
            "merch_lat     0\n",
            "merch_long    0\n",
            "dtype: int64\n"
          ]
        }
      ]
    },
    {
      "cell_type": "code",
      "source": [
        "import pandas as pd\n",
        "import numpy as np\n",
        "from geopy.distance import geodesic\n",
        "\n",
        "data = data.sort_values(by=['cc_id', 'trans_date', 'trans_time'])\n",
        "\n",
        "data['prev_merch_lat'] = data.groupby('cc_id')['merch_lat'].shift()\n",
        "data['prev_merch_long'] = data.groupby('cc_id')['merch_long'].shift()\n",
        "\n",
        "def calculate_geodesic_distance(lat1, lon1, lat2, lon2):\n",
        "    if np.isnan(lat1) or np.isnan(lon1) or np.isnan(lat2) or np.isnan(lon2):\n",
        "        return 0\n",
        "    return geodesic((lat1, lon1), (lat2, lon2)).meters\n",
        "\n",
        "\n",
        "data['distance_from_last_transaction'] = np.vectorize(calculate_geodesic_distance)(\n",
        "    data['prev_merch_lat'], data['prev_merch_long'],\n",
        "    data['merch_lat'], data['merch_long']\n",
        ")\n",
        "\n",
        "\n",
        "data.drop(columns=['prev_merch_lat', 'prev_merch_long'], inplace=True)"
      ],
      "metadata": {
        "id": "se1ng-CI5To3"
      },
      "execution_count": 72,
      "outputs": []
    },
    {
      "cell_type": "code",
      "source": [
        "import pandas as pd\n",
        "import numpy as np\n",
        "from geopy.distance import geodesic\n",
        "\n",
        "test_data = test_data.sort_values(by=['cc_id', 'trans_date', 'trans_time'])\n",
        "\n",
        "test_data['prev_merch_lat'] = test_data.groupby('cc_id')['merch_lat'].shift()\n",
        "test_data['prev_merch_long'] = test_data.groupby('cc_id')['merch_long'].shift()\n",
        "\n",
        "def calculate_geodesic_distance(lat1, lon1, lat2, lon2):\n",
        "    if np.isnan(lat1) or np.isnan(lon1) or np.isnan(lat2) or np.isnan(lon2):\n",
        "        return 0\n",
        "    return geodesic((lat1, lon1), (lat2, lon2)).meters\n",
        "\n",
        "\n",
        "test_data['distance_from_last_transaction'] = np.vectorize(calculate_geodesic_distance)(\n",
        "    test_data['prev_merch_lat'], test_data['prev_merch_long'],\n",
        "    test_data['merch_lat'], test_data['merch_long']\n",
        ")\n",
        "\n",
        "\n",
        "test_data.drop(columns=['prev_merch_lat', 'prev_merch_long'], inplace=True)"
      ],
      "metadata": {
        "id": "YIGPCLcsA898"
      },
      "execution_count": 73,
      "outputs": []
    },
    {
      "cell_type": "markdown",
      "source": [
        "Changing to kilometers"
      ],
      "metadata": {
        "id": "dle0V_wyL5FQ"
      }
    },
    {
      "cell_type": "code",
      "source": [
        "data['distance_from_last_transaction'] = data['distance_from_last_transaction'] / 1000\n",
        "test_data['distance_from_last_transaction'] = test_data['distance_from_last_transaction'] / 1000"
      ],
      "metadata": {
        "id": "lT_QJi2i58Gv"
      },
      "execution_count": 74,
      "outputs": []
    },
    {
      "cell_type": "markdown",
      "source": [
        "## 4.2 Times\n",
        "\n",
        "-Transaction velocity(1h)\n",
        "\n",
        "-Transaction velocity(24h)\n",
        "\n",
        "-time since last transation"
      ],
      "metadata": {
        "id": "NMsmhELFgxXv"
      }
    },
    {
      "cell_type": "markdown",
      "source": [
        "### 4.2.1 Transaction velocity(1h)\n",
        "\n",
        "How many transactions on cc_id in last hour"
      ],
      "metadata": {
        "id": "vpUjm3kI9qBU"
      }
    },
    {
      "cell_type": "code",
      "source": [
        "data"
      ],
      "metadata": {
        "id": "L7Y7hzP6AkOb",
        "colab": {
          "base_uri": "https://localhost:8080/",
          "height": 791
        },
        "outputId": "8bdb3174-542d-42d7-9665-5aba6bba0549"
      },
      "execution_count": 75,
      "outputs": [
        {
          "output_type": "execute_result",
          "data": {
            "text/plain": [
              "         Unnamed: 0                     merchant       category     amt  is_M  \\\n",
              "1017           1017  Jones, Sawayn and Romaguera       misc_net    7.27     0   \n",
              "2724           2724                    Berge LLC  gas_transport   52.94     0   \n",
              "2726           2726                 Luettgen PLC  gas_transport   82.08     0   \n",
              "2882           2882                Daugherty LLC      kids_pets   34.79     0   \n",
              "2907           2907               Beier and Sons           home   27.18     0   \n",
              "...             ...                          ...            ...     ...   ...   \n",
              "1294934     1294934    Berge, Kautzer and Harris  personal_care   60.47     1   \n",
              "1295369     1295369                 Bernhard Inc  gas_transport   74.29     1   \n",
              "1295587     1295587      Reichert, Rowe and Mraz   shopping_net  246.56     1   \n",
              "1296206     1296206                   Jewess LLC   shopping_pos    2.62     1   \n",
              "1296427     1296427      Reilly, Heaney and Cole  gas_transport   39.29     1   \n",
              "\n",
              "        state      lat      long  city_pop                          job  ...  \\\n",
              "1017       WY  43.0048 -108.8964      1645  Information systems manager  ...   \n",
              "2724       WY  43.0048 -108.8964      1645  Information systems manager  ...   \n",
              "2726       WY  43.0048 -108.8964      1645  Information systems manager  ...   \n",
              "2882       WY  43.0048 -108.8964      1645  Information systems manager  ...   \n",
              "2907       WY  43.0048 -108.8964      1645  Information systems manager  ...   \n",
              "...       ...      ...       ...       ...                          ...  ...   \n",
              "1294934    IL  41.1730  -89.2187       532       Audiological scientist  ...   \n",
              "1295369    IL  41.1730  -89.2187       532       Audiological scientist  ...   \n",
              "1295587    IL  41.1730  -89.2187       532       Audiological scientist  ...   \n",
              "1296206    IL  41.1730  -89.2187       532       Audiological scientist  ...   \n",
              "1296427    IL  41.1730  -89.2187       532       Audiological scientist  ...   \n",
              "\n",
              "         state_id  state_fraud_rate  job_id job_fraud_rate Age  \\\n",
              "1017           20          0.005693     NaN       0.008412  32   \n",
              "2724           20          0.005693     NaN       0.008412  32   \n",
              "2726           20          0.005693     NaN       0.008412  32   \n",
              "2882           20          0.005693     NaN       0.008412  32   \n",
              "2907           20          0.005693     NaN       0.008412  32   \n",
              "...           ...               ...     ...            ...  ..   \n",
              "1294934        43          0.005734     NaN       0.007519  64   \n",
              "1295369        43          0.005734     NaN       0.007519  64   \n",
              "1295587        43          0.005734     NaN       0.007519  64   \n",
              "1296206        43          0.005734     NaN       0.007519  64   \n",
              "1296427        43          0.005734     NaN       0.007519  64   \n",
              "\n",
              "         distance_from_merchant  rounded_merch_lat  rounded_merch_long  \\\n",
              "1017                 127.629296            43.9747           -109.7419   \n",
              "2724                 110.202992            42.0188           -109.0442   \n",
              "2726                  21.841827            42.9613           -109.1576   \n",
              "2882                  87.124420            42.2282           -108.7477   \n",
              "2907                  74.352876            43.3217           -108.0911   \n",
              "...                         ...                ...                 ...   \n",
              "1294934               78.397703            40.4754            -89.0761   \n",
              "1295369               55.384911            40.7436            -89.5534   \n",
              "1295587              115.590006            40.2154            -88.6826   \n",
              "1296206               60.536752            40.7629            -88.7450   \n",
              "1296427               52.583216            40.6996            -89.2309   \n",
              "\n",
              "         is_new_merchant  distance_from_last_transaction  \n",
              "1017                   1                           0.000  \n",
              "2724                   1                         224.614  \n",
              "2726                   1                         105.117  \n",
              "2882                   1                          88.111  \n",
              "2907                   1                         132.827  \n",
              "...                  ...                             ...  \n",
              "1294934                0                          72.062  \n",
              "1295369                0                          50.186  \n",
              "1295587                0                          94.300  \n",
              "1296206                0                          61.020  \n",
              "1296427                0                          41.649  \n",
              "\n",
              "[1296675 rows x 31 columns]"
            ],
            "text/html": [
              "\n",
              "  <div id=\"df-434c6df2-134f-4384-bda0-c6d5e6388282\" class=\"colab-df-container\">\n",
              "    <div>\n",
              "<style scoped>\n",
              "    .dataframe tbody tr th:only-of-type {\n",
              "        vertical-align: middle;\n",
              "    }\n",
              "\n",
              "    .dataframe tbody tr th {\n",
              "        vertical-align: top;\n",
              "    }\n",
              "\n",
              "    .dataframe thead th {\n",
              "        text-align: right;\n",
              "    }\n",
              "</style>\n",
              "<table border=\"1\" class=\"dataframe\">\n",
              "  <thead>\n",
              "    <tr style=\"text-align: right;\">\n",
              "      <th></th>\n",
              "      <th>Unnamed: 0</th>\n",
              "      <th>merchant</th>\n",
              "      <th>category</th>\n",
              "      <th>amt</th>\n",
              "      <th>is_M</th>\n",
              "      <th>state</th>\n",
              "      <th>lat</th>\n",
              "      <th>long</th>\n",
              "      <th>city_pop</th>\n",
              "      <th>job</th>\n",
              "      <th>...</th>\n",
              "      <th>state_id</th>\n",
              "      <th>state_fraud_rate</th>\n",
              "      <th>job_id</th>\n",
              "      <th>job_fraud_rate</th>\n",
              "      <th>Age</th>\n",
              "      <th>distance_from_merchant</th>\n",
              "      <th>rounded_merch_lat</th>\n",
              "      <th>rounded_merch_long</th>\n",
              "      <th>is_new_merchant</th>\n",
              "      <th>distance_from_last_transaction</th>\n",
              "    </tr>\n",
              "  </thead>\n",
              "  <tbody>\n",
              "    <tr>\n",
              "      <th>1017</th>\n",
              "      <td>1017</td>\n",
              "      <td>Jones, Sawayn and Romaguera</td>\n",
              "      <td>misc_net</td>\n",
              "      <td>7.27</td>\n",
              "      <td>0</td>\n",
              "      <td>WY</td>\n",
              "      <td>43.0048</td>\n",
              "      <td>-108.8964</td>\n",
              "      <td>1645</td>\n",
              "      <td>Information systems manager</td>\n",
              "      <td>...</td>\n",
              "      <td>20</td>\n",
              "      <td>0.005693</td>\n",
              "      <td>NaN</td>\n",
              "      <td>0.008412</td>\n",
              "      <td>32</td>\n",
              "      <td>127.629296</td>\n",
              "      <td>43.9747</td>\n",
              "      <td>-109.7419</td>\n",
              "      <td>1</td>\n",
              "      <td>0.000</td>\n",
              "    </tr>\n",
              "    <tr>\n",
              "      <th>2724</th>\n",
              "      <td>2724</td>\n",
              "      <td>Berge LLC</td>\n",
              "      <td>gas_transport</td>\n",
              "      <td>52.94</td>\n",
              "      <td>0</td>\n",
              "      <td>WY</td>\n",
              "      <td>43.0048</td>\n",
              "      <td>-108.8964</td>\n",
              "      <td>1645</td>\n",
              "      <td>Information systems manager</td>\n",
              "      <td>...</td>\n",
              "      <td>20</td>\n",
              "      <td>0.005693</td>\n",
              "      <td>NaN</td>\n",
              "      <td>0.008412</td>\n",
              "      <td>32</td>\n",
              "      <td>110.202992</td>\n",
              "      <td>42.0188</td>\n",
              "      <td>-109.0442</td>\n",
              "      <td>1</td>\n",
              "      <td>224.614</td>\n",
              "    </tr>\n",
              "    <tr>\n",
              "      <th>2726</th>\n",
              "      <td>2726</td>\n",
              "      <td>Luettgen PLC</td>\n",
              "      <td>gas_transport</td>\n",
              "      <td>82.08</td>\n",
              "      <td>0</td>\n",
              "      <td>WY</td>\n",
              "      <td>43.0048</td>\n",
              "      <td>-108.8964</td>\n",
              "      <td>1645</td>\n",
              "      <td>Information systems manager</td>\n",
              "      <td>...</td>\n",
              "      <td>20</td>\n",
              "      <td>0.005693</td>\n",
              "      <td>NaN</td>\n",
              "      <td>0.008412</td>\n",
              "      <td>32</td>\n",
              "      <td>21.841827</td>\n",
              "      <td>42.9613</td>\n",
              "      <td>-109.1576</td>\n",
              "      <td>1</td>\n",
              "      <td>105.117</td>\n",
              "    </tr>\n",
              "    <tr>\n",
              "      <th>2882</th>\n",
              "      <td>2882</td>\n",
              "      <td>Daugherty LLC</td>\n",
              "      <td>kids_pets</td>\n",
              "      <td>34.79</td>\n",
              "      <td>0</td>\n",
              "      <td>WY</td>\n",
              "      <td>43.0048</td>\n",
              "      <td>-108.8964</td>\n",
              "      <td>1645</td>\n",
              "      <td>Information systems manager</td>\n",
              "      <td>...</td>\n",
              "      <td>20</td>\n",
              "      <td>0.005693</td>\n",
              "      <td>NaN</td>\n",
              "      <td>0.008412</td>\n",
              "      <td>32</td>\n",
              "      <td>87.124420</td>\n",
              "      <td>42.2282</td>\n",
              "      <td>-108.7477</td>\n",
              "      <td>1</td>\n",
              "      <td>88.111</td>\n",
              "    </tr>\n",
              "    <tr>\n",
              "      <th>2907</th>\n",
              "      <td>2907</td>\n",
              "      <td>Beier and Sons</td>\n",
              "      <td>home</td>\n",
              "      <td>27.18</td>\n",
              "      <td>0</td>\n",
              "      <td>WY</td>\n",
              "      <td>43.0048</td>\n",
              "      <td>-108.8964</td>\n",
              "      <td>1645</td>\n",
              "      <td>Information systems manager</td>\n",
              "      <td>...</td>\n",
              "      <td>20</td>\n",
              "      <td>0.005693</td>\n",
              "      <td>NaN</td>\n",
              "      <td>0.008412</td>\n",
              "      <td>32</td>\n",
              "      <td>74.352876</td>\n",
              "      <td>43.3217</td>\n",
              "      <td>-108.0911</td>\n",
              "      <td>1</td>\n",
              "      <td>132.827</td>\n",
              "    </tr>\n",
              "    <tr>\n",
              "      <th>...</th>\n",
              "      <td>...</td>\n",
              "      <td>...</td>\n",
              "      <td>...</td>\n",
              "      <td>...</td>\n",
              "      <td>...</td>\n",
              "      <td>...</td>\n",
              "      <td>...</td>\n",
              "      <td>...</td>\n",
              "      <td>...</td>\n",
              "      <td>...</td>\n",
              "      <td>...</td>\n",
              "      <td>...</td>\n",
              "      <td>...</td>\n",
              "      <td>...</td>\n",
              "      <td>...</td>\n",
              "      <td>...</td>\n",
              "      <td>...</td>\n",
              "      <td>...</td>\n",
              "      <td>...</td>\n",
              "      <td>...</td>\n",
              "      <td>...</td>\n",
              "    </tr>\n",
              "    <tr>\n",
              "      <th>1294934</th>\n",
              "      <td>1294934</td>\n",
              "      <td>Berge, Kautzer and Harris</td>\n",
              "      <td>personal_care</td>\n",
              "      <td>60.47</td>\n",
              "      <td>1</td>\n",
              "      <td>IL</td>\n",
              "      <td>41.1730</td>\n",
              "      <td>-89.2187</td>\n",
              "      <td>532</td>\n",
              "      <td>Audiological scientist</td>\n",
              "      <td>...</td>\n",
              "      <td>43</td>\n",
              "      <td>0.005734</td>\n",
              "      <td>NaN</td>\n",
              "      <td>0.007519</td>\n",
              "      <td>64</td>\n",
              "      <td>78.397703</td>\n",
              "      <td>40.4754</td>\n",
              "      <td>-89.0761</td>\n",
              "      <td>0</td>\n",
              "      <td>72.062</td>\n",
              "    </tr>\n",
              "    <tr>\n",
              "      <th>1295369</th>\n",
              "      <td>1295369</td>\n",
              "      <td>Bernhard Inc</td>\n",
              "      <td>gas_transport</td>\n",
              "      <td>74.29</td>\n",
              "      <td>1</td>\n",
              "      <td>IL</td>\n",
              "      <td>41.1730</td>\n",
              "      <td>-89.2187</td>\n",
              "      <td>532</td>\n",
              "      <td>Audiological scientist</td>\n",
              "      <td>...</td>\n",
              "      <td>43</td>\n",
              "      <td>0.005734</td>\n",
              "      <td>NaN</td>\n",
              "      <td>0.007519</td>\n",
              "      <td>64</td>\n",
              "      <td>55.384911</td>\n",
              "      <td>40.7436</td>\n",
              "      <td>-89.5534</td>\n",
              "      <td>0</td>\n",
              "      <td>50.186</td>\n",
              "    </tr>\n",
              "    <tr>\n",
              "      <th>1295587</th>\n",
              "      <td>1295587</td>\n",
              "      <td>Reichert, Rowe and Mraz</td>\n",
              "      <td>shopping_net</td>\n",
              "      <td>246.56</td>\n",
              "      <td>1</td>\n",
              "      <td>IL</td>\n",
              "      <td>41.1730</td>\n",
              "      <td>-89.2187</td>\n",
              "      <td>532</td>\n",
              "      <td>Audiological scientist</td>\n",
              "      <td>...</td>\n",
              "      <td>43</td>\n",
              "      <td>0.005734</td>\n",
              "      <td>NaN</td>\n",
              "      <td>0.007519</td>\n",
              "      <td>64</td>\n",
              "      <td>115.590006</td>\n",
              "      <td>40.2154</td>\n",
              "      <td>-88.6826</td>\n",
              "      <td>0</td>\n",
              "      <td>94.300</td>\n",
              "    </tr>\n",
              "    <tr>\n",
              "      <th>1296206</th>\n",
              "      <td>1296206</td>\n",
              "      <td>Jewess LLC</td>\n",
              "      <td>shopping_pos</td>\n",
              "      <td>2.62</td>\n",
              "      <td>1</td>\n",
              "      <td>IL</td>\n",
              "      <td>41.1730</td>\n",
              "      <td>-89.2187</td>\n",
              "      <td>532</td>\n",
              "      <td>Audiological scientist</td>\n",
              "      <td>...</td>\n",
              "      <td>43</td>\n",
              "      <td>0.005734</td>\n",
              "      <td>NaN</td>\n",
              "      <td>0.007519</td>\n",
              "      <td>64</td>\n",
              "      <td>60.536752</td>\n",
              "      <td>40.7629</td>\n",
              "      <td>-88.7450</td>\n",
              "      <td>0</td>\n",
              "      <td>61.020</td>\n",
              "    </tr>\n",
              "    <tr>\n",
              "      <th>1296427</th>\n",
              "      <td>1296427</td>\n",
              "      <td>Reilly, Heaney and Cole</td>\n",
              "      <td>gas_transport</td>\n",
              "      <td>39.29</td>\n",
              "      <td>1</td>\n",
              "      <td>IL</td>\n",
              "      <td>41.1730</td>\n",
              "      <td>-89.2187</td>\n",
              "      <td>532</td>\n",
              "      <td>Audiological scientist</td>\n",
              "      <td>...</td>\n",
              "      <td>43</td>\n",
              "      <td>0.005734</td>\n",
              "      <td>NaN</td>\n",
              "      <td>0.007519</td>\n",
              "      <td>64</td>\n",
              "      <td>52.583216</td>\n",
              "      <td>40.6996</td>\n",
              "      <td>-89.2309</td>\n",
              "      <td>0</td>\n",
              "      <td>41.649</td>\n",
              "    </tr>\n",
              "  </tbody>\n",
              "</table>\n",
              "<p>1296675 rows × 31 columns</p>\n",
              "</div>\n",
              "    <div class=\"colab-df-buttons\">\n",
              "\n",
              "  <div class=\"colab-df-container\">\n",
              "    <button class=\"colab-df-convert\" onclick=\"convertToInteractive('df-434c6df2-134f-4384-bda0-c6d5e6388282')\"\n",
              "            title=\"Convert this dataframe to an interactive table.\"\n",
              "            style=\"display:none;\">\n",
              "\n",
              "  <svg xmlns=\"http://www.w3.org/2000/svg\" height=\"24px\" viewBox=\"0 -960 960 960\">\n",
              "    <path d=\"M120-120v-720h720v720H120Zm60-500h600v-160H180v160Zm220 220h160v-160H400v160Zm0 220h160v-160H400v160ZM180-400h160v-160H180v160Zm440 0h160v-160H620v160ZM180-180h160v-160H180v160Zm440 0h160v-160H620v160Z\"/>\n",
              "  </svg>\n",
              "    </button>\n",
              "\n",
              "  <style>\n",
              "    .colab-df-container {\n",
              "      display:flex;\n",
              "      gap: 12px;\n",
              "    }\n",
              "\n",
              "    .colab-df-convert {\n",
              "      background-color: #E8F0FE;\n",
              "      border: none;\n",
              "      border-radius: 50%;\n",
              "      cursor: pointer;\n",
              "      display: none;\n",
              "      fill: #1967D2;\n",
              "      height: 32px;\n",
              "      padding: 0 0 0 0;\n",
              "      width: 32px;\n",
              "    }\n",
              "\n",
              "    .colab-df-convert:hover {\n",
              "      background-color: #E2EBFA;\n",
              "      box-shadow: 0px 1px 2px rgba(60, 64, 67, 0.3), 0px 1px 3px 1px rgba(60, 64, 67, 0.15);\n",
              "      fill: #174EA6;\n",
              "    }\n",
              "\n",
              "    .colab-df-buttons div {\n",
              "      margin-bottom: 4px;\n",
              "    }\n",
              "\n",
              "    [theme=dark] .colab-df-convert {\n",
              "      background-color: #3B4455;\n",
              "      fill: #D2E3FC;\n",
              "    }\n",
              "\n",
              "    [theme=dark] .colab-df-convert:hover {\n",
              "      background-color: #434B5C;\n",
              "      box-shadow: 0px 1px 3px 1px rgba(0, 0, 0, 0.15);\n",
              "      filter: drop-shadow(0px 1px 2px rgba(0, 0, 0, 0.3));\n",
              "      fill: #FFFFFF;\n",
              "    }\n",
              "  </style>\n",
              "\n",
              "    <script>\n",
              "      const buttonEl =\n",
              "        document.querySelector('#df-434c6df2-134f-4384-bda0-c6d5e6388282 button.colab-df-convert');\n",
              "      buttonEl.style.display =\n",
              "        google.colab.kernel.accessAllowed ? 'block' : 'none';\n",
              "\n",
              "      async function convertToInteractive(key) {\n",
              "        const element = document.querySelector('#df-434c6df2-134f-4384-bda0-c6d5e6388282');\n",
              "        const dataTable =\n",
              "          await google.colab.kernel.invokeFunction('convertToInteractive',\n",
              "                                                    [key], {});\n",
              "        if (!dataTable) return;\n",
              "\n",
              "        const docLinkHtml = 'Like what you see? Visit the ' +\n",
              "          '<a target=\"_blank\" href=https://colab.research.google.com/notebooks/data_table.ipynb>data table notebook</a>'\n",
              "          + ' to learn more about interactive tables.';\n",
              "        element.innerHTML = '';\n",
              "        dataTable['output_type'] = 'display_data';\n",
              "        await google.colab.output.renderOutput(dataTable, element);\n",
              "        const docLink = document.createElement('div');\n",
              "        docLink.innerHTML = docLinkHtml;\n",
              "        element.appendChild(docLink);\n",
              "      }\n",
              "    </script>\n",
              "  </div>\n",
              "\n",
              "\n",
              "<div id=\"df-b0eeb4ce-4e37-422d-a2cf-3519b473c8f7\">\n",
              "  <button class=\"colab-df-quickchart\" onclick=\"quickchart('df-b0eeb4ce-4e37-422d-a2cf-3519b473c8f7')\"\n",
              "            title=\"Suggest charts\"\n",
              "            style=\"display:none;\">\n",
              "\n",
              "<svg xmlns=\"http://www.w3.org/2000/svg\" height=\"24px\"viewBox=\"0 0 24 24\"\n",
              "     width=\"24px\">\n",
              "    <g>\n",
              "        <path d=\"M19 3H5c-1.1 0-2 .9-2 2v14c0 1.1.9 2 2 2h14c1.1 0 2-.9 2-2V5c0-1.1-.9-2-2-2zM9 17H7v-7h2v7zm4 0h-2V7h2v10zm4 0h-2v-4h2v4z\"/>\n",
              "    </g>\n",
              "</svg>\n",
              "  </button>\n",
              "\n",
              "<style>\n",
              "  .colab-df-quickchart {\n",
              "      --bg-color: #E8F0FE;\n",
              "      --fill-color: #1967D2;\n",
              "      --hover-bg-color: #E2EBFA;\n",
              "      --hover-fill-color: #174EA6;\n",
              "      --disabled-fill-color: #AAA;\n",
              "      --disabled-bg-color: #DDD;\n",
              "  }\n",
              "\n",
              "  [theme=dark] .colab-df-quickchart {\n",
              "      --bg-color: #3B4455;\n",
              "      --fill-color: #D2E3FC;\n",
              "      --hover-bg-color: #434B5C;\n",
              "      --hover-fill-color: #FFFFFF;\n",
              "      --disabled-bg-color: #3B4455;\n",
              "      --disabled-fill-color: #666;\n",
              "  }\n",
              "\n",
              "  .colab-df-quickchart {\n",
              "    background-color: var(--bg-color);\n",
              "    border: none;\n",
              "    border-radius: 50%;\n",
              "    cursor: pointer;\n",
              "    display: none;\n",
              "    fill: var(--fill-color);\n",
              "    height: 32px;\n",
              "    padding: 0;\n",
              "    width: 32px;\n",
              "  }\n",
              "\n",
              "  .colab-df-quickchart:hover {\n",
              "    background-color: var(--hover-bg-color);\n",
              "    box-shadow: 0 1px 2px rgba(60, 64, 67, 0.3), 0 1px 3px 1px rgba(60, 64, 67, 0.15);\n",
              "    fill: var(--button-hover-fill-color);\n",
              "  }\n",
              "\n",
              "  .colab-df-quickchart-complete:disabled,\n",
              "  .colab-df-quickchart-complete:disabled:hover {\n",
              "    background-color: var(--disabled-bg-color);\n",
              "    fill: var(--disabled-fill-color);\n",
              "    box-shadow: none;\n",
              "  }\n",
              "\n",
              "  .colab-df-spinner {\n",
              "    border: 2px solid var(--fill-color);\n",
              "    border-color: transparent;\n",
              "    border-bottom-color: var(--fill-color);\n",
              "    animation:\n",
              "      spin 1s steps(1) infinite;\n",
              "  }\n",
              "\n",
              "  @keyframes spin {\n",
              "    0% {\n",
              "      border-color: transparent;\n",
              "      border-bottom-color: var(--fill-color);\n",
              "      border-left-color: var(--fill-color);\n",
              "    }\n",
              "    20% {\n",
              "      border-color: transparent;\n",
              "      border-left-color: var(--fill-color);\n",
              "      border-top-color: var(--fill-color);\n",
              "    }\n",
              "    30% {\n",
              "      border-color: transparent;\n",
              "      border-left-color: var(--fill-color);\n",
              "      border-top-color: var(--fill-color);\n",
              "      border-right-color: var(--fill-color);\n",
              "    }\n",
              "    40% {\n",
              "      border-color: transparent;\n",
              "      border-right-color: var(--fill-color);\n",
              "      border-top-color: var(--fill-color);\n",
              "    }\n",
              "    60% {\n",
              "      border-color: transparent;\n",
              "      border-right-color: var(--fill-color);\n",
              "    }\n",
              "    80% {\n",
              "      border-color: transparent;\n",
              "      border-right-color: var(--fill-color);\n",
              "      border-bottom-color: var(--fill-color);\n",
              "    }\n",
              "    90% {\n",
              "      border-color: transparent;\n",
              "      border-bottom-color: var(--fill-color);\n",
              "    }\n",
              "  }\n",
              "</style>\n",
              "\n",
              "  <script>\n",
              "    async function quickchart(key) {\n",
              "      const quickchartButtonEl =\n",
              "        document.querySelector('#' + key + ' button');\n",
              "      quickchartButtonEl.disabled = true;  // To prevent multiple clicks.\n",
              "      quickchartButtonEl.classList.add('colab-df-spinner');\n",
              "      try {\n",
              "        const charts = await google.colab.kernel.invokeFunction(\n",
              "            'suggestCharts', [key], {});\n",
              "      } catch (error) {\n",
              "        console.error('Error during call to suggestCharts:', error);\n",
              "      }\n",
              "      quickchartButtonEl.classList.remove('colab-df-spinner');\n",
              "      quickchartButtonEl.classList.add('colab-df-quickchart-complete');\n",
              "    }\n",
              "    (() => {\n",
              "      let quickchartButtonEl =\n",
              "        document.querySelector('#df-b0eeb4ce-4e37-422d-a2cf-3519b473c8f7 button');\n",
              "      quickchartButtonEl.style.display =\n",
              "        google.colab.kernel.accessAllowed ? 'block' : 'none';\n",
              "    })();\n",
              "  </script>\n",
              "</div>\n",
              "\n",
              "  <div id=\"id_52d0516e-011f-45b6-8b05-4a8ef344f4a0\">\n",
              "    <style>\n",
              "      .colab-df-generate {\n",
              "        background-color: #E8F0FE;\n",
              "        border: none;\n",
              "        border-radius: 50%;\n",
              "        cursor: pointer;\n",
              "        display: none;\n",
              "        fill: #1967D2;\n",
              "        height: 32px;\n",
              "        padding: 0 0 0 0;\n",
              "        width: 32px;\n",
              "      }\n",
              "\n",
              "      .colab-df-generate:hover {\n",
              "        background-color: #E2EBFA;\n",
              "        box-shadow: 0px 1px 2px rgba(60, 64, 67, 0.3), 0px 1px 3px 1px rgba(60, 64, 67, 0.15);\n",
              "        fill: #174EA6;\n",
              "      }\n",
              "\n",
              "      [theme=dark] .colab-df-generate {\n",
              "        background-color: #3B4455;\n",
              "        fill: #D2E3FC;\n",
              "      }\n",
              "\n",
              "      [theme=dark] .colab-df-generate:hover {\n",
              "        background-color: #434B5C;\n",
              "        box-shadow: 0px 1px 3px 1px rgba(0, 0, 0, 0.15);\n",
              "        filter: drop-shadow(0px 1px 2px rgba(0, 0, 0, 0.3));\n",
              "        fill: #FFFFFF;\n",
              "      }\n",
              "    </style>\n",
              "    <button class=\"colab-df-generate\" onclick=\"generateWithVariable('data')\"\n",
              "            title=\"Generate code using this dataframe.\"\n",
              "            style=\"display:none;\">\n",
              "\n",
              "  <svg xmlns=\"http://www.w3.org/2000/svg\" height=\"24px\"viewBox=\"0 0 24 24\"\n",
              "       width=\"24px\">\n",
              "    <path d=\"M7,19H8.4L18.45,9,17,7.55,7,17.6ZM5,21V16.75L18.45,3.32a2,2,0,0,1,2.83,0l1.4,1.43a1.91,1.91,0,0,1,.58,1.4,1.91,1.91,0,0,1-.58,1.4L9.25,21ZM18.45,9,17,7.55Zm-12,3A5.31,5.31,0,0,0,4.9,8.1,5.31,5.31,0,0,0,1,6.5,5.31,5.31,0,0,0,4.9,4.9,5.31,5.31,0,0,0,6.5,1,5.31,5.31,0,0,0,8.1,4.9,5.31,5.31,0,0,0,12,6.5,5.46,5.46,0,0,0,6.5,12Z\"/>\n",
              "  </svg>\n",
              "    </button>\n",
              "    <script>\n",
              "      (() => {\n",
              "      const buttonEl =\n",
              "        document.querySelector('#id_52d0516e-011f-45b6-8b05-4a8ef344f4a0 button.colab-df-generate');\n",
              "      buttonEl.style.display =\n",
              "        google.colab.kernel.accessAllowed ? 'block' : 'none';\n",
              "\n",
              "      buttonEl.onclick = () => {\n",
              "        google.colab.notebook.generateWithVariable('data');\n",
              "      }\n",
              "      })();\n",
              "    </script>\n",
              "  </div>\n",
              "\n",
              "    </div>\n",
              "  </div>\n"
            ],
            "application/vnd.google.colaboratory.intrinsic+json": {
              "type": "dataframe",
              "variable_name": "data"
            }
          },
          "metadata": {},
          "execution_count": 75
        }
      ]
    },
    {
      "cell_type": "code",
      "source": [
        "import pandas as pd\n",
        "\n",
        "data['trans_time'] = pd.to_timedelta(data['trans_time'].astype(str))\n",
        "\n",
        "data['transaction_datetime'] = pd.to_datetime(data['trans_date']) + data['trans_time']\n"
      ],
      "metadata": {
        "id": "WDJ5omhHBVM5"
      },
      "execution_count": 76,
      "outputs": []
    },
    {
      "cell_type": "code",
      "source": [
        "import pandas as pd\n",
        "\n",
        "test_data['trans_time'] = pd.to_timedelta(test_data['trans_time'].astype(str))\n",
        "\n",
        "test_data['transaction_datetime'] = pd.to_datetime(test_data['trans_date']) + test_data['trans_time']\n"
      ],
      "metadata": {
        "id": "Cp2SH0iOBNAn"
      },
      "execution_count": 77,
      "outputs": []
    },
    {
      "cell_type": "markdown",
      "source": [],
      "metadata": {
        "id": "J1cs_SajBUk7"
      }
    },
    {
      "cell_type": "code",
      "source": [
        "import pandas as pd\n",
        "\n",
        "data = data.sort_values(by=['cc_id', 'transaction_datetime'])\n",
        "\n",
        "def count_transactions_last_hour(group):\n",
        "    return group.apply(lambda x: group[(group >= x - pd.Timedelta(hours=1)) & (group < x)].count())\n",
        "\n",
        "data['transaction_velocity_1h'] = data.groupby('cc_id')['transaction_datetime'].transform(count_transactions_last_hour)\n"
      ],
      "metadata": {
        "id": "16MJkJeyBsn-"
      },
      "execution_count": 78,
      "outputs": []
    },
    {
      "cell_type": "code",
      "source": [
        "import pandas as pd\n",
        "\n",
        "test_data = test_data.sort_values(by=['cc_id', 'transaction_datetime'])\n",
        "\n",
        "def count_transactions_last_hour(group):\n",
        "    return group.apply(lambda x: group[(group >= x - pd.Timedelta(hours=1)) & (group < x)].count())\n",
        "\n",
        "test_data['transaction_velocity_1h'] = test_data.groupby('cc_id')['transaction_datetime'].transform(count_transactions_last_hour)\n"
      ],
      "metadata": {
        "id": "2mCFV7iuBULR"
      },
      "execution_count": 79,
      "outputs": []
    },
    {
      "cell_type": "code",
      "source": [
        "data['transaction_velocity_1h'][:5]"
      ],
      "metadata": {
        "id": "Sm4glNGmBtZD",
        "colab": {
          "base_uri": "https://localhost:8080/",
          "height": 241
        },
        "outputId": "57b19a93-6683-4645-fa39-3313422ff13d"
      },
      "execution_count": 80,
      "outputs": [
        {
          "output_type": "execute_result",
          "data": {
            "text/plain": [
              "1017    0\n",
              "2724    0\n",
              "2726    1\n",
              "2882    0\n",
              "2907    1\n",
              "Name: transaction_velocity_1h, dtype: int64"
            ],
            "text/html": [
              "<div>\n",
              "<style scoped>\n",
              "    .dataframe tbody tr th:only-of-type {\n",
              "        vertical-align: middle;\n",
              "    }\n",
              "\n",
              "    .dataframe tbody tr th {\n",
              "        vertical-align: top;\n",
              "    }\n",
              "\n",
              "    .dataframe thead th {\n",
              "        text-align: right;\n",
              "    }\n",
              "</style>\n",
              "<table border=\"1\" class=\"dataframe\">\n",
              "  <thead>\n",
              "    <tr style=\"text-align: right;\">\n",
              "      <th></th>\n",
              "      <th>transaction_velocity_1h</th>\n",
              "    </tr>\n",
              "  </thead>\n",
              "  <tbody>\n",
              "    <tr>\n",
              "      <th>1017</th>\n",
              "      <td>0</td>\n",
              "    </tr>\n",
              "    <tr>\n",
              "      <th>2724</th>\n",
              "      <td>0</td>\n",
              "    </tr>\n",
              "    <tr>\n",
              "      <th>2726</th>\n",
              "      <td>1</td>\n",
              "    </tr>\n",
              "    <tr>\n",
              "      <th>2882</th>\n",
              "      <td>0</td>\n",
              "    </tr>\n",
              "    <tr>\n",
              "      <th>2907</th>\n",
              "      <td>1</td>\n",
              "    </tr>\n",
              "  </tbody>\n",
              "</table>\n",
              "</div><br><label><b>dtype:</b> int64</label>"
            ]
          },
          "metadata": {},
          "execution_count": 80
        }
      ]
    },
    {
      "cell_type": "markdown",
      "source": [
        "### 4.2.2 Transaction velocity(24h)\n",
        "\n",
        "Compute transactions in the last 24 hours per credit card\n"
      ],
      "metadata": {
        "id": "EEEWYDjn9-tg"
      }
    },
    {
      "cell_type": "code",
      "source": [
        "import pandas as pd\n",
        "\n",
        "data = data.sort_values(by=['cc_id', 'transaction_datetime'])\n",
        "\n",
        "def count_transactions_last_24_hours(group):\n",
        "    return group.apply(lambda x: group[(group >= x - pd.Timedelta(hours=24)) & (group < x)].count())\n",
        "\n",
        "data['transaction_velocity_24h'] = data.groupby('cc_id')['transaction_datetime'].transform(count_transactions_last_24_hours)\n"
      ],
      "metadata": {
        "id": "SKDijxMA-JBH"
      },
      "execution_count": 81,
      "outputs": []
    },
    {
      "cell_type": "code",
      "source": [
        "import pandas as pd\n",
        "\n",
        "test_data = test_data.sort_values(by=['cc_id', 'transaction_datetime'])\n",
        "\n",
        "def count_transactions_last_24_hours(group):\n",
        "    return group.apply(lambda x: group[(group >= x - pd.Timedelta(hours=24)) & (group < x)].count())\n",
        "\n",
        "test_data['transaction_velocity_24h'] = test_data.groupby('cc_id')['transaction_datetime'].transform(count_transactions_last_24_hours)\n"
      ],
      "metadata": {
        "id": "aOf2mZCNBbVX"
      },
      "execution_count": 82,
      "outputs": []
    },
    {
      "cell_type": "code",
      "source": [
        "data['transaction_velocity_24h'][:5]"
      ],
      "metadata": {
        "id": "cEqHNsMOIxdk",
        "colab": {
          "base_uri": "https://localhost:8080/",
          "height": 241
        },
        "outputId": "2b0dad9d-e55e-4651-da6d-f6bbc98361f5"
      },
      "execution_count": 83,
      "outputs": [
        {
          "output_type": "execute_result",
          "data": {
            "text/plain": [
              "1017    0\n",
              "2724    1\n",
              "2726    2\n",
              "2882    3\n",
              "2907    3\n",
              "Name: transaction_velocity_24h, dtype: int64"
            ],
            "text/html": [
              "<div>\n",
              "<style scoped>\n",
              "    .dataframe tbody tr th:only-of-type {\n",
              "        vertical-align: middle;\n",
              "    }\n",
              "\n",
              "    .dataframe tbody tr th {\n",
              "        vertical-align: top;\n",
              "    }\n",
              "\n",
              "    .dataframe thead th {\n",
              "        text-align: right;\n",
              "    }\n",
              "</style>\n",
              "<table border=\"1\" class=\"dataframe\">\n",
              "  <thead>\n",
              "    <tr style=\"text-align: right;\">\n",
              "      <th></th>\n",
              "      <th>transaction_velocity_24h</th>\n",
              "    </tr>\n",
              "  </thead>\n",
              "  <tbody>\n",
              "    <tr>\n",
              "      <th>1017</th>\n",
              "      <td>0</td>\n",
              "    </tr>\n",
              "    <tr>\n",
              "      <th>2724</th>\n",
              "      <td>1</td>\n",
              "    </tr>\n",
              "    <tr>\n",
              "      <th>2726</th>\n",
              "      <td>2</td>\n",
              "    </tr>\n",
              "    <tr>\n",
              "      <th>2882</th>\n",
              "      <td>3</td>\n",
              "    </tr>\n",
              "    <tr>\n",
              "      <th>2907</th>\n",
              "      <td>3</td>\n",
              "    </tr>\n",
              "  </tbody>\n",
              "</table>\n",
              "</div><br><label><b>dtype:</b> int64</label>"
            ]
          },
          "metadata": {},
          "execution_count": 83
        }
      ]
    },
    {
      "cell_type": "markdown",
      "source": [
        "### 4.2.3 time since last transaction"
      ],
      "metadata": {
        "id": "MQPFEnG--DUs"
      }
    },
    {
      "cell_type": "code",
      "source": [
        "import pandas as pd\n",
        "\n",
        "data = data.sort_values(by=['cc_id', 'transaction_datetime'])\n",
        "\n",
        "data['time_since_last_transaction'] = data.groupby('cc_id')['transaction_datetime'].diff().dt.total_seconds()\n",
        "\n",
        "data['time_since_last_transaction'] = data['time_since_last_transaction'].fillna(0)\n"
      ],
      "metadata": {
        "id": "zjx_DJLj9nQ3"
      },
      "execution_count": 84,
      "outputs": []
    },
    {
      "cell_type": "code",
      "source": [
        "import pandas as pd\n",
        "\n",
        "test_data = test_data.sort_values(by=['cc_id', 'transaction_datetime'])\n",
        "\n",
        "test_data['time_since_last_transaction'] = test_data.groupby('cc_id')['transaction_datetime'].diff().dt.total_seconds()\n",
        "\n",
        "test_data['time_since_last_transaction'] = test_data['time_since_last_transaction'].fillna(0)\n"
      ],
      "metadata": {
        "id": "TmTpBPMMBgwP"
      },
      "execution_count": 85,
      "outputs": []
    },
    {
      "cell_type": "markdown",
      "source": [
        "Changing to hours"
      ],
      "metadata": {
        "id": "yegplLnEM_O6"
      }
    },
    {
      "cell_type": "code",
      "source": [
        "data['time_since_last_transaction'] / 3600\n",
        "test_data['time_since_last_transaction'] / 3600"
      ],
      "metadata": {
        "id": "aBoo23oRKjRT",
        "colab": {
          "base_uri": "https://localhost:8080/",
          "height": 458
        },
        "outputId": "2256ad78-2c8b-4cf2-8880-fa019f88b76a"
      },
      "execution_count": 86,
      "outputs": [
        {
          "output_type": "execute_result",
          "data": {
            "text/plain": [
              "10036     0.000000\n",
              "10047     0.294167\n",
              "10167     2.207222\n",
              "10193     0.418333\n",
              "10206     0.195556\n",
              "            ...   \n",
              "552584    2.243611\n",
              "552892    3.056944\n",
              "553559    6.035833\n",
              "553560    0.028056\n",
              "553883    2.119722\n",
              "Name: time_since_last_transaction, Length: 555719, dtype: float64"
            ],
            "text/html": [
              "<div>\n",
              "<style scoped>\n",
              "    .dataframe tbody tr th:only-of-type {\n",
              "        vertical-align: middle;\n",
              "    }\n",
              "\n",
              "    .dataframe tbody tr th {\n",
              "        vertical-align: top;\n",
              "    }\n",
              "\n",
              "    .dataframe thead th {\n",
              "        text-align: right;\n",
              "    }\n",
              "</style>\n",
              "<table border=\"1\" class=\"dataframe\">\n",
              "  <thead>\n",
              "    <tr style=\"text-align: right;\">\n",
              "      <th></th>\n",
              "      <th>time_since_last_transaction</th>\n",
              "    </tr>\n",
              "  </thead>\n",
              "  <tbody>\n",
              "    <tr>\n",
              "      <th>10036</th>\n",
              "      <td>0.000000</td>\n",
              "    </tr>\n",
              "    <tr>\n",
              "      <th>10047</th>\n",
              "      <td>0.294167</td>\n",
              "    </tr>\n",
              "    <tr>\n",
              "      <th>10167</th>\n",
              "      <td>2.207222</td>\n",
              "    </tr>\n",
              "    <tr>\n",
              "      <th>10193</th>\n",
              "      <td>0.418333</td>\n",
              "    </tr>\n",
              "    <tr>\n",
              "      <th>10206</th>\n",
              "      <td>0.195556</td>\n",
              "    </tr>\n",
              "    <tr>\n",
              "      <th>...</th>\n",
              "      <td>...</td>\n",
              "    </tr>\n",
              "    <tr>\n",
              "      <th>552584</th>\n",
              "      <td>2.243611</td>\n",
              "    </tr>\n",
              "    <tr>\n",
              "      <th>552892</th>\n",
              "      <td>3.056944</td>\n",
              "    </tr>\n",
              "    <tr>\n",
              "      <th>553559</th>\n",
              "      <td>6.035833</td>\n",
              "    </tr>\n",
              "    <tr>\n",
              "      <th>553560</th>\n",
              "      <td>0.028056</td>\n",
              "    </tr>\n",
              "    <tr>\n",
              "      <th>553883</th>\n",
              "      <td>2.119722</td>\n",
              "    </tr>\n",
              "  </tbody>\n",
              "</table>\n",
              "<p>555719 rows × 1 columns</p>\n",
              "</div><br><label><b>dtype:</b> float64</label>"
            ]
          },
          "metadata": {},
          "execution_count": 86
        }
      ]
    },
    {
      "cell_type": "markdown",
      "source": [
        "## 4.3 Amounts\n",
        "\n",
        "-MAD - median absolute deviation\n",
        "\n",
        "-Median transacion amount\n",
        "\n",
        "-diff_from_median"
      ],
      "metadata": {
        "id": "7SLRAk-mgzRc"
      }
    },
    {
      "cell_type": "markdown",
      "source": [
        "### 4.3.1 MAD - median absolute deviation\n",
        "\n",
        "MAD is the way we can measure deviation from median. Positive scores indicates that amount is above median, negative that it is below."
      ],
      "metadata": {
        "id": "QzA09A_RNCMz"
      }
    },
    {
      "cell_type": "code",
      "source": [
        "def rolling_mad_score(group):\n",
        "    rolling_median = group.expanding().median()\n",
        "    mad = group.expanding().apply(lambda x: np.median(np.abs(x - np.median(x))), raw=True)\n",
        "    mad_score = (group - rolling_median) / (mad + 1e-9)  # Avoid division by zero\n",
        "    return mad_score"
      ],
      "metadata": {
        "id": "JrHPZ_18DJgD"
      },
      "execution_count": 87,
      "outputs": []
    },
    {
      "cell_type": "code",
      "source": [
        "import pandas as pd\n",
        "import numpy as np\n",
        "\n",
        "data = data.sort_values(by=['cc_id', 'transaction_datetime'])\n",
        "\n",
        "data['mad_score_amount'] = data.groupby('cc_id')['amt'].transform(rolling_mad_score)\n"
      ],
      "metadata": {
        "id": "6v5c5LGNNUyQ"
      },
      "execution_count": 88,
      "outputs": []
    },
    {
      "cell_type": "code",
      "source": [
        "test_data = test_data.sort_values(by=['cc_id', 'transaction_datetime'])\n",
        "\n",
        "test_data['mad_score_amount'] = test_data.groupby('cc_id')['amt'].transform(rolling_mad_score)\n",
        "\n",
        "test_data[['cc_id', 'amt', 'mad_score_amount']].head()\n"
      ],
      "metadata": {
        "id": "mKH6gz4vDDh5",
        "colab": {
          "base_uri": "https://localhost:8080/",
          "height": 206
        },
        "outputId": "5176c562-e8b2-4d06-d0ca-20329e1cdabd"
      },
      "execution_count": 89,
      "outputs": [
        {
          "output_type": "execute_result",
          "data": {
            "text/plain": [
              "       cc_id     amt  mad_score_amount\n",
              "10036     -1  315.45          0.000000\n",
              "10047     -1  279.78         -1.000000\n",
              "10167     -1  287.38          0.000000\n",
              "10193     -1  276.40         -1.307832\n",
              "10206     -1    7.82        -35.784211"
            ],
            "text/html": [
              "\n",
              "  <div id=\"df-a71dbdf7-67f3-4db2-9311-df4949b59374\" class=\"colab-df-container\">\n",
              "    <div>\n",
              "<style scoped>\n",
              "    .dataframe tbody tr th:only-of-type {\n",
              "        vertical-align: middle;\n",
              "    }\n",
              "\n",
              "    .dataframe tbody tr th {\n",
              "        vertical-align: top;\n",
              "    }\n",
              "\n",
              "    .dataframe thead th {\n",
              "        text-align: right;\n",
              "    }\n",
              "</style>\n",
              "<table border=\"1\" class=\"dataframe\">\n",
              "  <thead>\n",
              "    <tr style=\"text-align: right;\">\n",
              "      <th></th>\n",
              "      <th>cc_id</th>\n",
              "      <th>amt</th>\n",
              "      <th>mad_score_amount</th>\n",
              "    </tr>\n",
              "  </thead>\n",
              "  <tbody>\n",
              "    <tr>\n",
              "      <th>10036</th>\n",
              "      <td>-1</td>\n",
              "      <td>315.45</td>\n",
              "      <td>0.000000</td>\n",
              "    </tr>\n",
              "    <tr>\n",
              "      <th>10047</th>\n",
              "      <td>-1</td>\n",
              "      <td>279.78</td>\n",
              "      <td>-1.000000</td>\n",
              "    </tr>\n",
              "    <tr>\n",
              "      <th>10167</th>\n",
              "      <td>-1</td>\n",
              "      <td>287.38</td>\n",
              "      <td>0.000000</td>\n",
              "    </tr>\n",
              "    <tr>\n",
              "      <th>10193</th>\n",
              "      <td>-1</td>\n",
              "      <td>276.40</td>\n",
              "      <td>-1.307832</td>\n",
              "    </tr>\n",
              "    <tr>\n",
              "      <th>10206</th>\n",
              "      <td>-1</td>\n",
              "      <td>7.82</td>\n",
              "      <td>-35.784211</td>\n",
              "    </tr>\n",
              "  </tbody>\n",
              "</table>\n",
              "</div>\n",
              "    <div class=\"colab-df-buttons\">\n",
              "\n",
              "  <div class=\"colab-df-container\">\n",
              "    <button class=\"colab-df-convert\" onclick=\"convertToInteractive('df-a71dbdf7-67f3-4db2-9311-df4949b59374')\"\n",
              "            title=\"Convert this dataframe to an interactive table.\"\n",
              "            style=\"display:none;\">\n",
              "\n",
              "  <svg xmlns=\"http://www.w3.org/2000/svg\" height=\"24px\" viewBox=\"0 -960 960 960\">\n",
              "    <path d=\"M120-120v-720h720v720H120Zm60-500h600v-160H180v160Zm220 220h160v-160H400v160Zm0 220h160v-160H400v160ZM180-400h160v-160H180v160Zm440 0h160v-160H620v160ZM180-180h160v-160H180v160Zm440 0h160v-160H620v160Z\"/>\n",
              "  </svg>\n",
              "    </button>\n",
              "\n",
              "  <style>\n",
              "    .colab-df-container {\n",
              "      display:flex;\n",
              "      gap: 12px;\n",
              "    }\n",
              "\n",
              "    .colab-df-convert {\n",
              "      background-color: #E8F0FE;\n",
              "      border: none;\n",
              "      border-radius: 50%;\n",
              "      cursor: pointer;\n",
              "      display: none;\n",
              "      fill: #1967D2;\n",
              "      height: 32px;\n",
              "      padding: 0 0 0 0;\n",
              "      width: 32px;\n",
              "    }\n",
              "\n",
              "    .colab-df-convert:hover {\n",
              "      background-color: #E2EBFA;\n",
              "      box-shadow: 0px 1px 2px rgba(60, 64, 67, 0.3), 0px 1px 3px 1px rgba(60, 64, 67, 0.15);\n",
              "      fill: #174EA6;\n",
              "    }\n",
              "\n",
              "    .colab-df-buttons div {\n",
              "      margin-bottom: 4px;\n",
              "    }\n",
              "\n",
              "    [theme=dark] .colab-df-convert {\n",
              "      background-color: #3B4455;\n",
              "      fill: #D2E3FC;\n",
              "    }\n",
              "\n",
              "    [theme=dark] .colab-df-convert:hover {\n",
              "      background-color: #434B5C;\n",
              "      box-shadow: 0px 1px 3px 1px rgba(0, 0, 0, 0.15);\n",
              "      filter: drop-shadow(0px 1px 2px rgba(0, 0, 0, 0.3));\n",
              "      fill: #FFFFFF;\n",
              "    }\n",
              "  </style>\n",
              "\n",
              "    <script>\n",
              "      const buttonEl =\n",
              "        document.querySelector('#df-a71dbdf7-67f3-4db2-9311-df4949b59374 button.colab-df-convert');\n",
              "      buttonEl.style.display =\n",
              "        google.colab.kernel.accessAllowed ? 'block' : 'none';\n",
              "\n",
              "      async function convertToInteractive(key) {\n",
              "        const element = document.querySelector('#df-a71dbdf7-67f3-4db2-9311-df4949b59374');\n",
              "        const dataTable =\n",
              "          await google.colab.kernel.invokeFunction('convertToInteractive',\n",
              "                                                    [key], {});\n",
              "        if (!dataTable) return;\n",
              "\n",
              "        const docLinkHtml = 'Like what you see? Visit the ' +\n",
              "          '<a target=\"_blank\" href=https://colab.research.google.com/notebooks/data_table.ipynb>data table notebook</a>'\n",
              "          + ' to learn more about interactive tables.';\n",
              "        element.innerHTML = '';\n",
              "        dataTable['output_type'] = 'display_data';\n",
              "        await google.colab.output.renderOutput(dataTable, element);\n",
              "        const docLink = document.createElement('div');\n",
              "        docLink.innerHTML = docLinkHtml;\n",
              "        element.appendChild(docLink);\n",
              "      }\n",
              "    </script>\n",
              "  </div>\n",
              "\n",
              "\n",
              "<div id=\"df-941b6dbe-4715-4a91-870e-753346aa6dab\">\n",
              "  <button class=\"colab-df-quickchart\" onclick=\"quickchart('df-941b6dbe-4715-4a91-870e-753346aa6dab')\"\n",
              "            title=\"Suggest charts\"\n",
              "            style=\"display:none;\">\n",
              "\n",
              "<svg xmlns=\"http://www.w3.org/2000/svg\" height=\"24px\"viewBox=\"0 0 24 24\"\n",
              "     width=\"24px\">\n",
              "    <g>\n",
              "        <path d=\"M19 3H5c-1.1 0-2 .9-2 2v14c0 1.1.9 2 2 2h14c1.1 0 2-.9 2-2V5c0-1.1-.9-2-2-2zM9 17H7v-7h2v7zm4 0h-2V7h2v10zm4 0h-2v-4h2v4z\"/>\n",
              "    </g>\n",
              "</svg>\n",
              "  </button>\n",
              "\n",
              "<style>\n",
              "  .colab-df-quickchart {\n",
              "      --bg-color: #E8F0FE;\n",
              "      --fill-color: #1967D2;\n",
              "      --hover-bg-color: #E2EBFA;\n",
              "      --hover-fill-color: #174EA6;\n",
              "      --disabled-fill-color: #AAA;\n",
              "      --disabled-bg-color: #DDD;\n",
              "  }\n",
              "\n",
              "  [theme=dark] .colab-df-quickchart {\n",
              "      --bg-color: #3B4455;\n",
              "      --fill-color: #D2E3FC;\n",
              "      --hover-bg-color: #434B5C;\n",
              "      --hover-fill-color: #FFFFFF;\n",
              "      --disabled-bg-color: #3B4455;\n",
              "      --disabled-fill-color: #666;\n",
              "  }\n",
              "\n",
              "  .colab-df-quickchart {\n",
              "    background-color: var(--bg-color);\n",
              "    border: none;\n",
              "    border-radius: 50%;\n",
              "    cursor: pointer;\n",
              "    display: none;\n",
              "    fill: var(--fill-color);\n",
              "    height: 32px;\n",
              "    padding: 0;\n",
              "    width: 32px;\n",
              "  }\n",
              "\n",
              "  .colab-df-quickchart:hover {\n",
              "    background-color: var(--hover-bg-color);\n",
              "    box-shadow: 0 1px 2px rgba(60, 64, 67, 0.3), 0 1px 3px 1px rgba(60, 64, 67, 0.15);\n",
              "    fill: var(--button-hover-fill-color);\n",
              "  }\n",
              "\n",
              "  .colab-df-quickchart-complete:disabled,\n",
              "  .colab-df-quickchart-complete:disabled:hover {\n",
              "    background-color: var(--disabled-bg-color);\n",
              "    fill: var(--disabled-fill-color);\n",
              "    box-shadow: none;\n",
              "  }\n",
              "\n",
              "  .colab-df-spinner {\n",
              "    border: 2px solid var(--fill-color);\n",
              "    border-color: transparent;\n",
              "    border-bottom-color: var(--fill-color);\n",
              "    animation:\n",
              "      spin 1s steps(1) infinite;\n",
              "  }\n",
              "\n",
              "  @keyframes spin {\n",
              "    0% {\n",
              "      border-color: transparent;\n",
              "      border-bottom-color: var(--fill-color);\n",
              "      border-left-color: var(--fill-color);\n",
              "    }\n",
              "    20% {\n",
              "      border-color: transparent;\n",
              "      border-left-color: var(--fill-color);\n",
              "      border-top-color: var(--fill-color);\n",
              "    }\n",
              "    30% {\n",
              "      border-color: transparent;\n",
              "      border-left-color: var(--fill-color);\n",
              "      border-top-color: var(--fill-color);\n",
              "      border-right-color: var(--fill-color);\n",
              "    }\n",
              "    40% {\n",
              "      border-color: transparent;\n",
              "      border-right-color: var(--fill-color);\n",
              "      border-top-color: var(--fill-color);\n",
              "    }\n",
              "    60% {\n",
              "      border-color: transparent;\n",
              "      border-right-color: var(--fill-color);\n",
              "    }\n",
              "    80% {\n",
              "      border-color: transparent;\n",
              "      border-right-color: var(--fill-color);\n",
              "      border-bottom-color: var(--fill-color);\n",
              "    }\n",
              "    90% {\n",
              "      border-color: transparent;\n",
              "      border-bottom-color: var(--fill-color);\n",
              "    }\n",
              "  }\n",
              "</style>\n",
              "\n",
              "  <script>\n",
              "    async function quickchart(key) {\n",
              "      const quickchartButtonEl =\n",
              "        document.querySelector('#' + key + ' button');\n",
              "      quickchartButtonEl.disabled = true;  // To prevent multiple clicks.\n",
              "      quickchartButtonEl.classList.add('colab-df-spinner');\n",
              "      try {\n",
              "        const charts = await google.colab.kernel.invokeFunction(\n",
              "            'suggestCharts', [key], {});\n",
              "      } catch (error) {\n",
              "        console.error('Error during call to suggestCharts:', error);\n",
              "      }\n",
              "      quickchartButtonEl.classList.remove('colab-df-spinner');\n",
              "      quickchartButtonEl.classList.add('colab-df-quickchart-complete');\n",
              "    }\n",
              "    (() => {\n",
              "      let quickchartButtonEl =\n",
              "        document.querySelector('#df-941b6dbe-4715-4a91-870e-753346aa6dab button');\n",
              "      quickchartButtonEl.style.display =\n",
              "        google.colab.kernel.accessAllowed ? 'block' : 'none';\n",
              "    })();\n",
              "  </script>\n",
              "</div>\n",
              "\n",
              "    </div>\n",
              "  </div>\n"
            ],
            "application/vnd.google.colaboratory.intrinsic+json": {
              "type": "dataframe",
              "summary": "{\n  \"name\": \"test_data[['cc_id', 'amt', 'mad_score_amount']]\",\n  \"rows\": 5,\n  \"fields\": [\n    {\n      \"column\": \"cc_id\",\n      \"properties\": {\n        \"dtype\": \"number\",\n        \"std\": 0,\n        \"min\": -1,\n        \"max\": -1,\n        \"num_unique_values\": 1,\n        \"samples\": [\n          -1\n        ],\n        \"semantic_type\": \"\",\n        \"description\": \"\"\n      }\n    },\n    {\n      \"column\": \"amt\",\n      \"properties\": {\n        \"dtype\": \"number\",\n        \"std\": 127.01621738974909,\n        \"min\": 7.82,\n        \"max\": 315.45,\n        \"num_unique_values\": 5,\n        \"samples\": [\n          279.78\n        ],\n        \"semantic_type\": \"\",\n        \"description\": \"\"\n      }\n    },\n    {\n      \"column\": \"mad_score_amount\",\n      \"properties\": {\n        \"dtype\": \"number\",\n        \"std\": 15.756105175229399,\n        \"min\": -35.78421052160723,\n        \"max\": 0.0,\n        \"num_unique_values\": 4,\n        \"samples\": [\n          -0.9999999999439321\n        ],\n        \"semantic_type\": \"\",\n        \"description\": \"\"\n      }\n    }\n  ]\n}"
            }
          },
          "metadata": {},
          "execution_count": 89
        }
      ]
    },
    {
      "cell_type": "code",
      "source": [
        "data"
      ],
      "metadata": {
        "id": "Nkcru7MfyrHW",
        "colab": {
          "base_uri": "https://localhost:8080/",
          "height": 791
        },
        "outputId": "48d515cb-68ff-4cdd-b69e-61319567db3a"
      },
      "execution_count": 90,
      "outputs": [
        {
          "output_type": "execute_result",
          "data": {
            "text/plain": [
              "         Unnamed: 0                     merchant       category     amt  is_M  \\\n",
              "1017           1017  Jones, Sawayn and Romaguera       misc_net    7.27     0   \n",
              "2724           2724                    Berge LLC  gas_transport   52.94     0   \n",
              "2726           2726                 Luettgen PLC  gas_transport   82.08     0   \n",
              "2882           2882                Daugherty LLC      kids_pets   34.79     0   \n",
              "2907           2907               Beier and Sons           home   27.18     0   \n",
              "...             ...                          ...            ...     ...   ...   \n",
              "1294934     1294934    Berge, Kautzer and Harris  personal_care   60.47     1   \n",
              "1295369     1295369                 Bernhard Inc  gas_transport   74.29     1   \n",
              "1295587     1295587      Reichert, Rowe and Mraz   shopping_net  246.56     1   \n",
              "1296206     1296206                   Jewess LLC   shopping_pos    2.62     1   \n",
              "1296427     1296427      Reilly, Heaney and Cole  gas_transport   39.29     1   \n",
              "\n",
              "        state      lat      long  city_pop                          job  ...  \\\n",
              "1017       WY  43.0048 -108.8964      1645  Information systems manager  ...   \n",
              "2724       WY  43.0048 -108.8964      1645  Information systems manager  ...   \n",
              "2726       WY  43.0048 -108.8964      1645  Information systems manager  ...   \n",
              "2882       WY  43.0048 -108.8964      1645  Information systems manager  ...   \n",
              "2907       WY  43.0048 -108.8964      1645  Information systems manager  ...   \n",
              "...       ...      ...       ...       ...                          ...  ...   \n",
              "1294934    IL  41.1730  -89.2187       532       Audiological scientist  ...   \n",
              "1295369    IL  41.1730  -89.2187       532       Audiological scientist  ...   \n",
              "1295587    IL  41.1730  -89.2187       532       Audiological scientist  ...   \n",
              "1296206    IL  41.1730  -89.2187       532       Audiological scientist  ...   \n",
              "1296427    IL  41.1730  -89.2187       532       Audiological scientist  ...   \n",
              "\n",
              "         distance_from_merchant  rounded_merch_lat  rounded_merch_long  \\\n",
              "1017                 127.629296            43.9747           -109.7419   \n",
              "2724                 110.202992            42.0188           -109.0442   \n",
              "2726                  21.841827            42.9613           -109.1576   \n",
              "2882                  87.124420            42.2282           -108.7477   \n",
              "2907                  74.352876            43.3217           -108.0911   \n",
              "...                         ...                ...                 ...   \n",
              "1294934               78.397703            40.4754            -89.0761   \n",
              "1295369               55.384911            40.7436            -89.5534   \n",
              "1295587              115.590006            40.2154            -88.6826   \n",
              "1296206               60.536752            40.7629            -88.7450   \n",
              "1296427               52.583216            40.6996            -89.2309   \n",
              "\n",
              "        is_new_merchant distance_from_last_transaction  transaction_datetime  \\\n",
              "1017                  1                          0.000   2019-01-01 12:47:15   \n",
              "2724                  1                        224.614   2019-01-02 08:44:57   \n",
              "2726                  1                        105.117   2019-01-02 08:47:36   \n",
              "2882                  1                         88.111   2019-01-02 12:38:14   \n",
              "2907                  1                        132.827   2019-01-02 13:10:46   \n",
              "...                 ...                            ...                   ...   \n",
              "1294934               0                         72.062   2020-06-20 21:04:59   \n",
              "1295369               0                         50.186   2020-06-21 00:41:01   \n",
              "1295587               0                         94.300   2020-06-21 02:47:59   \n",
              "1296206               0                         61.020   2020-06-21 08:04:28   \n",
              "1296427               0                         41.649   2020-06-21 09:58:58   \n",
              "\n",
              "         transaction_velocity_1h  transaction_velocity_24h  \\\n",
              "1017                           0                         0   \n",
              "2724                           0                         1   \n",
              "2726                           1                         2   \n",
              "2882                           0                         3   \n",
              "2907                           1                         3   \n",
              "...                          ...                       ...   \n",
              "1294934                        0                         3   \n",
              "1295369                        0                         3   \n",
              "1295587                        0                         4   \n",
              "1296206                        0                         5   \n",
              "1296427                        0                         5   \n",
              "\n",
              "         time_since_last_transaction  mad_score_amount  \n",
              "1017                             0.0          0.000000  \n",
              "2724                         71862.0          1.000000  \n",
              "2726                           159.0          1.000000  \n",
              "2882                         13838.0         -0.397416  \n",
              "2907                          1952.0         -0.419284  \n",
              "...                              ...               ...  \n",
              "1294934                      30740.0          0.574596  \n",
              "1295369                      12962.0          0.986379  \n",
              "1295587                       7618.0          6.133632  \n",
              "1296206                      18989.0         -1.158588  \n",
              "1296427                       6870.0         -0.059916  \n",
              "\n",
              "[1296675 rows x 36 columns]"
            ],
            "text/html": [
              "\n",
              "  <div id=\"df-f69276ce-548a-499a-b166-299e874213e7\" class=\"colab-df-container\">\n",
              "    <div>\n",
              "<style scoped>\n",
              "    .dataframe tbody tr th:only-of-type {\n",
              "        vertical-align: middle;\n",
              "    }\n",
              "\n",
              "    .dataframe tbody tr th {\n",
              "        vertical-align: top;\n",
              "    }\n",
              "\n",
              "    .dataframe thead th {\n",
              "        text-align: right;\n",
              "    }\n",
              "</style>\n",
              "<table border=\"1\" class=\"dataframe\">\n",
              "  <thead>\n",
              "    <tr style=\"text-align: right;\">\n",
              "      <th></th>\n",
              "      <th>Unnamed: 0</th>\n",
              "      <th>merchant</th>\n",
              "      <th>category</th>\n",
              "      <th>amt</th>\n",
              "      <th>is_M</th>\n",
              "      <th>state</th>\n",
              "      <th>lat</th>\n",
              "      <th>long</th>\n",
              "      <th>city_pop</th>\n",
              "      <th>job</th>\n",
              "      <th>...</th>\n",
              "      <th>distance_from_merchant</th>\n",
              "      <th>rounded_merch_lat</th>\n",
              "      <th>rounded_merch_long</th>\n",
              "      <th>is_new_merchant</th>\n",
              "      <th>distance_from_last_transaction</th>\n",
              "      <th>transaction_datetime</th>\n",
              "      <th>transaction_velocity_1h</th>\n",
              "      <th>transaction_velocity_24h</th>\n",
              "      <th>time_since_last_transaction</th>\n",
              "      <th>mad_score_amount</th>\n",
              "    </tr>\n",
              "  </thead>\n",
              "  <tbody>\n",
              "    <tr>\n",
              "      <th>1017</th>\n",
              "      <td>1017</td>\n",
              "      <td>Jones, Sawayn and Romaguera</td>\n",
              "      <td>misc_net</td>\n",
              "      <td>7.27</td>\n",
              "      <td>0</td>\n",
              "      <td>WY</td>\n",
              "      <td>43.0048</td>\n",
              "      <td>-108.8964</td>\n",
              "      <td>1645</td>\n",
              "      <td>Information systems manager</td>\n",
              "      <td>...</td>\n",
              "      <td>127.629296</td>\n",
              "      <td>43.9747</td>\n",
              "      <td>-109.7419</td>\n",
              "      <td>1</td>\n",
              "      <td>0.000</td>\n",
              "      <td>2019-01-01 12:47:15</td>\n",
              "      <td>0</td>\n",
              "      <td>0</td>\n",
              "      <td>0.0</td>\n",
              "      <td>0.000000</td>\n",
              "    </tr>\n",
              "    <tr>\n",
              "      <th>2724</th>\n",
              "      <td>2724</td>\n",
              "      <td>Berge LLC</td>\n",
              "      <td>gas_transport</td>\n",
              "      <td>52.94</td>\n",
              "      <td>0</td>\n",
              "      <td>WY</td>\n",
              "      <td>43.0048</td>\n",
              "      <td>-108.8964</td>\n",
              "      <td>1645</td>\n",
              "      <td>Information systems manager</td>\n",
              "      <td>...</td>\n",
              "      <td>110.202992</td>\n",
              "      <td>42.0188</td>\n",
              "      <td>-109.0442</td>\n",
              "      <td>1</td>\n",
              "      <td>224.614</td>\n",
              "      <td>2019-01-02 08:44:57</td>\n",
              "      <td>0</td>\n",
              "      <td>1</td>\n",
              "      <td>71862.0</td>\n",
              "      <td>1.000000</td>\n",
              "    </tr>\n",
              "    <tr>\n",
              "      <th>2726</th>\n",
              "      <td>2726</td>\n",
              "      <td>Luettgen PLC</td>\n",
              "      <td>gas_transport</td>\n",
              "      <td>82.08</td>\n",
              "      <td>0</td>\n",
              "      <td>WY</td>\n",
              "      <td>43.0048</td>\n",
              "      <td>-108.8964</td>\n",
              "      <td>1645</td>\n",
              "      <td>Information systems manager</td>\n",
              "      <td>...</td>\n",
              "      <td>21.841827</td>\n",
              "      <td>42.9613</td>\n",
              "      <td>-109.1576</td>\n",
              "      <td>1</td>\n",
              "      <td>105.117</td>\n",
              "      <td>2019-01-02 08:47:36</td>\n",
              "      <td>1</td>\n",
              "      <td>2</td>\n",
              "      <td>159.0</td>\n",
              "      <td>1.000000</td>\n",
              "    </tr>\n",
              "    <tr>\n",
              "      <th>2882</th>\n",
              "      <td>2882</td>\n",
              "      <td>Daugherty LLC</td>\n",
              "      <td>kids_pets</td>\n",
              "      <td>34.79</td>\n",
              "      <td>0</td>\n",
              "      <td>WY</td>\n",
              "      <td>43.0048</td>\n",
              "      <td>-108.8964</td>\n",
              "      <td>1645</td>\n",
              "      <td>Information systems manager</td>\n",
              "      <td>...</td>\n",
              "      <td>87.124420</td>\n",
              "      <td>42.2282</td>\n",
              "      <td>-108.7477</td>\n",
              "      <td>1</td>\n",
              "      <td>88.111</td>\n",
              "      <td>2019-01-02 12:38:14</td>\n",
              "      <td>0</td>\n",
              "      <td>3</td>\n",
              "      <td>13838.0</td>\n",
              "      <td>-0.397416</td>\n",
              "    </tr>\n",
              "    <tr>\n",
              "      <th>2907</th>\n",
              "      <td>2907</td>\n",
              "      <td>Beier and Sons</td>\n",
              "      <td>home</td>\n",
              "      <td>27.18</td>\n",
              "      <td>0</td>\n",
              "      <td>WY</td>\n",
              "      <td>43.0048</td>\n",
              "      <td>-108.8964</td>\n",
              "      <td>1645</td>\n",
              "      <td>Information systems manager</td>\n",
              "      <td>...</td>\n",
              "      <td>74.352876</td>\n",
              "      <td>43.3217</td>\n",
              "      <td>-108.0911</td>\n",
              "      <td>1</td>\n",
              "      <td>132.827</td>\n",
              "      <td>2019-01-02 13:10:46</td>\n",
              "      <td>1</td>\n",
              "      <td>3</td>\n",
              "      <td>1952.0</td>\n",
              "      <td>-0.419284</td>\n",
              "    </tr>\n",
              "    <tr>\n",
              "      <th>...</th>\n",
              "      <td>...</td>\n",
              "      <td>...</td>\n",
              "      <td>...</td>\n",
              "      <td>...</td>\n",
              "      <td>...</td>\n",
              "      <td>...</td>\n",
              "      <td>...</td>\n",
              "      <td>...</td>\n",
              "      <td>...</td>\n",
              "      <td>...</td>\n",
              "      <td>...</td>\n",
              "      <td>...</td>\n",
              "      <td>...</td>\n",
              "      <td>...</td>\n",
              "      <td>...</td>\n",
              "      <td>...</td>\n",
              "      <td>...</td>\n",
              "      <td>...</td>\n",
              "      <td>...</td>\n",
              "      <td>...</td>\n",
              "      <td>...</td>\n",
              "    </tr>\n",
              "    <tr>\n",
              "      <th>1294934</th>\n",
              "      <td>1294934</td>\n",
              "      <td>Berge, Kautzer and Harris</td>\n",
              "      <td>personal_care</td>\n",
              "      <td>60.47</td>\n",
              "      <td>1</td>\n",
              "      <td>IL</td>\n",
              "      <td>41.1730</td>\n",
              "      <td>-89.2187</td>\n",
              "      <td>532</td>\n",
              "      <td>Audiological scientist</td>\n",
              "      <td>...</td>\n",
              "      <td>78.397703</td>\n",
              "      <td>40.4754</td>\n",
              "      <td>-89.0761</td>\n",
              "      <td>0</td>\n",
              "      <td>72.062</td>\n",
              "      <td>2020-06-20 21:04:59</td>\n",
              "      <td>0</td>\n",
              "      <td>3</td>\n",
              "      <td>30740.0</td>\n",
              "      <td>0.574596</td>\n",
              "    </tr>\n",
              "    <tr>\n",
              "      <th>1295369</th>\n",
              "      <td>1295369</td>\n",
              "      <td>Bernhard Inc</td>\n",
              "      <td>gas_transport</td>\n",
              "      <td>74.29</td>\n",
              "      <td>1</td>\n",
              "      <td>IL</td>\n",
              "      <td>41.1730</td>\n",
              "      <td>-89.2187</td>\n",
              "      <td>532</td>\n",
              "      <td>Audiological scientist</td>\n",
              "      <td>...</td>\n",
              "      <td>55.384911</td>\n",
              "      <td>40.7436</td>\n",
              "      <td>-89.5534</td>\n",
              "      <td>0</td>\n",
              "      <td>50.186</td>\n",
              "      <td>2020-06-21 00:41:01</td>\n",
              "      <td>0</td>\n",
              "      <td>3</td>\n",
              "      <td>12962.0</td>\n",
              "      <td>0.986379</td>\n",
              "    </tr>\n",
              "    <tr>\n",
              "      <th>1295587</th>\n",
              "      <td>1295587</td>\n",
              "      <td>Reichert, Rowe and Mraz</td>\n",
              "      <td>shopping_net</td>\n",
              "      <td>246.56</td>\n",
              "      <td>1</td>\n",
              "      <td>IL</td>\n",
              "      <td>41.1730</td>\n",
              "      <td>-89.2187</td>\n",
              "      <td>532</td>\n",
              "      <td>Audiological scientist</td>\n",
              "      <td>...</td>\n",
              "      <td>115.590006</td>\n",
              "      <td>40.2154</td>\n",
              "      <td>-88.6826</td>\n",
              "      <td>0</td>\n",
              "      <td>94.300</td>\n",
              "      <td>2020-06-21 02:47:59</td>\n",
              "      <td>0</td>\n",
              "      <td>4</td>\n",
              "      <td>7618.0</td>\n",
              "      <td>6.133632</td>\n",
              "    </tr>\n",
              "    <tr>\n",
              "      <th>1296206</th>\n",
              "      <td>1296206</td>\n",
              "      <td>Jewess LLC</td>\n",
              "      <td>shopping_pos</td>\n",
              "      <td>2.62</td>\n",
              "      <td>1</td>\n",
              "      <td>IL</td>\n",
              "      <td>41.1730</td>\n",
              "      <td>-89.2187</td>\n",
              "      <td>532</td>\n",
              "      <td>Audiological scientist</td>\n",
              "      <td>...</td>\n",
              "      <td>60.536752</td>\n",
              "      <td>40.7629</td>\n",
              "      <td>-88.7450</td>\n",
              "      <td>0</td>\n",
              "      <td>61.020</td>\n",
              "      <td>2020-06-21 08:04:28</td>\n",
              "      <td>0</td>\n",
              "      <td>5</td>\n",
              "      <td>18989.0</td>\n",
              "      <td>-1.158588</td>\n",
              "    </tr>\n",
              "    <tr>\n",
              "      <th>1296427</th>\n",
              "      <td>1296427</td>\n",
              "      <td>Reilly, Heaney and Cole</td>\n",
              "      <td>gas_transport</td>\n",
              "      <td>39.29</td>\n",
              "      <td>1</td>\n",
              "      <td>IL</td>\n",
              "      <td>41.1730</td>\n",
              "      <td>-89.2187</td>\n",
              "      <td>532</td>\n",
              "      <td>Audiological scientist</td>\n",
              "      <td>...</td>\n",
              "      <td>52.583216</td>\n",
              "      <td>40.6996</td>\n",
              "      <td>-89.2309</td>\n",
              "      <td>0</td>\n",
              "      <td>41.649</td>\n",
              "      <td>2020-06-21 09:58:58</td>\n",
              "      <td>0</td>\n",
              "      <td>5</td>\n",
              "      <td>6870.0</td>\n",
              "      <td>-0.059916</td>\n",
              "    </tr>\n",
              "  </tbody>\n",
              "</table>\n",
              "<p>1296675 rows × 36 columns</p>\n",
              "</div>\n",
              "    <div class=\"colab-df-buttons\">\n",
              "\n",
              "  <div class=\"colab-df-container\">\n",
              "    <button class=\"colab-df-convert\" onclick=\"convertToInteractive('df-f69276ce-548a-499a-b166-299e874213e7')\"\n",
              "            title=\"Convert this dataframe to an interactive table.\"\n",
              "            style=\"display:none;\">\n",
              "\n",
              "  <svg xmlns=\"http://www.w3.org/2000/svg\" height=\"24px\" viewBox=\"0 -960 960 960\">\n",
              "    <path d=\"M120-120v-720h720v720H120Zm60-500h600v-160H180v160Zm220 220h160v-160H400v160Zm0 220h160v-160H400v160ZM180-400h160v-160H180v160Zm440 0h160v-160H620v160ZM180-180h160v-160H180v160Zm440 0h160v-160H620v160Z\"/>\n",
              "  </svg>\n",
              "    </button>\n",
              "\n",
              "  <style>\n",
              "    .colab-df-container {\n",
              "      display:flex;\n",
              "      gap: 12px;\n",
              "    }\n",
              "\n",
              "    .colab-df-convert {\n",
              "      background-color: #E8F0FE;\n",
              "      border: none;\n",
              "      border-radius: 50%;\n",
              "      cursor: pointer;\n",
              "      display: none;\n",
              "      fill: #1967D2;\n",
              "      height: 32px;\n",
              "      padding: 0 0 0 0;\n",
              "      width: 32px;\n",
              "    }\n",
              "\n",
              "    .colab-df-convert:hover {\n",
              "      background-color: #E2EBFA;\n",
              "      box-shadow: 0px 1px 2px rgba(60, 64, 67, 0.3), 0px 1px 3px 1px rgba(60, 64, 67, 0.15);\n",
              "      fill: #174EA6;\n",
              "    }\n",
              "\n",
              "    .colab-df-buttons div {\n",
              "      margin-bottom: 4px;\n",
              "    }\n",
              "\n",
              "    [theme=dark] .colab-df-convert {\n",
              "      background-color: #3B4455;\n",
              "      fill: #D2E3FC;\n",
              "    }\n",
              "\n",
              "    [theme=dark] .colab-df-convert:hover {\n",
              "      background-color: #434B5C;\n",
              "      box-shadow: 0px 1px 3px 1px rgba(0, 0, 0, 0.15);\n",
              "      filter: drop-shadow(0px 1px 2px rgba(0, 0, 0, 0.3));\n",
              "      fill: #FFFFFF;\n",
              "    }\n",
              "  </style>\n",
              "\n",
              "    <script>\n",
              "      const buttonEl =\n",
              "        document.querySelector('#df-f69276ce-548a-499a-b166-299e874213e7 button.colab-df-convert');\n",
              "      buttonEl.style.display =\n",
              "        google.colab.kernel.accessAllowed ? 'block' : 'none';\n",
              "\n",
              "      async function convertToInteractive(key) {\n",
              "        const element = document.querySelector('#df-f69276ce-548a-499a-b166-299e874213e7');\n",
              "        const dataTable =\n",
              "          await google.colab.kernel.invokeFunction('convertToInteractive',\n",
              "                                                    [key], {});\n",
              "        if (!dataTable) return;\n",
              "\n",
              "        const docLinkHtml = 'Like what you see? Visit the ' +\n",
              "          '<a target=\"_blank\" href=https://colab.research.google.com/notebooks/data_table.ipynb>data table notebook</a>'\n",
              "          + ' to learn more about interactive tables.';\n",
              "        element.innerHTML = '';\n",
              "        dataTable['output_type'] = 'display_data';\n",
              "        await google.colab.output.renderOutput(dataTable, element);\n",
              "        const docLink = document.createElement('div');\n",
              "        docLink.innerHTML = docLinkHtml;\n",
              "        element.appendChild(docLink);\n",
              "      }\n",
              "    </script>\n",
              "  </div>\n",
              "\n",
              "\n",
              "<div id=\"df-41e6e7e6-bd9d-4227-b046-3c84ff61a8de\">\n",
              "  <button class=\"colab-df-quickchart\" onclick=\"quickchart('df-41e6e7e6-bd9d-4227-b046-3c84ff61a8de')\"\n",
              "            title=\"Suggest charts\"\n",
              "            style=\"display:none;\">\n",
              "\n",
              "<svg xmlns=\"http://www.w3.org/2000/svg\" height=\"24px\"viewBox=\"0 0 24 24\"\n",
              "     width=\"24px\">\n",
              "    <g>\n",
              "        <path d=\"M19 3H5c-1.1 0-2 .9-2 2v14c0 1.1.9 2 2 2h14c1.1 0 2-.9 2-2V5c0-1.1-.9-2-2-2zM9 17H7v-7h2v7zm4 0h-2V7h2v10zm4 0h-2v-4h2v4z\"/>\n",
              "    </g>\n",
              "</svg>\n",
              "  </button>\n",
              "\n",
              "<style>\n",
              "  .colab-df-quickchart {\n",
              "      --bg-color: #E8F0FE;\n",
              "      --fill-color: #1967D2;\n",
              "      --hover-bg-color: #E2EBFA;\n",
              "      --hover-fill-color: #174EA6;\n",
              "      --disabled-fill-color: #AAA;\n",
              "      --disabled-bg-color: #DDD;\n",
              "  }\n",
              "\n",
              "  [theme=dark] .colab-df-quickchart {\n",
              "      --bg-color: #3B4455;\n",
              "      --fill-color: #D2E3FC;\n",
              "      --hover-bg-color: #434B5C;\n",
              "      --hover-fill-color: #FFFFFF;\n",
              "      --disabled-bg-color: #3B4455;\n",
              "      --disabled-fill-color: #666;\n",
              "  }\n",
              "\n",
              "  .colab-df-quickchart {\n",
              "    background-color: var(--bg-color);\n",
              "    border: none;\n",
              "    border-radius: 50%;\n",
              "    cursor: pointer;\n",
              "    display: none;\n",
              "    fill: var(--fill-color);\n",
              "    height: 32px;\n",
              "    padding: 0;\n",
              "    width: 32px;\n",
              "  }\n",
              "\n",
              "  .colab-df-quickchart:hover {\n",
              "    background-color: var(--hover-bg-color);\n",
              "    box-shadow: 0 1px 2px rgba(60, 64, 67, 0.3), 0 1px 3px 1px rgba(60, 64, 67, 0.15);\n",
              "    fill: var(--button-hover-fill-color);\n",
              "  }\n",
              "\n",
              "  .colab-df-quickchart-complete:disabled,\n",
              "  .colab-df-quickchart-complete:disabled:hover {\n",
              "    background-color: var(--disabled-bg-color);\n",
              "    fill: var(--disabled-fill-color);\n",
              "    box-shadow: none;\n",
              "  }\n",
              "\n",
              "  .colab-df-spinner {\n",
              "    border: 2px solid var(--fill-color);\n",
              "    border-color: transparent;\n",
              "    border-bottom-color: var(--fill-color);\n",
              "    animation:\n",
              "      spin 1s steps(1) infinite;\n",
              "  }\n",
              "\n",
              "  @keyframes spin {\n",
              "    0% {\n",
              "      border-color: transparent;\n",
              "      border-bottom-color: var(--fill-color);\n",
              "      border-left-color: var(--fill-color);\n",
              "    }\n",
              "    20% {\n",
              "      border-color: transparent;\n",
              "      border-left-color: var(--fill-color);\n",
              "      border-top-color: var(--fill-color);\n",
              "    }\n",
              "    30% {\n",
              "      border-color: transparent;\n",
              "      border-left-color: var(--fill-color);\n",
              "      border-top-color: var(--fill-color);\n",
              "      border-right-color: var(--fill-color);\n",
              "    }\n",
              "    40% {\n",
              "      border-color: transparent;\n",
              "      border-right-color: var(--fill-color);\n",
              "      border-top-color: var(--fill-color);\n",
              "    }\n",
              "    60% {\n",
              "      border-color: transparent;\n",
              "      border-right-color: var(--fill-color);\n",
              "    }\n",
              "    80% {\n",
              "      border-color: transparent;\n",
              "      border-right-color: var(--fill-color);\n",
              "      border-bottom-color: var(--fill-color);\n",
              "    }\n",
              "    90% {\n",
              "      border-color: transparent;\n",
              "      border-bottom-color: var(--fill-color);\n",
              "    }\n",
              "  }\n",
              "</style>\n",
              "\n",
              "  <script>\n",
              "    async function quickchart(key) {\n",
              "      const quickchartButtonEl =\n",
              "        document.querySelector('#' + key + ' button');\n",
              "      quickchartButtonEl.disabled = true;  // To prevent multiple clicks.\n",
              "      quickchartButtonEl.classList.add('colab-df-spinner');\n",
              "      try {\n",
              "        const charts = await google.colab.kernel.invokeFunction(\n",
              "            'suggestCharts', [key], {});\n",
              "      } catch (error) {\n",
              "        console.error('Error during call to suggestCharts:', error);\n",
              "      }\n",
              "      quickchartButtonEl.classList.remove('colab-df-spinner');\n",
              "      quickchartButtonEl.classList.add('colab-df-quickchart-complete');\n",
              "    }\n",
              "    (() => {\n",
              "      let quickchartButtonEl =\n",
              "        document.querySelector('#df-41e6e7e6-bd9d-4227-b046-3c84ff61a8de button');\n",
              "      quickchartButtonEl.style.display =\n",
              "        google.colab.kernel.accessAllowed ? 'block' : 'none';\n",
              "    })();\n",
              "  </script>\n",
              "</div>\n",
              "\n",
              "  <div id=\"id_bdbc31d7-3502-4437-a3e5-b0ee5af842d6\">\n",
              "    <style>\n",
              "      .colab-df-generate {\n",
              "        background-color: #E8F0FE;\n",
              "        border: none;\n",
              "        border-radius: 50%;\n",
              "        cursor: pointer;\n",
              "        display: none;\n",
              "        fill: #1967D2;\n",
              "        height: 32px;\n",
              "        padding: 0 0 0 0;\n",
              "        width: 32px;\n",
              "      }\n",
              "\n",
              "      .colab-df-generate:hover {\n",
              "        background-color: #E2EBFA;\n",
              "        box-shadow: 0px 1px 2px rgba(60, 64, 67, 0.3), 0px 1px 3px 1px rgba(60, 64, 67, 0.15);\n",
              "        fill: #174EA6;\n",
              "      }\n",
              "\n",
              "      [theme=dark] .colab-df-generate {\n",
              "        background-color: #3B4455;\n",
              "        fill: #D2E3FC;\n",
              "      }\n",
              "\n",
              "      [theme=dark] .colab-df-generate:hover {\n",
              "        background-color: #434B5C;\n",
              "        box-shadow: 0px 1px 3px 1px rgba(0, 0, 0, 0.15);\n",
              "        filter: drop-shadow(0px 1px 2px rgba(0, 0, 0, 0.3));\n",
              "        fill: #FFFFFF;\n",
              "      }\n",
              "    </style>\n",
              "    <button class=\"colab-df-generate\" onclick=\"generateWithVariable('data')\"\n",
              "            title=\"Generate code using this dataframe.\"\n",
              "            style=\"display:none;\">\n",
              "\n",
              "  <svg xmlns=\"http://www.w3.org/2000/svg\" height=\"24px\"viewBox=\"0 0 24 24\"\n",
              "       width=\"24px\">\n",
              "    <path d=\"M7,19H8.4L18.45,9,17,7.55,7,17.6ZM5,21V16.75L18.45,3.32a2,2,0,0,1,2.83,0l1.4,1.43a1.91,1.91,0,0,1,.58,1.4,1.91,1.91,0,0,1-.58,1.4L9.25,21ZM18.45,9,17,7.55Zm-12,3A5.31,5.31,0,0,0,4.9,8.1,5.31,5.31,0,0,0,1,6.5,5.31,5.31,0,0,0,4.9,4.9,5.31,5.31,0,0,0,6.5,1,5.31,5.31,0,0,0,8.1,4.9,5.31,5.31,0,0,0,12,6.5,5.46,5.46,0,0,0,6.5,12Z\"/>\n",
              "  </svg>\n",
              "    </button>\n",
              "    <script>\n",
              "      (() => {\n",
              "      const buttonEl =\n",
              "        document.querySelector('#id_bdbc31d7-3502-4437-a3e5-b0ee5af842d6 button.colab-df-generate');\n",
              "      buttonEl.style.display =\n",
              "        google.colab.kernel.accessAllowed ? 'block' : 'none';\n",
              "\n",
              "      buttonEl.onclick = () => {\n",
              "        google.colab.notebook.generateWithVariable('data');\n",
              "      }\n",
              "      })();\n",
              "    </script>\n",
              "  </div>\n",
              "\n",
              "    </div>\n",
              "  </div>\n"
            ],
            "application/vnd.google.colaboratory.intrinsic+json": {
              "type": "dataframe",
              "variable_name": "data"
            }
          },
          "metadata": {},
          "execution_count": 90
        }
      ]
    },
    {
      "cell_type": "markdown",
      "source": [
        "### 4.3.2 Max transaction amount in last 24h\n"
      ],
      "metadata": {
        "id": "IVFmns8RNOWy"
      }
    },
    {
      "cell_type": "code",
      "source": [
        "data = data.sort_values(by=['cc_id', 'transaction_datetime'])\n",
        "\n",
        "# Compute max transaction amount in the last 24 hours per credit card\n",
        "data['max_transaction_last_24h'] = data.groupby('cc_id').apply(\n",
        "    lambda group: group.rolling('24H', on='transaction_datetime')['amt'].max()\n",
        ").reset_index(level=0, drop=True)\n"
      ],
      "metadata": {
        "id": "XMReofIc6AGt",
        "colab": {
          "base_uri": "https://localhost:8080/"
        },
        "outputId": "e10bd05d-111a-4d6f-e15e-7f7c19da89e8"
      },
      "execution_count": 91,
      "outputs": [
        {
          "output_type": "stream",
          "name": "stderr",
          "text": [
            "<ipython-input-91-a990ffd2ca99>:5: FutureWarning: 'H' is deprecated and will be removed in a future version, please use 'h' instead.\n",
            "  lambda group: group.rolling('24H', on='transaction_datetime')['amt'].max()\n",
            "<ipython-input-91-a990ffd2ca99>:4: DeprecationWarning: DataFrameGroupBy.apply operated on the grouping columns. This behavior is deprecated, and in a future version of pandas the grouping columns will be excluded from the operation. Either pass `include_groups=False` to exclude the groupings or explicitly select the grouping columns after groupby to silence this warning.\n",
            "  data['max_transaction_last_24h'] = data.groupby('cc_id').apply(\n"
          ]
        }
      ]
    },
    {
      "cell_type": "code",
      "source": [
        "test_data = test_data.sort_values(by=['cc_id', 'transaction_datetime'])\n",
        "\n",
        "# Compute max transaction amount in the last 24 hours per credit card\n",
        "test_data['max_transaction_last_24h'] = test_data.groupby('cc_id').apply(\n",
        "    lambda group: group.rolling('24H', on='transaction_datetime')['amt'].max()\n",
        ").reset_index(level=0, drop=True)\n"
      ],
      "metadata": {
        "id": "ahMW0piTaBB0",
        "colab": {
          "base_uri": "https://localhost:8080/"
        },
        "outputId": "7eaa38a6-33f7-41ac-a2c2-0ddda25329ce"
      },
      "execution_count": 92,
      "outputs": [
        {
          "output_type": "stream",
          "name": "stderr",
          "text": [
            "<ipython-input-92-edd29866f981>:5: FutureWarning: 'H' is deprecated and will be removed in a future version, please use 'h' instead.\n",
            "  lambda group: group.rolling('24H', on='transaction_datetime')['amt'].max()\n",
            "<ipython-input-92-edd29866f981>:4: DeprecationWarning: DataFrameGroupBy.apply operated on the grouping columns. This behavior is deprecated, and in a future version of pandas the grouping columns will be excluded from the operation. Either pass `include_groups=False` to exclude the groupings or explicitly select the grouping columns after groupby to silence this warning.\n",
            "  test_data['max_transaction_last_24h'] = test_data.groupby('cc_id').apply(\n"
          ]
        }
      ]
    },
    {
      "cell_type": "markdown",
      "source": [
        "### 4.3.3 Average transaction amount in last 24h"
      ],
      "metadata": {
        "id": "nHTvP8_JNVhW"
      }
    },
    {
      "cell_type": "code",
      "source": [
        "data['avg_transaction_last_24h'] = data.groupby('cc_id').apply(\n",
        "    lambda group: group.rolling('24H', on='transaction_datetime')['amt'].mean()\n",
        ").reset_index(level=0, drop=True)\n"
      ],
      "metadata": {
        "id": "IAjaoeH-Na3U",
        "colab": {
          "base_uri": "https://localhost:8080/"
        },
        "outputId": "c67b272e-b281-4feb-859e-f7d1bdf22577"
      },
      "execution_count": 93,
      "outputs": [
        {
          "output_type": "stream",
          "name": "stderr",
          "text": [
            "<ipython-input-93-a78b5249b45d>:2: FutureWarning: 'H' is deprecated and will be removed in a future version, please use 'h' instead.\n",
            "  lambda group: group.rolling('24H', on='transaction_datetime')['amt'].mean()\n",
            "<ipython-input-93-a78b5249b45d>:1: DeprecationWarning: DataFrameGroupBy.apply operated on the grouping columns. This behavior is deprecated, and in a future version of pandas the grouping columns will be excluded from the operation. Either pass `include_groups=False` to exclude the groupings or explicitly select the grouping columns after groupby to silence this warning.\n",
            "  data['avg_transaction_last_24h'] = data.groupby('cc_id').apply(\n"
          ]
        }
      ]
    },
    {
      "cell_type": "code",
      "source": [
        "test_data['avg_transaction_last_24h'] = test_data.groupby('cc_id').apply(\n",
        "    lambda group: group.rolling('24H', on='transaction_datetime')['amt'].mean()\n",
        ").reset_index(level=0, drop=True)\n"
      ],
      "metadata": {
        "id": "TZbsXfW9DSrb",
        "colab": {
          "base_uri": "https://localhost:8080/"
        },
        "outputId": "344178ab-f99c-45ab-f0e7-3a5a11e3791a"
      },
      "execution_count": 94,
      "outputs": [
        {
          "output_type": "stream",
          "name": "stderr",
          "text": [
            "<ipython-input-94-d14057666c38>:2: FutureWarning: 'H' is deprecated and will be removed in a future version, please use 'h' instead.\n",
            "  lambda group: group.rolling('24H', on='transaction_datetime')['amt'].mean()\n",
            "<ipython-input-94-d14057666c38>:1: DeprecationWarning: DataFrameGroupBy.apply operated on the grouping columns. This behavior is deprecated, and in a future version of pandas the grouping columns will be excluded from the operation. Either pass `include_groups=False` to exclude the groupings or explicitly select the grouping columns after groupby to silence this warning.\n",
            "  test_data['avg_transaction_last_24h'] = test_data.groupby('cc_id').apply(\n"
          ]
        }
      ]
    },
    {
      "cell_type": "markdown",
      "source": [
        "### 4.3.4 amount_to_max_ratio_24h\n",
        "\n",
        "Ratio of the transaction amount to the max transaction amount in last 24 hours"
      ],
      "metadata": {
        "id": "st7LI-eS6TWW"
      }
    },
    {
      "cell_type": "code",
      "source": [
        "data['amount_to_max_ratio_24h'] = data['amt'] / data['max_transaction_last_24h']\n"
      ],
      "metadata": {
        "id": "ZMplD-NG6bKU"
      },
      "execution_count": 95,
      "outputs": []
    },
    {
      "cell_type": "code",
      "source": [
        "test_data['amount_to_max_ratio_24h'] = test_data['amt'] / test_data['max_transaction_last_24h']\n"
      ],
      "metadata": {
        "id": "Ok8XhevpDZXj"
      },
      "execution_count": 96,
      "outputs": []
    },
    {
      "cell_type": "markdown",
      "source": [
        "### 4.3.5 amount_to_avg_ratio_24h\n",
        "\n",
        "\n",
        "Ratio of the transaction amount to the average transaction amount in last 24 hours"
      ],
      "metadata": {
        "id": "qavEVweR6VAZ"
      }
    },
    {
      "cell_type": "code",
      "source": [
        "data['amount_to_avg_ratio_24h'] = data['amt'] / data['avg_transaction_last_24h']\n"
      ],
      "metadata": {
        "id": "BdvG84K261dW"
      },
      "execution_count": 97,
      "outputs": []
    },
    {
      "cell_type": "code",
      "source": [
        "test_data['amount_to_avg_ratio_24h'] = test_data['amt'] / test_data['avg_transaction_last_24h']\n"
      ],
      "metadata": {
        "id": "8uLQhsesDgDq"
      },
      "execution_count": 98,
      "outputs": []
    },
    {
      "cell_type": "markdown",
      "source": [
        "# 5.Last examination"
      ],
      "metadata": {
        "id": "GjfFzF-S7NN0"
      }
    },
    {
      "cell_type": "code",
      "source": [
        "data"
      ],
      "metadata": {
        "id": "BydO38MW8MKe",
        "colab": {
          "base_uri": "https://localhost:8080/",
          "height": 791
        },
        "outputId": "3184a0be-f644-4c48-d62e-73dddf3491bb"
      },
      "execution_count": 99,
      "outputs": [
        {
          "output_type": "execute_result",
          "data": {
            "text/plain": [
              "         Unnamed: 0                     merchant       category     amt  is_M  \\\n",
              "1017           1017  Jones, Sawayn and Romaguera       misc_net    7.27     0   \n",
              "2724           2724                    Berge LLC  gas_transport   52.94     0   \n",
              "2726           2726                 Luettgen PLC  gas_transport   82.08     0   \n",
              "2882           2882                Daugherty LLC      kids_pets   34.79     0   \n",
              "2907           2907               Beier and Sons           home   27.18     0   \n",
              "...             ...                          ...            ...     ...   ...   \n",
              "1294934     1294934    Berge, Kautzer and Harris  personal_care   60.47     1   \n",
              "1295369     1295369                 Bernhard Inc  gas_transport   74.29     1   \n",
              "1295587     1295587      Reichert, Rowe and Mraz   shopping_net  246.56     1   \n",
              "1296206     1296206                   Jewess LLC   shopping_pos    2.62     1   \n",
              "1296427     1296427      Reilly, Heaney and Cole  gas_transport   39.29     1   \n",
              "\n",
              "        state      lat      long  city_pop                          job  ...  \\\n",
              "1017       WY  43.0048 -108.8964      1645  Information systems manager  ...   \n",
              "2724       WY  43.0048 -108.8964      1645  Information systems manager  ...   \n",
              "2726       WY  43.0048 -108.8964      1645  Information systems manager  ...   \n",
              "2882       WY  43.0048 -108.8964      1645  Information systems manager  ...   \n",
              "2907       WY  43.0048 -108.8964      1645  Information systems manager  ...   \n",
              "...       ...      ...       ...       ...                          ...  ...   \n",
              "1294934    IL  41.1730  -89.2187       532       Audiological scientist  ...   \n",
              "1295369    IL  41.1730  -89.2187       532       Audiological scientist  ...   \n",
              "1295587    IL  41.1730  -89.2187       532       Audiological scientist  ...   \n",
              "1296206    IL  41.1730  -89.2187       532       Audiological scientist  ...   \n",
              "1296427    IL  41.1730  -89.2187       532       Audiological scientist  ...   \n",
              "\n",
              "         distance_from_last_transaction  transaction_datetime  \\\n",
              "1017                              0.000   2019-01-01 12:47:15   \n",
              "2724                            224.614   2019-01-02 08:44:57   \n",
              "2726                            105.117   2019-01-02 08:47:36   \n",
              "2882                             88.111   2019-01-02 12:38:14   \n",
              "2907                            132.827   2019-01-02 13:10:46   \n",
              "...                                 ...                   ...   \n",
              "1294934                          72.062   2020-06-20 21:04:59   \n",
              "1295369                          50.186   2020-06-21 00:41:01   \n",
              "1295587                          94.300   2020-06-21 02:47:59   \n",
              "1296206                          61.020   2020-06-21 08:04:28   \n",
              "1296427                          41.649   2020-06-21 09:58:58   \n",
              "\n",
              "         transaction_velocity_1h transaction_velocity_24h  \\\n",
              "1017                           0                        0   \n",
              "2724                           0                        1   \n",
              "2726                           1                        2   \n",
              "2882                           0                        3   \n",
              "2907                           1                        3   \n",
              "...                          ...                      ...   \n",
              "1294934                        0                        3   \n",
              "1295369                        0                        3   \n",
              "1295587                        0                        4   \n",
              "1296206                        0                        5   \n",
              "1296427                        0                        5   \n",
              "\n",
              "        time_since_last_transaction  mad_score_amount  \\\n",
              "1017                            0.0          0.000000   \n",
              "2724                        71862.0          1.000000   \n",
              "2726                          159.0          1.000000   \n",
              "2882                        13838.0         -0.397416   \n",
              "2907                         1952.0         -0.419284   \n",
              "...                             ...               ...   \n",
              "1294934                     30740.0          0.574596   \n",
              "1295369                     12962.0          0.986379   \n",
              "1295587                      7618.0          6.133632   \n",
              "1296206                     18989.0         -1.158588   \n",
              "1296427                      6870.0         -0.059916   \n",
              "\n",
              "         max_transaction_last_24h  avg_transaction_last_24h  \\\n",
              "1017                         7.27                    7.2700   \n",
              "2724                        52.94                   30.1050   \n",
              "2726                        82.08                   47.4300   \n",
              "2882                        82.08                   44.2700   \n",
              "2907                        82.08                   49.2475   \n",
              "...                           ...                       ...   \n",
              "1294934                     60.47                   19.4250   \n",
              "1295369                     74.29                   37.3425   \n",
              "1295587                    246.56                   79.1860   \n",
              "1296206                    246.56                   66.4250   \n",
              "1296427                    246.56                   71.9800   \n",
              "\n",
              "         amount_to_max_ratio_24h  amount_to_avg_ratio_24h  \n",
              "1017                    1.000000                 1.000000  \n",
              "2724                    1.000000                 1.758512  \n",
              "2726                    1.000000                 1.730550  \n",
              "2882                    0.423855                 0.785859  \n",
              "2907                    0.331140                 0.551906  \n",
              "...                          ...                      ...  \n",
              "1294934                 1.000000                 3.112999  \n",
              "1295369                 1.000000                 1.989422  \n",
              "1295587                 1.000000                 3.113682  \n",
              "1296206                 0.010626                 0.039443  \n",
              "1296427                 0.159353                 0.545846  \n",
              "\n",
              "[1296675 rows x 40 columns]"
            ],
            "text/html": [
              "\n",
              "  <div id=\"df-eb608f9f-2428-4d67-87ad-1ccbc149a26a\" class=\"colab-df-container\">\n",
              "    <div>\n",
              "<style scoped>\n",
              "    .dataframe tbody tr th:only-of-type {\n",
              "        vertical-align: middle;\n",
              "    }\n",
              "\n",
              "    .dataframe tbody tr th {\n",
              "        vertical-align: top;\n",
              "    }\n",
              "\n",
              "    .dataframe thead th {\n",
              "        text-align: right;\n",
              "    }\n",
              "</style>\n",
              "<table border=\"1\" class=\"dataframe\">\n",
              "  <thead>\n",
              "    <tr style=\"text-align: right;\">\n",
              "      <th></th>\n",
              "      <th>Unnamed: 0</th>\n",
              "      <th>merchant</th>\n",
              "      <th>category</th>\n",
              "      <th>amt</th>\n",
              "      <th>is_M</th>\n",
              "      <th>state</th>\n",
              "      <th>lat</th>\n",
              "      <th>long</th>\n",
              "      <th>city_pop</th>\n",
              "      <th>job</th>\n",
              "      <th>...</th>\n",
              "      <th>distance_from_last_transaction</th>\n",
              "      <th>transaction_datetime</th>\n",
              "      <th>transaction_velocity_1h</th>\n",
              "      <th>transaction_velocity_24h</th>\n",
              "      <th>time_since_last_transaction</th>\n",
              "      <th>mad_score_amount</th>\n",
              "      <th>max_transaction_last_24h</th>\n",
              "      <th>avg_transaction_last_24h</th>\n",
              "      <th>amount_to_max_ratio_24h</th>\n",
              "      <th>amount_to_avg_ratio_24h</th>\n",
              "    </tr>\n",
              "  </thead>\n",
              "  <tbody>\n",
              "    <tr>\n",
              "      <th>1017</th>\n",
              "      <td>1017</td>\n",
              "      <td>Jones, Sawayn and Romaguera</td>\n",
              "      <td>misc_net</td>\n",
              "      <td>7.27</td>\n",
              "      <td>0</td>\n",
              "      <td>WY</td>\n",
              "      <td>43.0048</td>\n",
              "      <td>-108.8964</td>\n",
              "      <td>1645</td>\n",
              "      <td>Information systems manager</td>\n",
              "      <td>...</td>\n",
              "      <td>0.000</td>\n",
              "      <td>2019-01-01 12:47:15</td>\n",
              "      <td>0</td>\n",
              "      <td>0</td>\n",
              "      <td>0.0</td>\n",
              "      <td>0.000000</td>\n",
              "      <td>7.27</td>\n",
              "      <td>7.2700</td>\n",
              "      <td>1.000000</td>\n",
              "      <td>1.000000</td>\n",
              "    </tr>\n",
              "    <tr>\n",
              "      <th>2724</th>\n",
              "      <td>2724</td>\n",
              "      <td>Berge LLC</td>\n",
              "      <td>gas_transport</td>\n",
              "      <td>52.94</td>\n",
              "      <td>0</td>\n",
              "      <td>WY</td>\n",
              "      <td>43.0048</td>\n",
              "      <td>-108.8964</td>\n",
              "      <td>1645</td>\n",
              "      <td>Information systems manager</td>\n",
              "      <td>...</td>\n",
              "      <td>224.614</td>\n",
              "      <td>2019-01-02 08:44:57</td>\n",
              "      <td>0</td>\n",
              "      <td>1</td>\n",
              "      <td>71862.0</td>\n",
              "      <td>1.000000</td>\n",
              "      <td>52.94</td>\n",
              "      <td>30.1050</td>\n",
              "      <td>1.000000</td>\n",
              "      <td>1.758512</td>\n",
              "    </tr>\n",
              "    <tr>\n",
              "      <th>2726</th>\n",
              "      <td>2726</td>\n",
              "      <td>Luettgen PLC</td>\n",
              "      <td>gas_transport</td>\n",
              "      <td>82.08</td>\n",
              "      <td>0</td>\n",
              "      <td>WY</td>\n",
              "      <td>43.0048</td>\n",
              "      <td>-108.8964</td>\n",
              "      <td>1645</td>\n",
              "      <td>Information systems manager</td>\n",
              "      <td>...</td>\n",
              "      <td>105.117</td>\n",
              "      <td>2019-01-02 08:47:36</td>\n",
              "      <td>1</td>\n",
              "      <td>2</td>\n",
              "      <td>159.0</td>\n",
              "      <td>1.000000</td>\n",
              "      <td>82.08</td>\n",
              "      <td>47.4300</td>\n",
              "      <td>1.000000</td>\n",
              "      <td>1.730550</td>\n",
              "    </tr>\n",
              "    <tr>\n",
              "      <th>2882</th>\n",
              "      <td>2882</td>\n",
              "      <td>Daugherty LLC</td>\n",
              "      <td>kids_pets</td>\n",
              "      <td>34.79</td>\n",
              "      <td>0</td>\n",
              "      <td>WY</td>\n",
              "      <td>43.0048</td>\n",
              "      <td>-108.8964</td>\n",
              "      <td>1645</td>\n",
              "      <td>Information systems manager</td>\n",
              "      <td>...</td>\n",
              "      <td>88.111</td>\n",
              "      <td>2019-01-02 12:38:14</td>\n",
              "      <td>0</td>\n",
              "      <td>3</td>\n",
              "      <td>13838.0</td>\n",
              "      <td>-0.397416</td>\n",
              "      <td>82.08</td>\n",
              "      <td>44.2700</td>\n",
              "      <td>0.423855</td>\n",
              "      <td>0.785859</td>\n",
              "    </tr>\n",
              "    <tr>\n",
              "      <th>2907</th>\n",
              "      <td>2907</td>\n",
              "      <td>Beier and Sons</td>\n",
              "      <td>home</td>\n",
              "      <td>27.18</td>\n",
              "      <td>0</td>\n",
              "      <td>WY</td>\n",
              "      <td>43.0048</td>\n",
              "      <td>-108.8964</td>\n",
              "      <td>1645</td>\n",
              "      <td>Information systems manager</td>\n",
              "      <td>...</td>\n",
              "      <td>132.827</td>\n",
              "      <td>2019-01-02 13:10:46</td>\n",
              "      <td>1</td>\n",
              "      <td>3</td>\n",
              "      <td>1952.0</td>\n",
              "      <td>-0.419284</td>\n",
              "      <td>82.08</td>\n",
              "      <td>49.2475</td>\n",
              "      <td>0.331140</td>\n",
              "      <td>0.551906</td>\n",
              "    </tr>\n",
              "    <tr>\n",
              "      <th>...</th>\n",
              "      <td>...</td>\n",
              "      <td>...</td>\n",
              "      <td>...</td>\n",
              "      <td>...</td>\n",
              "      <td>...</td>\n",
              "      <td>...</td>\n",
              "      <td>...</td>\n",
              "      <td>...</td>\n",
              "      <td>...</td>\n",
              "      <td>...</td>\n",
              "      <td>...</td>\n",
              "      <td>...</td>\n",
              "      <td>...</td>\n",
              "      <td>...</td>\n",
              "      <td>...</td>\n",
              "      <td>...</td>\n",
              "      <td>...</td>\n",
              "      <td>...</td>\n",
              "      <td>...</td>\n",
              "      <td>...</td>\n",
              "      <td>...</td>\n",
              "    </tr>\n",
              "    <tr>\n",
              "      <th>1294934</th>\n",
              "      <td>1294934</td>\n",
              "      <td>Berge, Kautzer and Harris</td>\n",
              "      <td>personal_care</td>\n",
              "      <td>60.47</td>\n",
              "      <td>1</td>\n",
              "      <td>IL</td>\n",
              "      <td>41.1730</td>\n",
              "      <td>-89.2187</td>\n",
              "      <td>532</td>\n",
              "      <td>Audiological scientist</td>\n",
              "      <td>...</td>\n",
              "      <td>72.062</td>\n",
              "      <td>2020-06-20 21:04:59</td>\n",
              "      <td>0</td>\n",
              "      <td>3</td>\n",
              "      <td>30740.0</td>\n",
              "      <td>0.574596</td>\n",
              "      <td>60.47</td>\n",
              "      <td>19.4250</td>\n",
              "      <td>1.000000</td>\n",
              "      <td>3.112999</td>\n",
              "    </tr>\n",
              "    <tr>\n",
              "      <th>1295369</th>\n",
              "      <td>1295369</td>\n",
              "      <td>Bernhard Inc</td>\n",
              "      <td>gas_transport</td>\n",
              "      <td>74.29</td>\n",
              "      <td>1</td>\n",
              "      <td>IL</td>\n",
              "      <td>41.1730</td>\n",
              "      <td>-89.2187</td>\n",
              "      <td>532</td>\n",
              "      <td>Audiological scientist</td>\n",
              "      <td>...</td>\n",
              "      <td>50.186</td>\n",
              "      <td>2020-06-21 00:41:01</td>\n",
              "      <td>0</td>\n",
              "      <td>3</td>\n",
              "      <td>12962.0</td>\n",
              "      <td>0.986379</td>\n",
              "      <td>74.29</td>\n",
              "      <td>37.3425</td>\n",
              "      <td>1.000000</td>\n",
              "      <td>1.989422</td>\n",
              "    </tr>\n",
              "    <tr>\n",
              "      <th>1295587</th>\n",
              "      <td>1295587</td>\n",
              "      <td>Reichert, Rowe and Mraz</td>\n",
              "      <td>shopping_net</td>\n",
              "      <td>246.56</td>\n",
              "      <td>1</td>\n",
              "      <td>IL</td>\n",
              "      <td>41.1730</td>\n",
              "      <td>-89.2187</td>\n",
              "      <td>532</td>\n",
              "      <td>Audiological scientist</td>\n",
              "      <td>...</td>\n",
              "      <td>94.300</td>\n",
              "      <td>2020-06-21 02:47:59</td>\n",
              "      <td>0</td>\n",
              "      <td>4</td>\n",
              "      <td>7618.0</td>\n",
              "      <td>6.133632</td>\n",
              "      <td>246.56</td>\n",
              "      <td>79.1860</td>\n",
              "      <td>1.000000</td>\n",
              "      <td>3.113682</td>\n",
              "    </tr>\n",
              "    <tr>\n",
              "      <th>1296206</th>\n",
              "      <td>1296206</td>\n",
              "      <td>Jewess LLC</td>\n",
              "      <td>shopping_pos</td>\n",
              "      <td>2.62</td>\n",
              "      <td>1</td>\n",
              "      <td>IL</td>\n",
              "      <td>41.1730</td>\n",
              "      <td>-89.2187</td>\n",
              "      <td>532</td>\n",
              "      <td>Audiological scientist</td>\n",
              "      <td>...</td>\n",
              "      <td>61.020</td>\n",
              "      <td>2020-06-21 08:04:28</td>\n",
              "      <td>0</td>\n",
              "      <td>5</td>\n",
              "      <td>18989.0</td>\n",
              "      <td>-1.158588</td>\n",
              "      <td>246.56</td>\n",
              "      <td>66.4250</td>\n",
              "      <td>0.010626</td>\n",
              "      <td>0.039443</td>\n",
              "    </tr>\n",
              "    <tr>\n",
              "      <th>1296427</th>\n",
              "      <td>1296427</td>\n",
              "      <td>Reilly, Heaney and Cole</td>\n",
              "      <td>gas_transport</td>\n",
              "      <td>39.29</td>\n",
              "      <td>1</td>\n",
              "      <td>IL</td>\n",
              "      <td>41.1730</td>\n",
              "      <td>-89.2187</td>\n",
              "      <td>532</td>\n",
              "      <td>Audiological scientist</td>\n",
              "      <td>...</td>\n",
              "      <td>41.649</td>\n",
              "      <td>2020-06-21 09:58:58</td>\n",
              "      <td>0</td>\n",
              "      <td>5</td>\n",
              "      <td>6870.0</td>\n",
              "      <td>-0.059916</td>\n",
              "      <td>246.56</td>\n",
              "      <td>71.9800</td>\n",
              "      <td>0.159353</td>\n",
              "      <td>0.545846</td>\n",
              "    </tr>\n",
              "  </tbody>\n",
              "</table>\n",
              "<p>1296675 rows × 40 columns</p>\n",
              "</div>\n",
              "    <div class=\"colab-df-buttons\">\n",
              "\n",
              "  <div class=\"colab-df-container\">\n",
              "    <button class=\"colab-df-convert\" onclick=\"convertToInteractive('df-eb608f9f-2428-4d67-87ad-1ccbc149a26a')\"\n",
              "            title=\"Convert this dataframe to an interactive table.\"\n",
              "            style=\"display:none;\">\n",
              "\n",
              "  <svg xmlns=\"http://www.w3.org/2000/svg\" height=\"24px\" viewBox=\"0 -960 960 960\">\n",
              "    <path d=\"M120-120v-720h720v720H120Zm60-500h600v-160H180v160Zm220 220h160v-160H400v160Zm0 220h160v-160H400v160ZM180-400h160v-160H180v160Zm440 0h160v-160H620v160ZM180-180h160v-160H180v160Zm440 0h160v-160H620v160Z\"/>\n",
              "  </svg>\n",
              "    </button>\n",
              "\n",
              "  <style>\n",
              "    .colab-df-container {\n",
              "      display:flex;\n",
              "      gap: 12px;\n",
              "    }\n",
              "\n",
              "    .colab-df-convert {\n",
              "      background-color: #E8F0FE;\n",
              "      border: none;\n",
              "      border-radius: 50%;\n",
              "      cursor: pointer;\n",
              "      display: none;\n",
              "      fill: #1967D2;\n",
              "      height: 32px;\n",
              "      padding: 0 0 0 0;\n",
              "      width: 32px;\n",
              "    }\n",
              "\n",
              "    .colab-df-convert:hover {\n",
              "      background-color: #E2EBFA;\n",
              "      box-shadow: 0px 1px 2px rgba(60, 64, 67, 0.3), 0px 1px 3px 1px rgba(60, 64, 67, 0.15);\n",
              "      fill: #174EA6;\n",
              "    }\n",
              "\n",
              "    .colab-df-buttons div {\n",
              "      margin-bottom: 4px;\n",
              "    }\n",
              "\n",
              "    [theme=dark] .colab-df-convert {\n",
              "      background-color: #3B4455;\n",
              "      fill: #D2E3FC;\n",
              "    }\n",
              "\n",
              "    [theme=dark] .colab-df-convert:hover {\n",
              "      background-color: #434B5C;\n",
              "      box-shadow: 0px 1px 3px 1px rgba(0, 0, 0, 0.15);\n",
              "      filter: drop-shadow(0px 1px 2px rgba(0, 0, 0, 0.3));\n",
              "      fill: #FFFFFF;\n",
              "    }\n",
              "  </style>\n",
              "\n",
              "    <script>\n",
              "      const buttonEl =\n",
              "        document.querySelector('#df-eb608f9f-2428-4d67-87ad-1ccbc149a26a button.colab-df-convert');\n",
              "      buttonEl.style.display =\n",
              "        google.colab.kernel.accessAllowed ? 'block' : 'none';\n",
              "\n",
              "      async function convertToInteractive(key) {\n",
              "        const element = document.querySelector('#df-eb608f9f-2428-4d67-87ad-1ccbc149a26a');\n",
              "        const dataTable =\n",
              "          await google.colab.kernel.invokeFunction('convertToInteractive',\n",
              "                                                    [key], {});\n",
              "        if (!dataTable) return;\n",
              "\n",
              "        const docLinkHtml = 'Like what you see? Visit the ' +\n",
              "          '<a target=\"_blank\" href=https://colab.research.google.com/notebooks/data_table.ipynb>data table notebook</a>'\n",
              "          + ' to learn more about interactive tables.';\n",
              "        element.innerHTML = '';\n",
              "        dataTable['output_type'] = 'display_data';\n",
              "        await google.colab.output.renderOutput(dataTable, element);\n",
              "        const docLink = document.createElement('div');\n",
              "        docLink.innerHTML = docLinkHtml;\n",
              "        element.appendChild(docLink);\n",
              "      }\n",
              "    </script>\n",
              "  </div>\n",
              "\n",
              "\n",
              "<div id=\"df-b36add5b-53bb-463b-aeb9-3ed901364471\">\n",
              "  <button class=\"colab-df-quickchart\" onclick=\"quickchart('df-b36add5b-53bb-463b-aeb9-3ed901364471')\"\n",
              "            title=\"Suggest charts\"\n",
              "            style=\"display:none;\">\n",
              "\n",
              "<svg xmlns=\"http://www.w3.org/2000/svg\" height=\"24px\"viewBox=\"0 0 24 24\"\n",
              "     width=\"24px\">\n",
              "    <g>\n",
              "        <path d=\"M19 3H5c-1.1 0-2 .9-2 2v14c0 1.1.9 2 2 2h14c1.1 0 2-.9 2-2V5c0-1.1-.9-2-2-2zM9 17H7v-7h2v7zm4 0h-2V7h2v10zm4 0h-2v-4h2v4z\"/>\n",
              "    </g>\n",
              "</svg>\n",
              "  </button>\n",
              "\n",
              "<style>\n",
              "  .colab-df-quickchart {\n",
              "      --bg-color: #E8F0FE;\n",
              "      --fill-color: #1967D2;\n",
              "      --hover-bg-color: #E2EBFA;\n",
              "      --hover-fill-color: #174EA6;\n",
              "      --disabled-fill-color: #AAA;\n",
              "      --disabled-bg-color: #DDD;\n",
              "  }\n",
              "\n",
              "  [theme=dark] .colab-df-quickchart {\n",
              "      --bg-color: #3B4455;\n",
              "      --fill-color: #D2E3FC;\n",
              "      --hover-bg-color: #434B5C;\n",
              "      --hover-fill-color: #FFFFFF;\n",
              "      --disabled-bg-color: #3B4455;\n",
              "      --disabled-fill-color: #666;\n",
              "  }\n",
              "\n",
              "  .colab-df-quickchart {\n",
              "    background-color: var(--bg-color);\n",
              "    border: none;\n",
              "    border-radius: 50%;\n",
              "    cursor: pointer;\n",
              "    display: none;\n",
              "    fill: var(--fill-color);\n",
              "    height: 32px;\n",
              "    padding: 0;\n",
              "    width: 32px;\n",
              "  }\n",
              "\n",
              "  .colab-df-quickchart:hover {\n",
              "    background-color: var(--hover-bg-color);\n",
              "    box-shadow: 0 1px 2px rgba(60, 64, 67, 0.3), 0 1px 3px 1px rgba(60, 64, 67, 0.15);\n",
              "    fill: var(--button-hover-fill-color);\n",
              "  }\n",
              "\n",
              "  .colab-df-quickchart-complete:disabled,\n",
              "  .colab-df-quickchart-complete:disabled:hover {\n",
              "    background-color: var(--disabled-bg-color);\n",
              "    fill: var(--disabled-fill-color);\n",
              "    box-shadow: none;\n",
              "  }\n",
              "\n",
              "  .colab-df-spinner {\n",
              "    border: 2px solid var(--fill-color);\n",
              "    border-color: transparent;\n",
              "    border-bottom-color: var(--fill-color);\n",
              "    animation:\n",
              "      spin 1s steps(1) infinite;\n",
              "  }\n",
              "\n",
              "  @keyframes spin {\n",
              "    0% {\n",
              "      border-color: transparent;\n",
              "      border-bottom-color: var(--fill-color);\n",
              "      border-left-color: var(--fill-color);\n",
              "    }\n",
              "    20% {\n",
              "      border-color: transparent;\n",
              "      border-left-color: var(--fill-color);\n",
              "      border-top-color: var(--fill-color);\n",
              "    }\n",
              "    30% {\n",
              "      border-color: transparent;\n",
              "      border-left-color: var(--fill-color);\n",
              "      border-top-color: var(--fill-color);\n",
              "      border-right-color: var(--fill-color);\n",
              "    }\n",
              "    40% {\n",
              "      border-color: transparent;\n",
              "      border-right-color: var(--fill-color);\n",
              "      border-top-color: var(--fill-color);\n",
              "    }\n",
              "    60% {\n",
              "      border-color: transparent;\n",
              "      border-right-color: var(--fill-color);\n",
              "    }\n",
              "    80% {\n",
              "      border-color: transparent;\n",
              "      border-right-color: var(--fill-color);\n",
              "      border-bottom-color: var(--fill-color);\n",
              "    }\n",
              "    90% {\n",
              "      border-color: transparent;\n",
              "      border-bottom-color: var(--fill-color);\n",
              "    }\n",
              "  }\n",
              "</style>\n",
              "\n",
              "  <script>\n",
              "    async function quickchart(key) {\n",
              "      const quickchartButtonEl =\n",
              "        document.querySelector('#' + key + ' button');\n",
              "      quickchartButtonEl.disabled = true;  // To prevent multiple clicks.\n",
              "      quickchartButtonEl.classList.add('colab-df-spinner');\n",
              "      try {\n",
              "        const charts = await google.colab.kernel.invokeFunction(\n",
              "            'suggestCharts', [key], {});\n",
              "      } catch (error) {\n",
              "        console.error('Error during call to suggestCharts:', error);\n",
              "      }\n",
              "      quickchartButtonEl.classList.remove('colab-df-spinner');\n",
              "      quickchartButtonEl.classList.add('colab-df-quickchart-complete');\n",
              "    }\n",
              "    (() => {\n",
              "      let quickchartButtonEl =\n",
              "        document.querySelector('#df-b36add5b-53bb-463b-aeb9-3ed901364471 button');\n",
              "      quickchartButtonEl.style.display =\n",
              "        google.colab.kernel.accessAllowed ? 'block' : 'none';\n",
              "    })();\n",
              "  </script>\n",
              "</div>\n",
              "\n",
              "  <div id=\"id_66768e3e-3f77-4314-9e2b-9f16fece5acd\">\n",
              "    <style>\n",
              "      .colab-df-generate {\n",
              "        background-color: #E8F0FE;\n",
              "        border: none;\n",
              "        border-radius: 50%;\n",
              "        cursor: pointer;\n",
              "        display: none;\n",
              "        fill: #1967D2;\n",
              "        height: 32px;\n",
              "        padding: 0 0 0 0;\n",
              "        width: 32px;\n",
              "      }\n",
              "\n",
              "      .colab-df-generate:hover {\n",
              "        background-color: #E2EBFA;\n",
              "        box-shadow: 0px 1px 2px rgba(60, 64, 67, 0.3), 0px 1px 3px 1px rgba(60, 64, 67, 0.15);\n",
              "        fill: #174EA6;\n",
              "      }\n",
              "\n",
              "      [theme=dark] .colab-df-generate {\n",
              "        background-color: #3B4455;\n",
              "        fill: #D2E3FC;\n",
              "      }\n",
              "\n",
              "      [theme=dark] .colab-df-generate:hover {\n",
              "        background-color: #434B5C;\n",
              "        box-shadow: 0px 1px 3px 1px rgba(0, 0, 0, 0.15);\n",
              "        filter: drop-shadow(0px 1px 2px rgba(0, 0, 0, 0.3));\n",
              "        fill: #FFFFFF;\n",
              "      }\n",
              "    </style>\n",
              "    <button class=\"colab-df-generate\" onclick=\"generateWithVariable('data')\"\n",
              "            title=\"Generate code using this dataframe.\"\n",
              "            style=\"display:none;\">\n",
              "\n",
              "  <svg xmlns=\"http://www.w3.org/2000/svg\" height=\"24px\"viewBox=\"0 0 24 24\"\n",
              "       width=\"24px\">\n",
              "    <path d=\"M7,19H8.4L18.45,9,17,7.55,7,17.6ZM5,21V16.75L18.45,3.32a2,2,0,0,1,2.83,0l1.4,1.43a1.91,1.91,0,0,1,.58,1.4,1.91,1.91,0,0,1-.58,1.4L9.25,21ZM18.45,9,17,7.55Zm-12,3A5.31,5.31,0,0,0,4.9,8.1,5.31,5.31,0,0,0,1,6.5,5.31,5.31,0,0,0,4.9,4.9,5.31,5.31,0,0,0,6.5,1,5.31,5.31,0,0,0,8.1,4.9,5.31,5.31,0,0,0,12,6.5,5.46,5.46,0,0,0,6.5,12Z\"/>\n",
              "  </svg>\n",
              "    </button>\n",
              "    <script>\n",
              "      (() => {\n",
              "      const buttonEl =\n",
              "        document.querySelector('#id_66768e3e-3f77-4314-9e2b-9f16fece5acd button.colab-df-generate');\n",
              "      buttonEl.style.display =\n",
              "        google.colab.kernel.accessAllowed ? 'block' : 'none';\n",
              "\n",
              "      buttonEl.onclick = () => {\n",
              "        google.colab.notebook.generateWithVariable('data');\n",
              "      }\n",
              "      })();\n",
              "    </script>\n",
              "  </div>\n",
              "\n",
              "    </div>\n",
              "  </div>\n"
            ],
            "application/vnd.google.colaboratory.intrinsic+json": {
              "type": "dataframe",
              "variable_name": "data"
            }
          },
          "metadata": {},
          "execution_count": 99
        }
      ]
    },
    {
      "cell_type": "code",
      "source": [
        "data.columns"
      ],
      "metadata": {
        "id": "aTbeis2l8NXM",
        "colab": {
          "base_uri": "https://localhost:8080/"
        },
        "outputId": "d45a1a95-8ac8-4f5f-fc64-325c465ca694"
      },
      "execution_count": 100,
      "outputs": [
        {
          "output_type": "execute_result",
          "data": {
            "text/plain": [
              "Index(['Unnamed: 0', 'merchant', 'category', 'amt', 'is_M', 'state', 'lat',\n",
              "       'long', 'city_pop', 'job', 'merch_lat', 'merch_long', 'is_fraud',\n",
              "       'trans_date', 'trans_time', 'day_of_week', 'cc_id', 'merchant_id',\n",
              "       'merchant_fraud_rate', 'category_id', 'category_fraud_rate', 'state_id',\n",
              "       'state_fraud_rate', 'job_id', 'job_fraud_rate', 'Age',\n",
              "       'distance_from_merchant', 'rounded_merch_lat', 'rounded_merch_long',\n",
              "       'is_new_merchant', 'distance_from_last_transaction',\n",
              "       'transaction_datetime', 'transaction_velocity_1h',\n",
              "       'transaction_velocity_24h', 'time_since_last_transaction',\n",
              "       'mad_score_amount', 'max_transaction_last_24h',\n",
              "       'avg_transaction_last_24h', 'amount_to_max_ratio_24h',\n",
              "       'amount_to_avg_ratio_24h'],\n",
              "      dtype='object')"
            ]
          },
          "metadata": {},
          "execution_count": 100
        }
      ]
    },
    {
      "cell_type": "code",
      "source": [
        "test_data"
      ],
      "metadata": {
        "id": "Tq_fuLKMEIUU",
        "colab": {
          "base_uri": "https://localhost:8080/",
          "height": 739
        },
        "outputId": "e6beed46-af40-4ecc-b925-8a43261c877c"
      },
      "execution_count": 101,
      "outputs": [
        {
          "output_type": "execute_result",
          "data": {
            "text/plain": [
              "        Unnamed: 0                        merchant       category     amt  \\\n",
              "10036        10036                     DuBuque LLC    grocery_pos  315.45   \n",
              "10047        10047        Huel, Hammes and Witting    grocery_pos  279.78   \n",
              "10167        10167                  Murray-Smitham    grocery_pos  287.38   \n",
              "10193        10193                 Heidenreich PLC    grocery_pos  276.40   \n",
              "10206        10206                      Huels-Hahn  gas_transport    7.82   \n",
              "...            ...                             ...            ...     ...   \n",
              "552584      552584               Parisian and Sons  gas_transport   66.11   \n",
              "552892      552892               Bogisich-Homenick       misc_net    4.58   \n",
              "553559      553559                Erdman-Kertzmann  gas_transport   95.96   \n",
              "553560      553560                   Stracke-Lemke    grocery_pos  149.48   \n",
              "553883      553883  Roberts, Daniel and Macejkovic      kids_pets   20.55   \n",
              "\n",
              "        is_M state     lat     long  city_pop                          job  \\\n",
              "10036      1    NY  42.520 -78.6847      7728  Scientist, research (maths)   \n",
              "10047      1    NY  42.520 -78.6847      7728  Scientist, research (maths)   \n",
              "10167      1    NY  42.520 -78.6847      7728  Scientist, research (maths)   \n",
              "10193      1    NY  42.520 -78.6847      7728  Scientist, research (maths)   \n",
              "10206      1    NY  42.520 -78.6847      7728  Scientist, research (maths)   \n",
              "...      ...   ...     ...      ...       ...                          ...   \n",
              "552584     1    IL  41.173 -89.2187       532       Audiological scientist   \n",
              "552892     1    IL  41.173 -89.2187       532       Audiological scientist   \n",
              "553559     1    IL  41.173 -89.2187       532       Audiological scientist   \n",
              "553560     1    IL  41.173 -89.2187       532       Audiological scientist   \n",
              "553883     1    IL  41.173 -89.2187       532       Audiological scientist   \n",
              "\n",
              "        ...  distance_from_last_transaction  transaction_datetime  \\\n",
              "10036   ...                           0.000   2020-06-24 00:26:45   \n",
              "10047   ...                          74.884   2020-06-24 00:44:24   \n",
              "10167   ...                          68.045   2020-06-24 02:56:50   \n",
              "10193   ...                         115.076   2020-06-24 03:21:56   \n",
              "10206   ...                         139.359   2020-06-24 03:33:40   \n",
              "...     ...                             ...                   ...   \n",
              "552584  ...                         110.438   2020-12-31 02:10:10   \n",
              "552892  ...                          95.794   2020-12-31 05:13:35   \n",
              "553559  ...                          73.386   2020-12-31 11:15:44   \n",
              "553560  ...                         109.396   2020-12-31 11:17:25   \n",
              "553883  ...                          92.996   2020-12-31 13:24:36   \n",
              "\n",
              "        transaction_velocity_1h transaction_velocity_24h  \\\n",
              "10036                         0                        0   \n",
              "10047                         1                        1   \n",
              "10167                         0                        2   \n",
              "10193                         1                        3   \n",
              "10206                         2                        4   \n",
              "...                         ...                      ...   \n",
              "552584                        0                        6   \n",
              "552892                        0                        6   \n",
              "553559                        0                        7   \n",
              "553560                        1                        8   \n",
              "553883                        0                        7   \n",
              "\n",
              "       time_since_last_transaction  mad_score_amount  \\\n",
              "10036                          0.0          0.000000   \n",
              "10047                       1059.0         -1.000000   \n",
              "10167                       7946.0          0.000000   \n",
              "10193                       1506.0         -1.307832   \n",
              "10206                        704.0        -35.784211   \n",
              "...                            ...               ...   \n",
              "552584                      8077.0          0.639829   \n",
              "552892                     11005.0         -1.110224   \n",
              "553559                     21729.0          1.486932   \n",
              "553560                       101.0          2.992359   \n",
              "553883                      7631.0         -0.655398   \n",
              "\n",
              "        max_transaction_last_24h  avg_transaction_last_24h  \\\n",
              "10036                     315.45                315.450000   \n",
              "10047                     315.45                297.615000   \n",
              "10167                     315.45                294.203333   \n",
              "10193                     315.45                289.752500   \n",
              "10206                     315.45                233.366000   \n",
              "...                          ...                       ...   \n",
              "552584                    327.73                 91.812857   \n",
              "552892                    327.73                 84.262857   \n",
              "553559                    327.73                 85.725000   \n",
              "553560                    327.73                 92.808889   \n",
              "553883                    149.48                 65.761250   \n",
              "\n",
              "        amount_to_max_ratio_24h  amount_to_avg_ratio_24h  \n",
              "10036                  1.000000                 1.000000  \n",
              "10047                  0.886923                 0.940074  \n",
              "10167                  0.911016                 0.976807  \n",
              "10193                  0.876209                 0.953918  \n",
              "10206                  0.024790                 0.033510  \n",
              "...                         ...                      ...  \n",
              "552584                 0.201721                 0.720052  \n",
              "552892                 0.013975                 0.054354  \n",
              "553559                 0.292802                 1.119393  \n",
              "553560                 0.456107                 1.610622  \n",
              "553883                 0.137477                 0.312494  \n",
              "\n",
              "[555719 rows x 40 columns]"
            ],
            "text/html": [
              "\n",
              "  <div id=\"df-2f2e054b-68af-4ce6-9ff1-c3a23252f5c1\" class=\"colab-df-container\">\n",
              "    <div>\n",
              "<style scoped>\n",
              "    .dataframe tbody tr th:only-of-type {\n",
              "        vertical-align: middle;\n",
              "    }\n",
              "\n",
              "    .dataframe tbody tr th {\n",
              "        vertical-align: top;\n",
              "    }\n",
              "\n",
              "    .dataframe thead th {\n",
              "        text-align: right;\n",
              "    }\n",
              "</style>\n",
              "<table border=\"1\" class=\"dataframe\">\n",
              "  <thead>\n",
              "    <tr style=\"text-align: right;\">\n",
              "      <th></th>\n",
              "      <th>Unnamed: 0</th>\n",
              "      <th>merchant</th>\n",
              "      <th>category</th>\n",
              "      <th>amt</th>\n",
              "      <th>is_M</th>\n",
              "      <th>state</th>\n",
              "      <th>lat</th>\n",
              "      <th>long</th>\n",
              "      <th>city_pop</th>\n",
              "      <th>job</th>\n",
              "      <th>...</th>\n",
              "      <th>distance_from_last_transaction</th>\n",
              "      <th>transaction_datetime</th>\n",
              "      <th>transaction_velocity_1h</th>\n",
              "      <th>transaction_velocity_24h</th>\n",
              "      <th>time_since_last_transaction</th>\n",
              "      <th>mad_score_amount</th>\n",
              "      <th>max_transaction_last_24h</th>\n",
              "      <th>avg_transaction_last_24h</th>\n",
              "      <th>amount_to_max_ratio_24h</th>\n",
              "      <th>amount_to_avg_ratio_24h</th>\n",
              "    </tr>\n",
              "  </thead>\n",
              "  <tbody>\n",
              "    <tr>\n",
              "      <th>10036</th>\n",
              "      <td>10036</td>\n",
              "      <td>DuBuque LLC</td>\n",
              "      <td>grocery_pos</td>\n",
              "      <td>315.45</td>\n",
              "      <td>1</td>\n",
              "      <td>NY</td>\n",
              "      <td>42.520</td>\n",
              "      <td>-78.6847</td>\n",
              "      <td>7728</td>\n",
              "      <td>Scientist, research (maths)</td>\n",
              "      <td>...</td>\n",
              "      <td>0.000</td>\n",
              "      <td>2020-06-24 00:26:45</td>\n",
              "      <td>0</td>\n",
              "      <td>0</td>\n",
              "      <td>0.0</td>\n",
              "      <td>0.000000</td>\n",
              "      <td>315.45</td>\n",
              "      <td>315.450000</td>\n",
              "      <td>1.000000</td>\n",
              "      <td>1.000000</td>\n",
              "    </tr>\n",
              "    <tr>\n",
              "      <th>10047</th>\n",
              "      <td>10047</td>\n",
              "      <td>Huel, Hammes and Witting</td>\n",
              "      <td>grocery_pos</td>\n",
              "      <td>279.78</td>\n",
              "      <td>1</td>\n",
              "      <td>NY</td>\n",
              "      <td>42.520</td>\n",
              "      <td>-78.6847</td>\n",
              "      <td>7728</td>\n",
              "      <td>Scientist, research (maths)</td>\n",
              "      <td>...</td>\n",
              "      <td>74.884</td>\n",
              "      <td>2020-06-24 00:44:24</td>\n",
              "      <td>1</td>\n",
              "      <td>1</td>\n",
              "      <td>1059.0</td>\n",
              "      <td>-1.000000</td>\n",
              "      <td>315.45</td>\n",
              "      <td>297.615000</td>\n",
              "      <td>0.886923</td>\n",
              "      <td>0.940074</td>\n",
              "    </tr>\n",
              "    <tr>\n",
              "      <th>10167</th>\n",
              "      <td>10167</td>\n",
              "      <td>Murray-Smitham</td>\n",
              "      <td>grocery_pos</td>\n",
              "      <td>287.38</td>\n",
              "      <td>1</td>\n",
              "      <td>NY</td>\n",
              "      <td>42.520</td>\n",
              "      <td>-78.6847</td>\n",
              "      <td>7728</td>\n",
              "      <td>Scientist, research (maths)</td>\n",
              "      <td>...</td>\n",
              "      <td>68.045</td>\n",
              "      <td>2020-06-24 02:56:50</td>\n",
              "      <td>0</td>\n",
              "      <td>2</td>\n",
              "      <td>7946.0</td>\n",
              "      <td>0.000000</td>\n",
              "      <td>315.45</td>\n",
              "      <td>294.203333</td>\n",
              "      <td>0.911016</td>\n",
              "      <td>0.976807</td>\n",
              "    </tr>\n",
              "    <tr>\n",
              "      <th>10193</th>\n",
              "      <td>10193</td>\n",
              "      <td>Heidenreich PLC</td>\n",
              "      <td>grocery_pos</td>\n",
              "      <td>276.40</td>\n",
              "      <td>1</td>\n",
              "      <td>NY</td>\n",
              "      <td>42.520</td>\n",
              "      <td>-78.6847</td>\n",
              "      <td>7728</td>\n",
              "      <td>Scientist, research (maths)</td>\n",
              "      <td>...</td>\n",
              "      <td>115.076</td>\n",
              "      <td>2020-06-24 03:21:56</td>\n",
              "      <td>1</td>\n",
              "      <td>3</td>\n",
              "      <td>1506.0</td>\n",
              "      <td>-1.307832</td>\n",
              "      <td>315.45</td>\n",
              "      <td>289.752500</td>\n",
              "      <td>0.876209</td>\n",
              "      <td>0.953918</td>\n",
              "    </tr>\n",
              "    <tr>\n",
              "      <th>10206</th>\n",
              "      <td>10206</td>\n",
              "      <td>Huels-Hahn</td>\n",
              "      <td>gas_transport</td>\n",
              "      <td>7.82</td>\n",
              "      <td>1</td>\n",
              "      <td>NY</td>\n",
              "      <td>42.520</td>\n",
              "      <td>-78.6847</td>\n",
              "      <td>7728</td>\n",
              "      <td>Scientist, research (maths)</td>\n",
              "      <td>...</td>\n",
              "      <td>139.359</td>\n",
              "      <td>2020-06-24 03:33:40</td>\n",
              "      <td>2</td>\n",
              "      <td>4</td>\n",
              "      <td>704.0</td>\n",
              "      <td>-35.784211</td>\n",
              "      <td>315.45</td>\n",
              "      <td>233.366000</td>\n",
              "      <td>0.024790</td>\n",
              "      <td>0.033510</td>\n",
              "    </tr>\n",
              "    <tr>\n",
              "      <th>...</th>\n",
              "      <td>...</td>\n",
              "      <td>...</td>\n",
              "      <td>...</td>\n",
              "      <td>...</td>\n",
              "      <td>...</td>\n",
              "      <td>...</td>\n",
              "      <td>...</td>\n",
              "      <td>...</td>\n",
              "      <td>...</td>\n",
              "      <td>...</td>\n",
              "      <td>...</td>\n",
              "      <td>...</td>\n",
              "      <td>...</td>\n",
              "      <td>...</td>\n",
              "      <td>...</td>\n",
              "      <td>...</td>\n",
              "      <td>...</td>\n",
              "      <td>...</td>\n",
              "      <td>...</td>\n",
              "      <td>...</td>\n",
              "      <td>...</td>\n",
              "    </tr>\n",
              "    <tr>\n",
              "      <th>552584</th>\n",
              "      <td>552584</td>\n",
              "      <td>Parisian and Sons</td>\n",
              "      <td>gas_transport</td>\n",
              "      <td>66.11</td>\n",
              "      <td>1</td>\n",
              "      <td>IL</td>\n",
              "      <td>41.173</td>\n",
              "      <td>-89.2187</td>\n",
              "      <td>532</td>\n",
              "      <td>Audiological scientist</td>\n",
              "      <td>...</td>\n",
              "      <td>110.438</td>\n",
              "      <td>2020-12-31 02:10:10</td>\n",
              "      <td>0</td>\n",
              "      <td>6</td>\n",
              "      <td>8077.0</td>\n",
              "      <td>0.639829</td>\n",
              "      <td>327.73</td>\n",
              "      <td>91.812857</td>\n",
              "      <td>0.201721</td>\n",
              "      <td>0.720052</td>\n",
              "    </tr>\n",
              "    <tr>\n",
              "      <th>552892</th>\n",
              "      <td>552892</td>\n",
              "      <td>Bogisich-Homenick</td>\n",
              "      <td>misc_net</td>\n",
              "      <td>4.58</td>\n",
              "      <td>1</td>\n",
              "      <td>IL</td>\n",
              "      <td>41.173</td>\n",
              "      <td>-89.2187</td>\n",
              "      <td>532</td>\n",
              "      <td>Audiological scientist</td>\n",
              "      <td>...</td>\n",
              "      <td>95.794</td>\n",
              "      <td>2020-12-31 05:13:35</td>\n",
              "      <td>0</td>\n",
              "      <td>6</td>\n",
              "      <td>11005.0</td>\n",
              "      <td>-1.110224</td>\n",
              "      <td>327.73</td>\n",
              "      <td>84.262857</td>\n",
              "      <td>0.013975</td>\n",
              "      <td>0.054354</td>\n",
              "    </tr>\n",
              "    <tr>\n",
              "      <th>553559</th>\n",
              "      <td>553559</td>\n",
              "      <td>Erdman-Kertzmann</td>\n",
              "      <td>gas_transport</td>\n",
              "      <td>95.96</td>\n",
              "      <td>1</td>\n",
              "      <td>IL</td>\n",
              "      <td>41.173</td>\n",
              "      <td>-89.2187</td>\n",
              "      <td>532</td>\n",
              "      <td>Audiological scientist</td>\n",
              "      <td>...</td>\n",
              "      <td>73.386</td>\n",
              "      <td>2020-12-31 11:15:44</td>\n",
              "      <td>0</td>\n",
              "      <td>7</td>\n",
              "      <td>21729.0</td>\n",
              "      <td>1.486932</td>\n",
              "      <td>327.73</td>\n",
              "      <td>85.725000</td>\n",
              "      <td>0.292802</td>\n",
              "      <td>1.119393</td>\n",
              "    </tr>\n",
              "    <tr>\n",
              "      <th>553560</th>\n",
              "      <td>553560</td>\n",
              "      <td>Stracke-Lemke</td>\n",
              "      <td>grocery_pos</td>\n",
              "      <td>149.48</td>\n",
              "      <td>1</td>\n",
              "      <td>IL</td>\n",
              "      <td>41.173</td>\n",
              "      <td>-89.2187</td>\n",
              "      <td>532</td>\n",
              "      <td>Audiological scientist</td>\n",
              "      <td>...</td>\n",
              "      <td>109.396</td>\n",
              "      <td>2020-12-31 11:17:25</td>\n",
              "      <td>1</td>\n",
              "      <td>8</td>\n",
              "      <td>101.0</td>\n",
              "      <td>2.992359</td>\n",
              "      <td>327.73</td>\n",
              "      <td>92.808889</td>\n",
              "      <td>0.456107</td>\n",
              "      <td>1.610622</td>\n",
              "    </tr>\n",
              "    <tr>\n",
              "      <th>553883</th>\n",
              "      <td>553883</td>\n",
              "      <td>Roberts, Daniel and Macejkovic</td>\n",
              "      <td>kids_pets</td>\n",
              "      <td>20.55</td>\n",
              "      <td>1</td>\n",
              "      <td>IL</td>\n",
              "      <td>41.173</td>\n",
              "      <td>-89.2187</td>\n",
              "      <td>532</td>\n",
              "      <td>Audiological scientist</td>\n",
              "      <td>...</td>\n",
              "      <td>92.996</td>\n",
              "      <td>2020-12-31 13:24:36</td>\n",
              "      <td>0</td>\n",
              "      <td>7</td>\n",
              "      <td>7631.0</td>\n",
              "      <td>-0.655398</td>\n",
              "      <td>149.48</td>\n",
              "      <td>65.761250</td>\n",
              "      <td>0.137477</td>\n",
              "      <td>0.312494</td>\n",
              "    </tr>\n",
              "  </tbody>\n",
              "</table>\n",
              "<p>555719 rows × 40 columns</p>\n",
              "</div>\n",
              "    <div class=\"colab-df-buttons\">\n",
              "\n",
              "  <div class=\"colab-df-container\">\n",
              "    <button class=\"colab-df-convert\" onclick=\"convertToInteractive('df-2f2e054b-68af-4ce6-9ff1-c3a23252f5c1')\"\n",
              "            title=\"Convert this dataframe to an interactive table.\"\n",
              "            style=\"display:none;\">\n",
              "\n",
              "  <svg xmlns=\"http://www.w3.org/2000/svg\" height=\"24px\" viewBox=\"0 -960 960 960\">\n",
              "    <path d=\"M120-120v-720h720v720H120Zm60-500h600v-160H180v160Zm220 220h160v-160H400v160Zm0 220h160v-160H400v160ZM180-400h160v-160H180v160Zm440 0h160v-160H620v160ZM180-180h160v-160H180v160Zm440 0h160v-160H620v160Z\"/>\n",
              "  </svg>\n",
              "    </button>\n",
              "\n",
              "  <style>\n",
              "    .colab-df-container {\n",
              "      display:flex;\n",
              "      gap: 12px;\n",
              "    }\n",
              "\n",
              "    .colab-df-convert {\n",
              "      background-color: #E8F0FE;\n",
              "      border: none;\n",
              "      border-radius: 50%;\n",
              "      cursor: pointer;\n",
              "      display: none;\n",
              "      fill: #1967D2;\n",
              "      height: 32px;\n",
              "      padding: 0 0 0 0;\n",
              "      width: 32px;\n",
              "    }\n",
              "\n",
              "    .colab-df-convert:hover {\n",
              "      background-color: #E2EBFA;\n",
              "      box-shadow: 0px 1px 2px rgba(60, 64, 67, 0.3), 0px 1px 3px 1px rgba(60, 64, 67, 0.15);\n",
              "      fill: #174EA6;\n",
              "    }\n",
              "\n",
              "    .colab-df-buttons div {\n",
              "      margin-bottom: 4px;\n",
              "    }\n",
              "\n",
              "    [theme=dark] .colab-df-convert {\n",
              "      background-color: #3B4455;\n",
              "      fill: #D2E3FC;\n",
              "    }\n",
              "\n",
              "    [theme=dark] .colab-df-convert:hover {\n",
              "      background-color: #434B5C;\n",
              "      box-shadow: 0px 1px 3px 1px rgba(0, 0, 0, 0.15);\n",
              "      filter: drop-shadow(0px 1px 2px rgba(0, 0, 0, 0.3));\n",
              "      fill: #FFFFFF;\n",
              "    }\n",
              "  </style>\n",
              "\n",
              "    <script>\n",
              "      const buttonEl =\n",
              "        document.querySelector('#df-2f2e054b-68af-4ce6-9ff1-c3a23252f5c1 button.colab-df-convert');\n",
              "      buttonEl.style.display =\n",
              "        google.colab.kernel.accessAllowed ? 'block' : 'none';\n",
              "\n",
              "      async function convertToInteractive(key) {\n",
              "        const element = document.querySelector('#df-2f2e054b-68af-4ce6-9ff1-c3a23252f5c1');\n",
              "        const dataTable =\n",
              "          await google.colab.kernel.invokeFunction('convertToInteractive',\n",
              "                                                    [key], {});\n",
              "        if (!dataTable) return;\n",
              "\n",
              "        const docLinkHtml = 'Like what you see? Visit the ' +\n",
              "          '<a target=\"_blank\" href=https://colab.research.google.com/notebooks/data_table.ipynb>data table notebook</a>'\n",
              "          + ' to learn more about interactive tables.';\n",
              "        element.innerHTML = '';\n",
              "        dataTable['output_type'] = 'display_data';\n",
              "        await google.colab.output.renderOutput(dataTable, element);\n",
              "        const docLink = document.createElement('div');\n",
              "        docLink.innerHTML = docLinkHtml;\n",
              "        element.appendChild(docLink);\n",
              "      }\n",
              "    </script>\n",
              "  </div>\n",
              "\n",
              "\n",
              "<div id=\"df-d6d4062e-7a49-4685-823e-ce00f9fa2386\">\n",
              "  <button class=\"colab-df-quickchart\" onclick=\"quickchart('df-d6d4062e-7a49-4685-823e-ce00f9fa2386')\"\n",
              "            title=\"Suggest charts\"\n",
              "            style=\"display:none;\">\n",
              "\n",
              "<svg xmlns=\"http://www.w3.org/2000/svg\" height=\"24px\"viewBox=\"0 0 24 24\"\n",
              "     width=\"24px\">\n",
              "    <g>\n",
              "        <path d=\"M19 3H5c-1.1 0-2 .9-2 2v14c0 1.1.9 2 2 2h14c1.1 0 2-.9 2-2V5c0-1.1-.9-2-2-2zM9 17H7v-7h2v7zm4 0h-2V7h2v10zm4 0h-2v-4h2v4z\"/>\n",
              "    </g>\n",
              "</svg>\n",
              "  </button>\n",
              "\n",
              "<style>\n",
              "  .colab-df-quickchart {\n",
              "      --bg-color: #E8F0FE;\n",
              "      --fill-color: #1967D2;\n",
              "      --hover-bg-color: #E2EBFA;\n",
              "      --hover-fill-color: #174EA6;\n",
              "      --disabled-fill-color: #AAA;\n",
              "      --disabled-bg-color: #DDD;\n",
              "  }\n",
              "\n",
              "  [theme=dark] .colab-df-quickchart {\n",
              "      --bg-color: #3B4455;\n",
              "      --fill-color: #D2E3FC;\n",
              "      --hover-bg-color: #434B5C;\n",
              "      --hover-fill-color: #FFFFFF;\n",
              "      --disabled-bg-color: #3B4455;\n",
              "      --disabled-fill-color: #666;\n",
              "  }\n",
              "\n",
              "  .colab-df-quickchart {\n",
              "    background-color: var(--bg-color);\n",
              "    border: none;\n",
              "    border-radius: 50%;\n",
              "    cursor: pointer;\n",
              "    display: none;\n",
              "    fill: var(--fill-color);\n",
              "    height: 32px;\n",
              "    padding: 0;\n",
              "    width: 32px;\n",
              "  }\n",
              "\n",
              "  .colab-df-quickchart:hover {\n",
              "    background-color: var(--hover-bg-color);\n",
              "    box-shadow: 0 1px 2px rgba(60, 64, 67, 0.3), 0 1px 3px 1px rgba(60, 64, 67, 0.15);\n",
              "    fill: var(--button-hover-fill-color);\n",
              "  }\n",
              "\n",
              "  .colab-df-quickchart-complete:disabled,\n",
              "  .colab-df-quickchart-complete:disabled:hover {\n",
              "    background-color: var(--disabled-bg-color);\n",
              "    fill: var(--disabled-fill-color);\n",
              "    box-shadow: none;\n",
              "  }\n",
              "\n",
              "  .colab-df-spinner {\n",
              "    border: 2px solid var(--fill-color);\n",
              "    border-color: transparent;\n",
              "    border-bottom-color: var(--fill-color);\n",
              "    animation:\n",
              "      spin 1s steps(1) infinite;\n",
              "  }\n",
              "\n",
              "  @keyframes spin {\n",
              "    0% {\n",
              "      border-color: transparent;\n",
              "      border-bottom-color: var(--fill-color);\n",
              "      border-left-color: var(--fill-color);\n",
              "    }\n",
              "    20% {\n",
              "      border-color: transparent;\n",
              "      border-left-color: var(--fill-color);\n",
              "      border-top-color: var(--fill-color);\n",
              "    }\n",
              "    30% {\n",
              "      border-color: transparent;\n",
              "      border-left-color: var(--fill-color);\n",
              "      border-top-color: var(--fill-color);\n",
              "      border-right-color: var(--fill-color);\n",
              "    }\n",
              "    40% {\n",
              "      border-color: transparent;\n",
              "      border-right-color: var(--fill-color);\n",
              "      border-top-color: var(--fill-color);\n",
              "    }\n",
              "    60% {\n",
              "      border-color: transparent;\n",
              "      border-right-color: var(--fill-color);\n",
              "    }\n",
              "    80% {\n",
              "      border-color: transparent;\n",
              "      border-right-color: var(--fill-color);\n",
              "      border-bottom-color: var(--fill-color);\n",
              "    }\n",
              "    90% {\n",
              "      border-color: transparent;\n",
              "      border-bottom-color: var(--fill-color);\n",
              "    }\n",
              "  }\n",
              "</style>\n",
              "\n",
              "  <script>\n",
              "    async function quickchart(key) {\n",
              "      const quickchartButtonEl =\n",
              "        document.querySelector('#' + key + ' button');\n",
              "      quickchartButtonEl.disabled = true;  // To prevent multiple clicks.\n",
              "      quickchartButtonEl.classList.add('colab-df-spinner');\n",
              "      try {\n",
              "        const charts = await google.colab.kernel.invokeFunction(\n",
              "            'suggestCharts', [key], {});\n",
              "      } catch (error) {\n",
              "        console.error('Error during call to suggestCharts:', error);\n",
              "      }\n",
              "      quickchartButtonEl.classList.remove('colab-df-spinner');\n",
              "      quickchartButtonEl.classList.add('colab-df-quickchart-complete');\n",
              "    }\n",
              "    (() => {\n",
              "      let quickchartButtonEl =\n",
              "        document.querySelector('#df-d6d4062e-7a49-4685-823e-ce00f9fa2386 button');\n",
              "      quickchartButtonEl.style.display =\n",
              "        google.colab.kernel.accessAllowed ? 'block' : 'none';\n",
              "    })();\n",
              "  </script>\n",
              "</div>\n",
              "\n",
              "  <div id=\"id_4dd61e2e-fd96-472d-93d5-ba38b466c2a0\">\n",
              "    <style>\n",
              "      .colab-df-generate {\n",
              "        background-color: #E8F0FE;\n",
              "        border: none;\n",
              "        border-radius: 50%;\n",
              "        cursor: pointer;\n",
              "        display: none;\n",
              "        fill: #1967D2;\n",
              "        height: 32px;\n",
              "        padding: 0 0 0 0;\n",
              "        width: 32px;\n",
              "      }\n",
              "\n",
              "      .colab-df-generate:hover {\n",
              "        background-color: #E2EBFA;\n",
              "        box-shadow: 0px 1px 2px rgba(60, 64, 67, 0.3), 0px 1px 3px 1px rgba(60, 64, 67, 0.15);\n",
              "        fill: #174EA6;\n",
              "      }\n",
              "\n",
              "      [theme=dark] .colab-df-generate {\n",
              "        background-color: #3B4455;\n",
              "        fill: #D2E3FC;\n",
              "      }\n",
              "\n",
              "      [theme=dark] .colab-df-generate:hover {\n",
              "        background-color: #434B5C;\n",
              "        box-shadow: 0px 1px 3px 1px rgba(0, 0, 0, 0.15);\n",
              "        filter: drop-shadow(0px 1px 2px rgba(0, 0, 0, 0.3));\n",
              "        fill: #FFFFFF;\n",
              "      }\n",
              "    </style>\n",
              "    <button class=\"colab-df-generate\" onclick=\"generateWithVariable('test_data')\"\n",
              "            title=\"Generate code using this dataframe.\"\n",
              "            style=\"display:none;\">\n",
              "\n",
              "  <svg xmlns=\"http://www.w3.org/2000/svg\" height=\"24px\"viewBox=\"0 0 24 24\"\n",
              "       width=\"24px\">\n",
              "    <path d=\"M7,19H8.4L18.45,9,17,7.55,7,17.6ZM5,21V16.75L18.45,3.32a2,2,0,0,1,2.83,0l1.4,1.43a1.91,1.91,0,0,1,.58,1.4,1.91,1.91,0,0,1-.58,1.4L9.25,21ZM18.45,9,17,7.55Zm-12,3A5.31,5.31,0,0,0,4.9,8.1,5.31,5.31,0,0,0,1,6.5,5.31,5.31,0,0,0,4.9,4.9,5.31,5.31,0,0,0,6.5,1,5.31,5.31,0,0,0,8.1,4.9,5.31,5.31,0,0,0,12,6.5,5.46,5.46,0,0,0,6.5,12Z\"/>\n",
              "  </svg>\n",
              "    </button>\n",
              "    <script>\n",
              "      (() => {\n",
              "      const buttonEl =\n",
              "        document.querySelector('#id_4dd61e2e-fd96-472d-93d5-ba38b466c2a0 button.colab-df-generate');\n",
              "      buttonEl.style.display =\n",
              "        google.colab.kernel.accessAllowed ? 'block' : 'none';\n",
              "\n",
              "      buttonEl.onclick = () => {\n",
              "        google.colab.notebook.generateWithVariable('test_data');\n",
              "      }\n",
              "      })();\n",
              "    </script>\n",
              "  </div>\n",
              "\n",
              "    </div>\n",
              "  </div>\n"
            ],
            "application/vnd.google.colaboratory.intrinsic+json": {
              "type": "dataframe",
              "variable_name": "test_data"
            }
          },
          "metadata": {},
          "execution_count": 101
        }
      ]
    },
    {
      "cell_type": "code",
      "source": [
        "if set(data.columns) == set(test_data.columns):\n",
        "    print(\"Kolumny są identyczne.\")\n",
        "else:\n",
        "    print(\"Kolumny się różnią.\")\n",
        "    print(\"Kolumny w 'data', których brakuje w 'test_data':\", set(data.columns) - set(test_data.columns))\n",
        "    print(\"Kolumny w 'test_data', których brakuje w 'data':\", set(test_data.columns) - set(data.columns))\n"
      ],
      "metadata": {
        "id": "1MXL34zNEJWc",
        "colab": {
          "base_uri": "https://localhost:8080/"
        },
        "outputId": "6dd229fc-7c5a-4d5c-eddb-2f6305ec2951"
      },
      "execution_count": 102,
      "outputs": [
        {
          "output_type": "stream",
          "name": "stdout",
          "text": [
            "Kolumny są identyczne.\n"
          ]
        }
      ]
    },
    {
      "cell_type": "markdown",
      "source": [
        "We can get rid of some columns that we were using to calculate another, that we do not need no more."
      ],
      "metadata": {
        "id": "OMo5DSHa8Xkr"
      }
    },
    {
      "cell_type": "code",
      "source": [
        "cols_to_delete=['Unnamed: 0','rounded_merch_lat','rounded_merch_long','transaction_datetime']"
      ],
      "metadata": {
        "id": "NKLoiBpY8OMF"
      },
      "execution_count": 103,
      "outputs": []
    },
    {
      "cell_type": "code",
      "source": [
        "data = data.drop(columns=cols_to_delete)\n",
        "test_data = test_data.drop(columns=cols_to_delete)"
      ],
      "metadata": {
        "id": "9zc5N11H807q"
      },
      "execution_count": 104,
      "outputs": []
    },
    {
      "cell_type": "code",
      "source": [
        "print(data.dtypes)\n"
      ],
      "metadata": {
        "id": "WwPuzfoh9JQ3",
        "colab": {
          "base_uri": "https://localhost:8080/"
        },
        "outputId": "49b165ba-a101-45ec-b84b-3b93554cc18f"
      },
      "execution_count": 105,
      "outputs": [
        {
          "output_type": "stream",
          "name": "stdout",
          "text": [
            "merchant                                   object\n",
            "category                                   object\n",
            "amt                                       float64\n",
            "is_M                                        int64\n",
            "state                                      object\n",
            "lat                                       float64\n",
            "long                                      float64\n",
            "city_pop                                    int64\n",
            "job                                        object\n",
            "merch_lat                                 float64\n",
            "merch_long                                float64\n",
            "is_fraud                                    int64\n",
            "trans_date                         datetime64[ns]\n",
            "trans_time                        timedelta64[ns]\n",
            "day_of_week                                 int32\n",
            "cc_id                                       int64\n",
            "merchant_id                                 int64\n",
            "merchant_fraud_rate                       float64\n",
            "category_id                                 int64\n",
            "category_fraud_rate                       float64\n",
            "state_id                                    int64\n",
            "state_fraud_rate                          float64\n",
            "job_id                                    float64\n",
            "job_fraud_rate                            float64\n",
            "Age                                         int64\n",
            "distance_from_merchant                    float64\n",
            "is_new_merchant                             int64\n",
            "distance_from_last_transaction            float64\n",
            "transaction_velocity_1h                     int64\n",
            "transaction_velocity_24h                    int64\n",
            "time_since_last_transaction               float64\n",
            "mad_score_amount                          float64\n",
            "max_transaction_last_24h                  float64\n",
            "avg_transaction_last_24h                  float64\n",
            "amount_to_max_ratio_24h                   float64\n",
            "amount_to_avg_ratio_24h                   float64\n",
            "dtype: object\n"
          ]
        }
      ]
    },
    {
      "cell_type": "code",
      "source": [
        "data = data.astype({col: 'string' for col in data.select_dtypes(include=['object']).columns})\n",
        "\n",
        "print(data.dtypes)\n"
      ],
      "metadata": {
        "id": "j3tGbHS4_XDg",
        "colab": {
          "base_uri": "https://localhost:8080/"
        },
        "outputId": "a62af3d5-45f1-475f-efa3-102fbc701307"
      },
      "execution_count": 106,
      "outputs": [
        {
          "output_type": "stream",
          "name": "stdout",
          "text": [
            "merchant                           string[python]\n",
            "category                           string[python]\n",
            "amt                                       float64\n",
            "is_M                                        int64\n",
            "state                              string[python]\n",
            "lat                                       float64\n",
            "long                                      float64\n",
            "city_pop                                    int64\n",
            "job                                string[python]\n",
            "merch_lat                                 float64\n",
            "merch_long                                float64\n",
            "is_fraud                                    int64\n",
            "trans_date                         datetime64[ns]\n",
            "trans_time                        timedelta64[ns]\n",
            "day_of_week                                 int32\n",
            "cc_id                                       int64\n",
            "merchant_id                                 int64\n",
            "merchant_fraud_rate                       float64\n",
            "category_id                                 int64\n",
            "category_fraud_rate                       float64\n",
            "state_id                                    int64\n",
            "state_fraud_rate                          float64\n",
            "job_id                                    float64\n",
            "job_fraud_rate                            float64\n",
            "Age                                         int64\n",
            "distance_from_merchant                    float64\n",
            "is_new_merchant                             int64\n",
            "distance_from_last_transaction            float64\n",
            "transaction_velocity_1h                     int64\n",
            "transaction_velocity_24h                    int64\n",
            "time_since_last_transaction               float64\n",
            "mad_score_amount                          float64\n",
            "max_transaction_last_24h                  float64\n",
            "avg_transaction_last_24h                  float64\n",
            "amount_to_max_ratio_24h                   float64\n",
            "amount_to_avg_ratio_24h                   float64\n",
            "dtype: object\n"
          ]
        }
      ]
    },
    {
      "cell_type": "code",
      "source": [
        "# Sprawdzenie, czy kolumny mają takie same typy\n",
        "mismatch = [(col, data[col].dtype, test_data[col].dtype)\n",
        "            for col in data.columns if col in test_data.columns and data[col].dtype != test_data[col].dtype]\n",
        "\n",
        "if not mismatch:\n",
        "    print(\"Typy kolumn są identyczne w obu DataFrame'ach.\")\n",
        "else:\n",
        "    print(\"Różnice w typach kolumn:\")\n",
        "    for col, data_dtype, test_data_dtype in mismatch:\n",
        "        print(f\"Kolumna: {col}, data: {data_dtype}, test_data: {test_data_dtype}\")\n"
      ],
      "metadata": {
        "id": "hCOAmjYdFot3",
        "colab": {
          "base_uri": "https://localhost:8080/"
        },
        "outputId": "d48e2aa4-27b0-4bc0-a5c1-0739646fedba"
      },
      "execution_count": 107,
      "outputs": [
        {
          "output_type": "stream",
          "name": "stdout",
          "text": [
            "Różnice w typach kolumn:\n",
            "Kolumna: merchant, data: string, test_data: object\n",
            "Kolumna: category, data: string, test_data: object\n",
            "Kolumna: state, data: string, test_data: object\n",
            "Kolumna: job, data: string, test_data: object\n",
            "Kolumna: job_id, data: float64, test_data: int64\n"
          ]
        }
      ]
    },
    {
      "cell_type": "markdown",
      "source": [
        "\n",
        "Now our data is ready to use in Power BI reports and Training models."
      ],
      "metadata": {
        "id": "tAezDLJ6_VW3"
      }
    },
    {
      "cell_type": "code",
      "source": [
        "data.to_csv(\"/content/drive/Othercomputers/Mój komputer/PROJECTS/Fraud_detection/PREPROCESSED_DATA/TRAIN_fraud_data_preprocessed.CSV\", index=False)\n",
        "test_data.to_csv(\"/content/drive/Othercomputers/Mój komputer/PROJECTS/Fraud_detection/PREPROCESSED_DATA/TEST_fraud_data_preprocessed.CSV\", index=False)\n"
      ],
      "metadata": {
        "id": "NOUi4shJBwOL"
      },
      "execution_count": 108,
      "outputs": []
    },
    {
      "cell_type": "code",
      "source": [],
      "metadata": {
        "id": "J4_oRdUDC1FK"
      },
      "execution_count": 108,
      "outputs": []
    }
  ]
}